{
 "cells": [
  {
   "cell_type": "markdown",
   "id": "50055e8c",
   "metadata": {},
   "source": [
    "# Statistics Advance - 1 Assignmnent"
   ]
  },
  {
   "cell_type": "markdown",
   "id": "9e493656",
   "metadata": {},
   "source": [
    "---\n",
    "### **1. What is a random variable in probability theory?**"
   ]
  },
  {
   "cell_type": "markdown",
   "id": "5a14a664",
   "metadata": {},
   "source": [
    "A **random variable** is a function that assigns a numerical value to each possible outcome of a **random experiment**.\n",
    "\n",
    "* It provides a way to quantify outcomes of uncertain events.\n",
    "* Denoted typically by uppercase letters like $X$, $Y$, or $Z$.\n",
    "\n",
    "> **Example**:\n",
    "> In tossing a fair coin, let $X$ be a random variable that assigns:\n",
    ">\n",
    "> * $X = 1$ if the result is Heads\n",
    "> * $X = 0$ if the result is Tails"
   ]
  },
  {
   "cell_type": "markdown",
   "id": "d99c705b",
   "metadata": {},
   "source": [
    "---\n",
    "### **2. What are the types of random variables?**"
   ]
  },
  {
   "cell_type": "markdown",
   "id": "952a7b22",
   "metadata": {},
   "source": [
    "There are **two main types** of random variables:\n",
    "\n",
    "#### a) **Discrete Random Variable**\n",
    "\n",
    "* Takes on a **countable number** of possible values.\n",
    "* Often arises from **counting** events.\n",
    "\n",
    "> **Example**: Number of heads in 3 coin tosses (0, 1, 2, 3)\n",
    "\n",
    "#### b) **Continuous Random Variable**\n",
    "\n",
    "* Takes on **uncountably infinite** values over a **range or interval**.\n",
    "* Often arises from **measuring** quantities.\n",
    "\n",
    "> **Example**: The time (in seconds) it takes to complete a task."
   ]
  },
  {
   "cell_type": "markdown",
   "id": "b6c647fe",
   "metadata": {},
   "source": [
    "---\n",
    "### **3. What is the difference between discrete and continuous distributions?**"
   ]
  },
  {
   "cell_type": "markdown",
   "id": "627e37bb",
   "metadata": {},
   "source": [
    "| Feature                        | Discrete Distribution               | Continuous Distribution                           |\n",
    "| ------------------------------ | ----------------------------------- | ------------------------------------------------- |\n",
    "| **Values**                     | Countable (finite or infinite)      | Uncountably infinite (any value in an interval)   |\n",
    "| **Probability of Exact Value** | Can be non-zero: $P(X = x) > 0$     | Always zero: $P(X = x) = 0$                       |\n",
    "| **Examples**                   | Binomial, Poisson, Geometric        | Normal, Exponential, Uniform (continuous version) |\n",
    "| **Probability Representation** | Probability Mass Function (**PMF**) | Probability Density Function (**PDF**)            |\n",
    "\n",
    "> **Example**:\n",
    "> \n",
    "> * Discrete: Number of calls received per day (e.g., 0, 1, 2...)\n",
    "> * Continuous: Time between two phone calls (e.g., 2.3 seconds, 4.01 seconds)"
   ]
  },
  {
   "cell_type": "markdown",
   "id": "c62e07d8",
   "metadata": {},
   "source": [
    "---\n",
    "### **4. What are Probability Distribution Functions (PDF)?**"
   ]
  },
  {
   "cell_type": "markdown",
   "id": "aaf6154a",
   "metadata": {},
   "source": [
    "A **Probability Distribution Function (PDF)** describes the **likelihood** of a random variable taking on a particular value (for discrete variables) or falling within a particular range (for continuous variables).\n",
    "\n",
    "#### There are two interpretations depending on the type of variable:\n",
    "\n",
    "* **For Discrete Random Variables**:\n",
    "\n",
    "  * The PDF is actually called a **Probability Mass Function (PMF)**.\n",
    "  * It gives the probability of each possible value:\n",
    "\n",
    "    $$\n",
    "    P(X = x)\n",
    "    $$\n",
    "\n",
    "* **For Continuous Random Variables**:\n",
    "\n",
    "  * The PDF is a **probability density function**.\n",
    "  * It defines a curve where the **area under the curve** over an interval gives the probability:\n",
    "\n",
    "    $$\n",
    "    P(a \\leq X \\leq b) = \\int_a^b f(x) \\, dx\n",
    "    $$\n",
    "\n",
    "> For continuous variables, $P(X = x) = 0$, so only intervals matter."
   ]
  },
  {
   "cell_type": "markdown",
   "id": "60086a7a",
   "metadata": {},
   "source": [
    "---\n",
    "### **5. How do Cumulative Distribution Functions (CDF) differ from Probability Distribution Functions (PDF)?**"
   ]
  },
  {
   "cell_type": "markdown",
   "id": "77f89ab7",
   "metadata": {},
   "source": [
    "| Feature                  | **PDF (PMF/PDF)**                               | **CDF**                                              |\n",
    "| ------------------------ | ----------------------------------------------- | ---------------------------------------------------- |\n",
    "| **Definition**           | Describes probability at a point or density     | Describes probability **up to a point**              |\n",
    "| **Formula (Discrete)**   | $P(X = x)$                                      | $F(x) = P(X \\leq x) = \\sum_{t \\leq x} P(X = t)$      |\n",
    "| **Formula (Continuous)** | $f(x)$ (density function)                       | $F(x) = P(X \\leq x) = \\int_{-\\infty}^{x} f(t) \\, dt$ |\n",
    "| **Value Range**          | Non-negative values (can be > 1 for density)    | Always between 0 and 1                               |\n",
    "| **Shape**                | Can be jagged (discrete) or smooth (continuous) | Always non-decreasing, smooth or step-like           |\n",
    "\n",
    "> **Example**:\n",
    "> \n",
    "> For a continuous variable with PDF $f(x)$, the CDF $F(x)$ tells you the **total probability from -∞ up to x**."
   ]
  },
  {
   "cell_type": "markdown",
   "id": "f33a9dbe",
   "metadata": {},
   "source": [
    "---\n",
    "### **6. What is a Discrete Uniform Distribution?**"
   ]
  },
  {
   "cell_type": "markdown",
   "id": "d3cdaa58",
   "metadata": {},
   "source": [
    "A **Discrete Uniform Distribution** is a probability distribution where **all outcomes are equally likely**.\n",
    "\n",
    "#### Characteristics:\n",
    "\n",
    "* Each of the $n$ outcomes has the **same probability**:\n",
    "\n",
    "  $$\n",
    "  P(X = x) = \\frac{1}{n}, \\quad \\text{for each } x \\in \\{x_1, x_2, ..., x_n\\}\n",
    "  $$\n",
    "* Defined for **finite** number of values.\n",
    "\n",
    "> **Example**:\n",
    "> Rolling a fair 6-sided die:\n",
    ">\n",
    "> $$\n",
    "> P(X = 1) = P(X = 2) = \\dots = P(X = 6) = \\frac{1}{6}\n",
    "> $$\n",
    "\n",
    "All values have **equal weight**, and the distribution is flat if plotted."
   ]
  },
  {
   "cell_type": "markdown",
   "id": "a1aebe6d",
   "metadata": {},
   "source": [
    "---\n",
    "### **7. What are the key properties of a Bernoulli distribution?**"
   ]
  },
  {
   "cell_type": "markdown",
   "id": "54459787",
   "metadata": {},
   "source": [
    "A **Bernoulli distribution** models a **single trial** with only two possible outcomes:\n",
    "\n",
    "* **Success (1)** with probability $p$\n",
    "* **Failure (0)** with probability $1 - p$\n",
    "\n",
    "#### **Key Properties**:\n",
    "\n",
    "* **Random Variable**: $X \\in \\{0, 1\\}$\n",
    "* **Probability Mass Function (PMF)**:\n",
    "\n",
    "  $$\n",
    "  P(X = x) = p^x (1 - p)^{1 - x}, \\quad x \\in \\{0, 1\\}\n",
    "  $$\n",
    "* **Mean (Expected Value)**: $E[X] = p$\n",
    "* **Variance**: $\\text{Var}(X) = p(1 - p)$\n",
    "\n",
    "> **Example**: Tossing a biased coin with $p = 0.7$ for heads (success)."
   ]
  },
  {
   "cell_type": "markdown",
   "id": "661cca72",
   "metadata": {},
   "source": [
    "---\n",
    "### **8. What is the binomial distribution, and how is it used in probability?**"
   ]
  },
  {
   "cell_type": "markdown",
   "id": "b1b76ad6",
   "metadata": {},
   "source": [
    "A **Binomial distribution** models the number of **successes in $n$ independent Bernoulli trials**, each with success probability $p$.\n",
    "\n",
    "#### **Key Properties**:\n",
    "\n",
    "* **Random Variable**: $X \\in \\{0, 1, ..., n\\}$\n",
    "* **PMF**:\n",
    "\n",
    "  $$\n",
    "  P(X = k) = \\binom{n}{k} p^k (1 - p)^{n - k}\n",
    "  $$\n",
    "* **Mean**: $E[X] = np$\n",
    "* **Variance**: $\\text{Var}(X) = np(1 - p)$\n",
    "\n",
    "#### **Used when**:\n",
    "\n",
    "* You repeat an experiment **n times**\n",
    "* Each trial is **independent**\n",
    "* The probability of success is **constant**\n",
    "\n",
    "> **Example**: Probability of getting 3 heads in 5 tosses of a fair coin.\n",
    "> Use: $n = 5$, $p = 0.5$, $k = 3$"
   ]
  },
  {
   "cell_type": "markdown",
   "id": "651524af",
   "metadata": {},
   "source": [
    "---\n",
    "### **9. What is the Poisson distribution and where is it applied?**"
   ]
  },
  {
   "cell_type": "markdown",
   "id": "fbafb8d4",
   "metadata": {},
   "source": [
    "The **Poisson distribution** models the number of times an event occurs in a **fixed interval of time or space**, **given a constant average rate** and **independent events**.\n",
    "\n",
    "#### **Key Properties**:\n",
    "\n",
    "* **Parameter**: $\\lambda$ (average rate of occurrence)\n",
    "* **Random Variable**: $X \\in \\{0, 1, 2, \\dots\\}$\n",
    "* **PMF**:\n",
    "\n",
    "  $$\n",
    "  P(X = k) = \\frac{e^{-\\lambda} \\lambda^k}{k!}\n",
    "  $$\n",
    "* **Mean** and **Variance**:\n",
    "\n",
    "  $$\n",
    "  E[X] = \\lambda, \\quad \\text{Var}(X) = \\lambda\n",
    "  $$\n",
    "\n",
    "#### **Applications**:\n",
    "\n",
    "* Number of emails received per hour\n",
    "* Number of accidents at an intersection per week\n",
    "* Number of calls at a call center per minute\n",
    "\n",
    "> **Example**: If a website gets 3 visits per minute on average, what's the probability it gets exactly 5 visits in one minute?"
   ]
  },
  {
   "cell_type": "markdown",
   "id": "dbd04aec",
   "metadata": {},
   "source": [
    "---\n",
    "### **10. What is a Continuous Uniform Distribution?**"
   ]
  },
  {
   "cell_type": "markdown",
   "id": "035158f4",
   "metadata": {},
   "source": [
    "A **continuous uniform distribution** is a probability distribution where all values within a given interval are **equally likely**.\n",
    "\n",
    "#### **Definition**:\n",
    "\n",
    "If a random variable $X$ is uniformly distributed between $a$ and $b$, then:\n",
    "\n",
    "* $X \\sim \\text{Uniform}(a, b)$\n",
    "\n",
    "#### **Probability Density Function (PDF)**:\n",
    "\n",
    "$$\n",
    "f(x) = \n",
    "\\begin{cases}\n",
    "\\frac{1}{b - a}, & \\text{if } a \\leq x \\leq b \\\\\n",
    "0, & \\text{otherwise}\n",
    "\\end{cases}\n",
    "$$\n",
    "\n",
    "#### **Key Properties**:\n",
    "\n",
    "* **Mean**: $E[X] = \\frac{a + b}{2}$\n",
    "* **Variance**: $\\text{Var}(X) = \\frac{(b - a)^2}{12}$\n",
    "\n",
    "> **Example**: If you choose a random number between 2 and 6, the probability of getting any number in that range is uniformly distributed."
   ]
  },
  {
   "cell_type": "markdown",
   "id": "0d4f9c8b",
   "metadata": {},
   "source": [
    "---\n",
    "### **11. What are the Characteristics of a Normal Distribution?**"
   ]
  },
  {
   "cell_type": "markdown",
   "id": "03d9cea8",
   "metadata": {},
   "source": [
    "A **normal distribution** (also called a **Gaussian distribution**) is a continuous probability distribution that is **symmetric and bell-shaped**.\n",
    "\n",
    "#### **Key Characteristics**:\n",
    "\n",
    "* Symmetrical about the **mean** $\\mu$\n",
    "* **Mean = Median = Mode**\n",
    "* Completely defined by two parameters:\n",
    "\n",
    "  * **Mean $\\mu$**: center of the distribution\n",
    "  * **Standard deviation $\\sigma$**: spread or width\n",
    "* PDF:\n",
    "\n",
    "  $$\n",
    "  f(x) = \\frac{1}{\\sigma \\sqrt{2\\pi}} e^{- \\frac{(x - \\mu)^2}{2\\sigma^2}}\n",
    "  $$\n",
    "* Follows the **Empirical Rule** (68-95-99.7 Rule):\n",
    "\n",
    "  * 68% of data falls within $\\mu \\pm 1\\sigma$\n",
    "  * 95% within $\\mu \\pm 2\\sigma$\n",
    "  * 99.7% within $\\mu \\pm 3\\sigma$\n",
    "\n",
    "> **Example**: Heights of adults, IQ scores, and measurement errors often follow a normal distribution."
   ]
  },
  {
   "cell_type": "markdown",
   "id": "a0e2ffc2",
   "metadata": {},
   "source": [
    "---\n",
    "### **12. What is the Standard Normal Distribution, and Why is It Important?**"
   ]
  },
  {
   "cell_type": "markdown",
   "id": "6a20b4fd",
   "metadata": {},
   "source": [
    "The **standard normal distribution** is a special case of the normal distribution with:\n",
    "\n",
    "* **Mean $\\mu = 0$**\n",
    "* **Standard deviation $\\sigma = 1$**\n",
    "\n",
    "#### **Z-distribution**:\n",
    "\n",
    "* A variable following this distribution is called a **Z-score**\n",
    "* It tells you how many standard deviations a value is from the mean:\n",
    "\n",
    "  $$\n",
    "  Z = \\frac{X - \\mu}{\\sigma}\n",
    "  $$\n",
    "\n",
    "#### **Why is it important?**\n",
    "\n",
    "* Simplifies calculations and allows use of standard **Z-tables**\n",
    "* Enables **standardization**: different normal distributions can be compared by converting to Z-scores\n",
    "* Widely used in **hypothesis testing**, confidence intervals, and **statistical inference**\n",
    "\n",
    "> **Example**:\n",
    "> If a student scored 85 in a test with $\\mu = 70$, $\\sigma = 10$,\n",
    "> then $Z = \\frac{85 - 70}{10} = 1.5$, meaning the score is 1.5 standard deviations above the average."
   ]
  },
  {
   "cell_type": "markdown",
   "id": "e813d140",
   "metadata": {},
   "source": [
    "---\n",
    "### **13. What is the Central Limit Theorem (CLT), and why is it critical in statistics?**"
   ]
  },
  {
   "cell_type": "markdown",
   "id": "b7edaae4",
   "metadata": {},
   "source": [
    "The **Central Limit Theorem (CLT)** states that:\n",
    "\n",
    "> **Regardless of the original population distribution,** the distribution of the **sample means** approaches a **normal distribution** as the **sample size becomes large**, provided the samples are independent and identically distributed.\n",
    "\n",
    "#### **Mathematically**:\n",
    "\n",
    "If $X_1, X_2, ..., X_n$ are i.i.d. random variables with:\n",
    "\n",
    "* Mean $\\mu$\n",
    "* Standard deviation $\\sigma$\n",
    "\n",
    "Then the sampling distribution of the **sample mean $\\bar{X}$** tends to:\n",
    "\n",
    "$$\n",
    "\\bar{X} \\sim N\\left(\\mu, \\frac{\\sigma^2}{n}\\right)\n",
    "\\quad \\text{as } n \\to \\infty\n",
    "$$\n",
    "\n",
    "#### **Why is CLT critical?**\n",
    "\n",
    "* It **justifies using the normal distribution** for inference (even if the data itself is not normally distributed).\n",
    "* Forms the **foundation for confidence intervals and hypothesis testing**.\n",
    "* Simplifies complex problems by allowing the use of Z-scores and t-scores.\n",
    "\n",
    "> **Example**: You can estimate population averages using a sample—even if the original data is skewed—as long as your sample size is large (typically $n \\geq 30$)."
   ]
  },
  {
   "cell_type": "markdown",
   "id": "a10c5ae4",
   "metadata": {},
   "source": [
    "---\n",
    "### **14. How does the Central Limit Theorem relate to the normal distribution?**"
   ]
  },
  {
   "cell_type": "markdown",
   "id": "025c7f3c",
   "metadata": {},
   "source": [
    "The Central Limit Theorem **connects non-normal populations to the normal distribution** by showing that:\n",
    "\n",
    "* **Sample means** (from any population) become approximately **normally distributed** as the sample size increases.\n",
    "* This is true **even if the original population is not normal**.\n",
    "\n",
    "#### **Relation**:\n",
    "\n",
    "* CLT **transforms the problem** from an arbitrary distribution to a **normal distribution**, making analysis easier.\n",
    "* It explains **why the normal distribution appears so often in practice** (e.g., in averages, totals, proportions).\n",
    "\n",
    "> The **normal distribution** is used in CLT as the **limiting distribution** for the sample mean."
   ]
  },
  {
   "cell_type": "markdown",
   "id": "639509e0",
   "metadata": {},
   "source": [
    "---\n",
    "### **15. What is the application of Z statistics in hypothesis testing?**"
   ]
  },
  {
   "cell_type": "markdown",
   "id": "e65f250c",
   "metadata": {},
   "source": [
    "The **Z statistic** (or **Z-score**) is used in hypothesis testing to determine **how far a sample statistic is from the population parameter**, in terms of standard deviations.\n",
    "\n",
    "#### **Formula**:\n",
    "\n",
    "$$\n",
    "Z = \\frac{\\bar{X} - \\mu}{\\sigma / \\sqrt{n}}\n",
    "$$\n",
    "\n",
    "Where:\n",
    "\n",
    "* $\\bar{X}$ = sample mean\n",
    "* $\\mu$ = population mean under null hypothesis\n",
    "* $\\sigma$ = population standard deviation\n",
    "* $n$ = sample size\n",
    "\n",
    "#### **Applications in Hypothesis Testing**:\n",
    "\n",
    "1. **One-sample Z-test**:\n",
    "\n",
    "   * Used to test if the sample mean differs from a known population mean.\n",
    "\n",
    "2. **Z-test for proportions**:\n",
    "\n",
    "   * Compare sample proportion to a known population proportion.\n",
    "\n",
    "3. **Steps**:\n",
    "\n",
    "   * Set up null ($H_0$) and alternative ($H_1$) hypotheses.\n",
    "   * Compute the Z statistic.\n",
    "   * Use a **Z-table** to find the **p-value**.\n",
    "   * Compare p-value to significance level $\\alpha$ (e.g., 0.05).\n",
    "\n",
    "#### **Why use Z?**\n",
    "\n",
    "* It standardizes different tests onto the **same scale**.\n",
    "* Helps determine if an observed difference is **statistically significant**.\n",
    "\n",
    "> **Example**:\n",
    "> Suppose the average weight of apples is known to be 150g. If a sample of 50 apples has a mean of 154g, and $\\sigma = 10g$, is this difference significant?"
   ]
  },
  {
   "cell_type": "markdown",
   "id": "4e992013",
   "metadata": {},
   "source": [
    "---\n",
    "### **16. How do you calculate a Z-score, and what does it represent?**"
   ]
  },
  {
   "cell_type": "markdown",
   "id": "6dbdfeec",
   "metadata": {},
   "source": [
    "#### **Z-score Formula**:\n",
    "\n",
    "$$\n",
    "Z = \\frac{X - \\mu}{\\sigma}\n",
    "$$\n",
    "\n",
    "Where:\n",
    "\n",
    "* $X$ = individual value or sample statistic\n",
    "* $\\mu$ = population mean\n",
    "* $\\sigma$ = population standard deviation\n",
    "\n",
    "#### **What does it represent?**\n",
    "\n",
    "* A **Z-score** tells you how many **standard deviations** an element is **away from the mean**.\n",
    "* Helps you understand **how unusual or typical** a value is in a distribution.\n",
    "\n",
    "> **Interpretation**:\n",
    ">\n",
    "> * $Z = 0$: value is exactly at the mean\n",
    "> * $Z > 0$: value is above the mean\n",
    "> * $Z < 0$: value is below the mean\n",
    "> * $|Z| \\geq 2$: value is considered unusual in many practical contexts\n",
    "\n",
    "> **Example**:\n",
    "> If a student's score is 85, with a mean of 70 and standard deviation of 10:\n",
    ">\n",
    "> $$\n",
    "> Z = \\frac{85 - 70}{10} = 1.5\n",
    "> $$\n",
    ">\n",
    "> → The score is **1.5 standard deviations above average**."
   ]
  },
  {
   "cell_type": "markdown",
   "id": "6c483e3d",
   "metadata": {},
   "source": [
    "---\n",
    "### **17. What are point estimates and interval estimates in statistics?**"
   ]
  },
  {
   "cell_type": "markdown",
   "id": "c1e95d7a",
   "metadata": {},
   "source": [
    "#### **Point Estimate**:\n",
    "\n",
    "* A **single value** used to **approximate** a population parameter.\n",
    "* Common examples: sample mean ($\\bar{X}$), sample proportion ($\\hat{p}$)\n",
    "\n",
    "> **Example**:\n",
    "> If you measure the average height of 100 students to be 165 cm, that's your **point estimate** of the population mean.\n",
    "\n",
    "#### **Interval Estimate**:\n",
    "\n",
    "* A **range of values** (usually a **confidence interval**) that is likely to contain the population parameter.\n",
    "* More informative than a point estimate because it includes a **margin of error**.\n",
    "\n",
    "> **Example**:\n",
    "> “We are 95% confident that the population mean is between 162 cm and 168 cm.”"
   ]
  },
  {
   "cell_type": "markdown",
   "id": "e2bb0693",
   "metadata": {},
   "source": [
    "---\n",
    "### **18. What is the significance of confidence intervals in statistical analysis?**"
   ]
  },
  {
   "cell_type": "markdown",
   "id": "64cb78eb",
   "metadata": {},
   "source": [
    "A **confidence interval (CI)** provides a range of values within which the **true population parameter** is expected to fall, **with a certain level of confidence** (e.g., 95%).\n",
    "\n",
    "#### **Key Points**:\n",
    "\n",
    "* Reflects **uncertainty** around a point estimate.\n",
    "* A 95% confidence level means: “If we repeat the study many times, 95% of the intervals would contain the true value.”\n",
    "* Helps in **decision-making** and **hypothesis testing**.\n",
    "\n",
    "#### **Formula (for population mean with known σ)**:\n",
    "\n",
    "$$\n",
    "\\text{CI} = \\bar{X} \\pm Z_{\\alpha/2} \\cdot \\frac{\\sigma}{\\sqrt{n}}\n",
    "$$\n",
    "\n",
    "Where:\n",
    "\n",
    "* $\\bar{X}$ = sample mean\n",
    "* $Z_{\\alpha/2}$ = Z-value (e.g., 1.96 for 95%)\n",
    "* $\\sigma$ = standard deviation\n",
    "* $n$ = sample size\n",
    "\n",
    "#### **Why is it significant?**\n",
    "\n",
    "* **More realistic** than a point estimate.\n",
    "* Shows the **reliability** of your estimate.\n",
    "* Can guide **scientific and business conclusions** (e.g., whether to accept a product, support a claim, etc.)\n",
    "\n",
    "> **Example**:\n",
    "> A drug trial shows that blood pressure is reduced by an average of 5 mmHg, with a 95% CI of (3.2, 6.8).\n",
    "> → This gives a **range of plausible values** for the true effect."
   ]
  },
  {
   "cell_type": "markdown",
   "id": "e5f6ce6a",
   "metadata": {},
   "source": [
    "---\n",
    "### **19. What is the relationship between a Z-score and a confidence interval?**"
   ]
  },
  {
   "cell_type": "markdown",
   "id": "3c522449",
   "metadata": {},
   "source": [
    "The **Z-score** is directly used in constructing **confidence intervals (CIs)** when the population standard deviation is known (or sample size is large).\n",
    "\n",
    "#### **Confidence Interval Formula**:\n",
    "\n",
    "$$\n",
    "\\text{CI} = \\bar{X} \\pm Z_{\\alpha/2} \\cdot \\frac{\\sigma}{\\sqrt{n}}\n",
    "$$\n",
    "\n",
    "Where:\n",
    "\n",
    "* $\\bar{X}$ = sample mean\n",
    "* $\\sigma$ = population standard deviation\n",
    "* $n$ = sample size\n",
    "* $Z_{\\alpha/2}$ = Z-score corresponding to the **confidence level**:\n",
    "\n",
    "  * 1.96 for 95% CI\n",
    "  * 1.64 for 90% CI\n",
    "  * 2.58 for 99% CI\n",
    "\n",
    "#### **Relation**:\n",
    "\n",
    "* The **Z-score determines the margin of error**.\n",
    "* Higher confidence → larger Z-score → **wider CI**\n",
    "* Lower confidence → smaller Z-score → **narrower CI**\n",
    "\n",
    "> 📌 So, **Z-scores define how far out from the mean** you need to go to capture a certain percentage of the sampling distribution.\n"
   ]
  },
  {
   "cell_type": "markdown",
   "id": "6e493217",
   "metadata": {},
   "source": [
    "---\n",
    "### **20. How are Z-scores used to compare different distributions?**"
   ]
  },
  {
   "cell_type": "markdown",
   "id": "11553212",
   "metadata": {},
   "source": [
    "**Z-scores standardize values**, allowing comparison across **different distributions** — even if they have **different means and standard deviations**.\n",
    "\n",
    "#### **Formula (again)**:\n",
    "\n",
    "$$\n",
    "Z = \\frac{X - \\mu}{\\sigma}\n",
    "$$\n",
    "\n",
    "#### **Why it's useful**:\n",
    "\n",
    "* Puts all values on the **same scale** (mean = 0, SD = 1)\n",
    "* Enables **relative comparison** between different datasets\n",
    "\n",
    "> **Example**:\n",
    ">\n",
    "> * Student A scored 80 in Math (mean = 70, SD = 5): $Z = 2$\n",
    "> * Student B scored 85 in English (mean = 75, SD = 10): $Z = 1$\n",
    ">   → Student A performed **better relative to their group**, even though B scored higher."
   ]
  },
  {
   "cell_type": "markdown",
   "id": "1d77e895",
   "metadata": {},
   "source": [
    "---\n",
    "### **21. What are the assumptions for applying the Central Limit Theorem (CLT)?**"
   ]
  },
  {
   "cell_type": "markdown",
   "id": "187f5b8c",
   "metadata": {},
   "source": [
    "For the Central Limit Theorem to apply **accurately**, the following assumptions must hold:\n",
    "\n",
    "#### ✅ **1. Independence**:\n",
    "\n",
    "* Each sample must be selected independently of the others.\n",
    "\n",
    "#### ✅ **2. Identical Distribution**:\n",
    "\n",
    "* The random variables should be identically distributed (i.i.d.).\n",
    "\n",
    "#### ✅ **3. Finite Mean and Variance**:\n",
    "\n",
    "* The population must have a finite mean $\\mu$ and variance $\\sigma^2$.\n",
    "\n",
    "#### ✅ **4. Large Sample Size**:\n",
    "\n",
    "* Generally, **$n \\geq 30$** is considered sufficient for the sample mean to be approximately normal, especially when the population is not normal."
   ]
  },
  {
   "cell_type": "markdown",
   "id": "feae33e6",
   "metadata": {},
   "source": [
    "---\n",
    "### **22. What is the concept of expected value in a probability distribution?**"
   ]
  },
  {
   "cell_type": "markdown",
   "id": "e48110cf",
   "metadata": {},
   "source": [
    "The **expected value** (also called **mathematical expectation** or **mean**) is the **average outcome** you would expect if an experiment or random process is repeated **many times**.\n",
    "\n",
    "#### **Definition**:\n",
    "\n",
    "It is a **weighted average** of all possible values a random variable can take, weighted by their respective probabilities.\n",
    "\n",
    "#### ➤ **For a discrete random variable** $X$:\n",
    "\n",
    "$$\n",
    "E[X] = \\sum_{i} x_i \\cdot P(X = x_i)\n",
    "$$\n",
    "\n",
    "> **Example**: Tossing a fair 6-sided die\n",
    ">\n",
    "> $$\n",
    "> E[X] = \\sum_{i=1}^{6} i \\cdot \\frac{1}{6} = \\frac{1+2+3+4+5+6}{6} = 3.5\n",
    "> $$\n",
    "\n",
    "#### ➤ **For a continuous random variable** $X$:\n",
    "\n",
    "$$\n",
    "E[X] = \\int_{-\\infty}^{\\infty} x \\cdot f(x) \\, dx\n",
    "$$\n",
    "\n",
    "Where $f(x)$ is the **probability density function (PDF)**\n",
    "\n",
    "#### ✅ Key Points:\n",
    "\n",
    "* It **does not need to be a possible outcome** (e.g., 3.5 on a die)\n",
    "* Helps in **decision-making**, risk analysis, and **long-term prediction**"
   ]
  },
  {
   "cell_type": "markdown",
   "id": "34a0db6a",
   "metadata": {},
   "source": [
    "---\n",
    "### **23. How does a probability distribution relate to the expected outcome of a random variable?**"
   ]
  },
  {
   "cell_type": "markdown",
   "id": "6c280c21",
   "metadata": {},
   "source": [
    "A **probability distribution** defines **how likely** each value of a random variable is.\n",
    "The **expected outcome** (expected value) is the **summary measure** derived from that distribution.\n",
    "\n",
    "#### Relationship:\n",
    "\n",
    "* The **expected value is computed using the probability distribution** of the variable.\n",
    "* The **distribution tells you the probabilities**; the **expected value summarizes them** as a long-term average.\n",
    "\n",
    "**Think of it this way**:\n",
    "\n",
    "The probability distribution shows **what can happen** and **how likely** each outcome is. The expected value tells you **what you can expect on average** over the long run."
   ]
  }
 ],
 "metadata": {
  "language_info": {
   "name": "python"
  }
 },
 "nbformat": 4,
 "nbformat_minor": 5
}
