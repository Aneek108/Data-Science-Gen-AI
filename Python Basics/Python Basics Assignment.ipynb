{
 "cells": [
  {
   "cell_type": "markdown",
   "id": "945a3235",
   "metadata": {},
   "source": [
    "# Assignment 1: Python Basics"
   ]
  },
  {
   "cell_type": "markdown",
   "id": "f4228154",
   "metadata": {},
   "source": [
    "## I. Theoretical Questions"
   ]
  },
  {
   "cell_type": "markdown",
   "id": "768229fc",
   "metadata": {},
   "source": [
    "### 1. What is Python, and why is it popular?"
   ]
  },
  {
   "cell_type": "markdown",
   "id": "3c2c81dc",
   "metadata": {},
   "source": [
    "\n",
    "**Python** is a high-level, interpreted programming language. It was created by **Guido van Rossum** and first released in **1991**. Python is known for its **clear syntax** and **readability**, which makes it an excellent choice for beginners and experts alike.\n",
    "\n",
    "Here are a few key reasons as to why Python is so popular:\n",
    "\n",
    "1. **Easy to Read & Write**\n",
    "   Python code looks almost like English, so it's easy to understand and write.\n",
    "\n",
    "   ```python\n",
    "   print(\"Hello, world!\")\n",
    "   ```\n",
    "\n",
    "2. **Versatile**\n",
    "   Python is used in:\n",
    "\n",
    "   * Web development (e.g., Django, Flask)\n",
    "   * Data Science & Machine Learning (e.g., Pandas, NumPy, TensorFlow)\n",
    "   * Automation/Scripting\n",
    "   * Game Development\n",
    "   * Cybersecurity\n",
    "   * IoT & Embedded Systems\n",
    "\n",
    "3. **Large Community & Libraries**\n",
    "   Tons of people use Python, so there's a huge community and tons of ready-made libraries you can use.\n",
    "\n",
    "4. **Cross-Platform**\n",
    "   Python works on Windows, macOS, Linux—you write once and run anywhere.\n",
    "\n",
    "5. **Great for Beginners & Professionals**\n",
    "   Whether you’re just starting or building complex systems, Python can handle it.\n",
    "\n",
    "6. **Extensive Standard Library**\n",
    "   Python comes with a “batteries included” philosophy—it has a huge standard library for common tasks like file I/O, regular expressions, math, web services, and more.\n",
    "\n",
    "7. **Integration Capabilities**\n",
    "   Python works well with other languages and technologies:\n",
    "\n",
    "   * Integrates with C/C++, Java, .NET\n",
    "   * Works with databases (SQL, NoSQL)\n",
    "   * Can be embedded into other applications\n",
    "\n",
    "8. **Strong Support for Object-Oriented & Functional Programming**\n",
    "   Python supports different programming styles, including:\n",
    "\n",
    "   * **Object-Oriented Programming (OOP)**\n",
    "   * **Functional Programming (FP)**\n",
    "   * **Procedural Programming**\n",
    "\n",
    "9. **Used by Big Companies**\n",
    "    Tech giants like Google, Facebook, Netflix, Instagram, Spotify, and NASA use Python for various applications.\n",
    "\n",
    "10. **Huge Career Opportunities**\n",
    "    Python is in demand in job markets for roles like:\n",
    "\n",
    "   * Data Scientist\n",
    "   * AI/ML Engineer\n",
    "   * Web Developer\n",
    "   * Automation Engineer\n",
    "   * Software Developer"
   ]
  },
  {
   "cell_type": "markdown",
   "id": "16470125",
   "metadata": {},
   "source": [
    "### 2. What is an interpreter in Python?"
   ]
  },
  {
   "cell_type": "markdown",
   "id": "31754892",
   "metadata": {},
   "source": [
    "An **interpreter** is a computer program that will convert the source code or an high level language into intermediate code (machine level language), then it executes each line of statements slowly. This process is called Interpretation.\n",
    "\n",
    "In Python, the **Python interpreter** takes your `.py` file (Python code), translates it into byte code (machine code), and runs it line by line.\n",
    "\n",
    "When you run a Python program:\n",
    "1. The **interpreter reads** the first line of code.\n",
    "2. It **converts** it into byte code.\n",
    "3. Then it **executes** that line.\n",
    "4. Moves on to the next line... and so on!\n",
    "\n",
    "The byte code is not This bytecode is not human-readable, and it’s stored in `.pyc` files in the `__pycache__` folder.\n",
    "\n",
    "The byte code is executed line by line in the Python Virtual Machine (PVM). The PVM is the core part of the Python interpreter—it does the actual work of executing your code.\n",
    "\n",
    "Example:\n",
    "\n",
    "```python\n",
    "print(\"Hello, world!\")\n",
    "```\n",
    "\n",
    "The interpreter sees this line, translates it, and shows the output:\n",
    "\n",
    "```\n",
    "Hello, world!\n",
    "```\n",
    "\n",
    "Interpreter vs Compiler:\n",
    "\n",
    "| Feature          | Interpreter               | Compiler                 |\n",
    "| ---------------- | ------------------------- | ------------------------ |\n",
    "| Execution        | Line by line              | Whole program at once    |\n",
    "| Speed            | Slower                    | Faster                   |\n",
    "| Errors           | Shows one error at a time | Shows all errors at once |\n",
    "| Example Language | Python, JavaScript        | C, C++, Java             |"
   ]
  },
  {
   "cell_type": "markdown",
   "id": "39443263",
   "metadata": {},
   "source": [
    "### 3. What are pre-defined keywords in Python?"
   ]
  },
  {
   "cell_type": "markdown",
   "id": "5b0abeb6",
   "metadata": {},
   "source": [
    "**Pre-defined keywords** in Python are **special case-sensitive reserved words** that have a specific meaning to the Python interpreter.\n",
    "\n",
    "Some commonly used Python keywords include:\n",
    "\n",
    "* `if`, `else`, `elif` – for conditions\n",
    "* `for`, `while`, `break`, `continue` – for loops\n",
    "* `def`, `return` – for defining functions\n",
    "* `class`, `pass`, `self` – for classes\n",
    "* `True`, `False`, `None` – boolean and null values\n",
    "* `try`, `except`, `finally`, `raise` – for error handling\n",
    "* `import`, `from`, `as` – for importing modules\n",
    "\n",
    "These keywords:\n",
    "\n",
    "* Define the structure and rules of Python.\n",
    "* Allow you to write meaningful logic in your code.\n",
    "* Are essential for building Python programs."
   ]
  },
  {
   "cell_type": "markdown",
   "id": "3008786a",
   "metadata": {},
   "source": [
    "### 4. Can keywords be used as variable names?"
   ]
  },
  {
   "cell_type": "markdown",
   "id": "de60bff6",
   "metadata": {},
   "source": [
    "**No, keywords cannot be used as variable names in Python.**\n",
    "\n",
    "Keywords are **reserved by Python** because they are part of the language's **syntax rules**. Using them as variable names would confuse the interpreter and throw a syntax error.\n",
    "\n",
    "**Example:**\n",
    "\n",
    "```python\n",
    "if = 5          # Invalid\n",
    "class = \"Math\"  # Invalid\n",
    "\n",
    "if_value = 5         # Valid\n",
    "class_name = \"Math\"  # Valid\n",
    "```"
   ]
  },
  {
   "cell_type": "markdown",
   "id": "c7678f09",
   "metadata": {},
   "source": [
    "### 5. What is mutability in Python?"
   ]
  },
  {
   "cell_type": "markdown",
   "id": "fac57429",
   "metadata": {},
   "source": [
    "**Mutability** refers to whether or not an object’s **value can be changed after it is created**.\n",
    "\n",
    "📦 Two Main Types of Objects in Python:\n",
    "\n",
    "| Type          | Can it be changed? | Example Data Types                     |\n",
    "| ------------- | ------------------ | -------------------------------------- |\n",
    "| **Mutable**   | ✅ Yes             | `list`, `dict`, `set`, `bytearray`     |\n",
    "| **Immutable** | ❌ No              | `int`, `float`, `str`, `tuple`, `bool` |\n",
    "\n",
    "**Mutable Objects**: These can **change their content** without changing their identity (memory address).\n",
    "**Immutable Objects**: These **cannot be changed** after creation. If you try to change them, a new object is created.\n",
    "\n",
    "```python\n",
    "my_list = [1, 2, 3]\n",
    "my_list[0] = 100  # Modifying the list\n",
    "print(my_list)    # Output: [100, 2, 3]\n",
    "```\n",
    "Here, `my_list` is **mutable** because we changed its contents.\n",
    "\n",
    "```python\n",
    "x = \"hello\"\n",
    "x = x + \" world\"   # This creates a new string\n",
    "print(x)           # Output: \"hello world\"\n",
    "```\n",
    "Even though it looks like we \"changed\" the string, we actually **created a new string** and assigned it to `x`.\n"
   ]
  },
  {
   "cell_type": "code",
   "execution_count": 6,
   "id": "36a87739",
   "metadata": {},
   "outputs": [
    {
     "name": "stdout",
     "output_type": "stream",
     "text": [
      "2075647811840\n",
      "2075647811840\n",
      "140733969043936\n",
      "2075648791216\n"
     ]
    }
   ],
   "source": [
    "# Check Identity (Memory Address):\n",
    "# You can use `id()` to see if the object is the same:\n",
    "\n",
    "x = [1, 2, 3]\n",
    "print(id(x))\n",
    "x.append(4)\n",
    "print(id(x))  # Same ID → object was modified (mutable)\n",
    "\n",
    "y = \"hi\"\n",
    "print(id(y))\n",
    "y = y + \" there\"\n",
    "print(id(y))  # Different ID → new object created (immutable)"
   ]
  },
  {
   "cell_type": "markdown",
   "id": "66e722c3",
   "metadata": {},
   "source": [
    "### 6. Why are lists mutable, but tuples are immutable?"
   ]
  },
  {
   "cell_type": "markdown",
   "id": "841bf7a2",
   "metadata": {},
   "source": [
    "This goes to the **core design philosophy** of Python and how different data types are meant to be used.\n",
    "\n",
    "**Lists are mutable** because:\n",
    "\n",
    "* They are meant to **store collections of data that might change**.\n",
    "* You can **add**, **remove**, or **update** elements in a list.\n",
    "* Common use cases: storing dynamic data, temporary results, or items in a loop.\n",
    "\n",
    "Example:\n",
    "\n",
    "```python\n",
    "my_list = [1, 2, 3]\n",
    "my_list.append(4)\n",
    "print(my_list)  # Output: [1, 2, 3, 4]\n",
    "```\n",
    "\n",
    "**Tuples are immutable** because:\n",
    "\n",
    "* They are meant to represent **fixed collections of items**.\n",
    "* Once a tuple is created, it **guarantees** the data won't change.\n",
    "* This makes them **faster**, **hashable**, and **safe** to use as keys in dictionaries or elements in sets.\n",
    "\n",
    "Example:\n",
    "\n",
    "```python\n",
    "my_tuple = (1, 2, 3)\n",
    "my_tuple[0] = 10  # Error: 'tuple' object does not support item assignment\n",
    "```\n",
    "\n",
    "| Feature           | List (Mutable)         | Tuple (Immutable)      |\n",
    "| ----------------- | ---------------------- | ---------------------- |\n",
    "| Can change?       | ✅ Yes                 | ❌ No                 |\n",
    "| Methods available | Many (`append`, `pop`) | Few (`count`, `index`) |\n",
    "| Use case          | Dynamic data           | Fixed data / constants |\n",
    "| Hashable?         | ❌ No                  | ✅ Yes                |"
   ]
  },
  {
   "cell_type": "markdown",
   "id": "4fac972c",
   "metadata": {},
   "source": [
    "### 7. What is the difference between “==” and “is” operators in Python?"
   ]
  },
  {
   "cell_type": "markdown",
   "id": "144ae6f4",
   "metadata": {},
   "source": [
    "| Operator | What it checks                | Meaning                                                                |\n",
    "| -------- | ----------------------------- | ---------------------------------------------------------------------- |\n",
    "| `==`     | **Value Equality**            | Do both variables have the same value?                                 |\n",
    "| `is`     | **Identity (Memory Address)** | Are both variables the exact **same object** in memory?                |\n",
    "\n",
    "**Detailed Explanation:**\n",
    "\n",
    "`==` Compares **values**: It checks whether the **contents** of two objects are the same.\n",
    "\n",
    "```python\n",
    "a = [1, 2, 3]\n",
    "b = [1, 2, 3]\n",
    "print(a == b)  # True → because both lists have the same content\n",
    "```\n",
    "\n",
    "`is` Compares **identities**: It checks whether both variables **point to the same object in memory**.\n",
    "\n",
    "```python\n",
    "print(a is b)  # False → because they are two different objects, even if they look the same\n",
    "```"
   ]
  },
  {
   "cell_type": "code",
   "execution_count": 2,
   "id": "d4e6a034",
   "metadata": {},
   "outputs": [
    {
     "name": "stdout",
     "output_type": "stream",
     "text": [
      "2409673016880 2409673016880\n",
      "True\n",
      "True\n",
      "2409679411840 2409679409216\n",
      "True\n",
      "False\n"
     ]
    }
   ],
   "source": [
    "# Example\n",
    "\n",
    "x = \"hello\"\n",
    "y = \"hello\"\n",
    "print(id(x), id(y))  # Same ID → same object (Python caches small strings)\n",
    "print(x == y)   # True → Same value\n",
    "print(x is y)   # True in this case (Python caches small strings, so they may point to same object)\n",
    "\n",
    "# But with lists\n",
    "x = [1, 2]\n",
    "y = [1, 2]      # New list created \n",
    "print(id(x), id(y))  # Different IDs → different objects\n",
    "print(x == y)   # True → Same content\n",
    "print(x is y)   # False → Different objects"
   ]
  },
  {
   "cell_type": "markdown",
   "id": "26512bb3",
   "metadata": {},
   "source": [
    "### 8. What are logical operators in Python?"
   ]
  },
  {
   "cell_type": "markdown",
   "id": "1677e975",
   "metadata": {},
   "source": [
    "**Logical operators** are used to **combine multiple conditions (Boolean expressions)** and return `True` or `False` based on their logic.\n",
    "\n",
    "Python has **three** logical operators:\n",
    "\n",
    "| Operator | Description                                |\n",
    "| -------- | ------------------------------------------ |\n",
    "| `and`    | True **if both** conditions are true       |\n",
    "| `or`     | True **if at least one** condition is true |\n",
    "| `not`    | **Reverses** the Boolean value             |\n",
    "\n",
    "Examples:\n",
    "\n",
    "`and` Operator:\n",
    "\n",
    "```python\n",
    "x = 5\n",
    "print(x > 2 and x < 10)  # True → both conditions are true\n",
    "```\n",
    "\n",
    "`or` Operator:\n",
    "\n",
    "```python\n",
    "x = 5\n",
    "print(x < 2 or x < 10)   # True → second condition is true\n",
    "```\n",
    "\n",
    "`not` Operator:\n",
    "\n",
    "```python\n",
    "x = True\n",
    "print(not x)             # False → inverts the value\n",
    "```"
   ]
  },
  {
   "cell_type": "markdown",
   "id": "67a63184",
   "metadata": {},
   "source": [
    "### 9. What is type casting in Python?"
   ]
  },
  {
   "cell_type": "markdown",
   "id": "b05ebb31",
   "metadata": {},
   "source": [
    "**Type casting** is the process of **converting one data type into another** manually using built-in Python functions.\n",
    "\n",
    "Example:\n",
    "\n",
    "```python\n",
    "x = \"5\"\n",
    "y = int(x)    # Now y is an integer\n",
    "print(y + 1)  # Output: 6\n",
    "```\n",
    "\n",
    "Here, `\"5\"` (a string) was **casted** into an integer using `int()`.\n",
    "\n",
    "**Common Type Casting Functions:**\n",
    "\n",
    "| Function  | Converts to... | Example                         |\n",
    "| --------- | -------------- | ------------------------------- |\n",
    "| `int()`   | Integer        | `int(\"7\") → 7`                  |\n",
    "| `float()` | Floating point | `float(\"3.14\") → 3.14`          |\n",
    "| `str()`   | String         | `str(42) → \"42\"`                |\n",
    "| `bool()`  | Boolean        | `bool(0) → False`               |\n",
    "| `list()`  | List           | `list(\"abc\") → ['a', 'b', 'c']` |\n",
    "| `tuple()` | Tuple          | `tuple([1, 2]) → (1, 2)`        |\n",
    "\n",
    "When to Use Type Casting?\n",
    "\n",
    "* When combining different data types (e.g., numbers and strings)\n",
    "* When taking user input (which is always a string)\n",
    "* To ensure correct data types in calculations or conditions"
   ]
  },
  {
   "cell_type": "markdown",
   "id": "92a5396d",
   "metadata": {},
   "source": [
    "### 10. What is the difference between implicit and explicit type casting?"
   ]
  },
  {
   "cell_type": "markdown",
   "id": "70803608",
   "metadata": {},
   "source": [
    "#### a. Implicit Type Casting (Automatic)\n",
    "\n",
    "In **implicit type casting**, **Python does the conversion for you** — automatically and safely, without data loss.\n",
    "\n",
    "Example:\n",
    "\n",
    "```python\n",
    "x = 5        # int\n",
    "y = 2.0      # float\n",
    "z = x + y    # x is implicitly converted to float\n",
    "print(z)     # Output: 7.0 (float)\n",
    "```\n",
    "\n",
    "In this example, Python notices you’re mixing `int` and `float`. It upgrades `int` to `float` to prevent losing precision.\n",
    "\n",
    "_\n",
    "\n",
    "#### b. Explicit Type Casting (Manual)\n",
    "\n",
    "In **explicit type casting**, **you tell Python exactly how to convert the data**, using built-in functions like `int()`, `float()`, `str()`, etc.\n",
    "\n",
    "Example:\n",
    "\n",
    "```python\n",
    "x = \"10\"       # string\n",
    "y = int(x)     # manually convert string to integer\n",
    "print(y + 1)   # Output: 11\n",
    "```\n",
    "\n",
    "In this example, Python doesn’t assume `\"10\"` is a number — it’s a string. You must explicitly cast it to an integer.\n",
    "\n",
    "| Feature              | Implicit Casting       | Explicit Casting                 |\n",
    "| -------------------- | ---------------------- | -------------------------------- |\n",
    "| Who does it?         | Python (automatically) | You (manually)                   |\n",
    "| Safety               | Safe, no data loss     | Can cause errors if done wrong   |\n",
    "| Uses built-in funcs? | No                     | Yes (`int()`, `float()`, etc.)   |\n",
    "| Example              | `int + float → float`  | `str(\"5\") → int(\"5\")`            |\n",
    "\n",
    "Example of Wrong Explicit Cast:\n",
    "\n",
    "```python\n",
    "x = \"abc\"\n",
    "y = int(x)  # Error: can't convert letters to integer\n",
    "```"
   ]
  },
  {
   "cell_type": "markdown",
   "id": "b447dad6",
   "metadata": {},
   "source": [
    "### 11. What is the purpose of conditional statements in Python?"
   ]
  },
  {
   "cell_type": "markdown",
   "id": "d16abf5f",
   "metadata": {},
   "source": [
    "**Conditional statements** are used to **execute certain blocks of code only when specific conditions are true**. In short, **they let your program make decisions.**\n",
    "\n",
    "__Real-Life Analogy__: Imagine you're deciding what to wear:\n",
    "\n",
    "* If it's raining → take an umbrella\n",
    "* Else → wear sunglasses\n",
    "\n",
    "That's **conditional logic** — and Python lets you do the same with `if`, `elif`, and `else`.\n",
    "\n",
    "| Keyword | Purpose                               |\n",
    "| ------- | ------------------------------------- |\n",
    "| `if`    | Checks a condition; runs code if True |\n",
    "| `elif`  | Adds extra conditions to check        |\n",
    "| `else`  | Runs if no `if` or `elif` is True     |\n",
    "\n",
    "Example:\n",
    "\n",
    "```python\n",
    "age = 18\n",
    "\n",
    "if age >= 18:\n",
    "    print(\"You can vote!\")\n",
    "else:\n",
    "    print(\"You're too young to vote.\")\n",
    "```\n",
    "\n",
    "Output:\n",
    "\n",
    "```\n",
    "You can vote!\n",
    "```\n",
    "\n",
    "So, why Use Conditional Statements?\n",
    "\n",
    "* To control **flow** of a program\n",
    "* To perform **different actions** depending on values or inputs\n",
    "* Essential for:\n",
    "\n",
    "  * Decision making\n",
    "  * Input validation\n",
    "  * Menus and navigation\n",
    "  * Handling errors or edge cases"
   ]
  },
  {
   "cell_type": "markdown",
   "id": "709b92d1",
   "metadata": {},
   "source": [
    "### 12. How does the elif statement work?"
   ]
  },
  {
   "cell_type": "markdown",
   "id": "6dc9be1d",
   "metadata": {},
   "source": [
    "The `elif` (short for **else if**) statement lets you **check multiple conditions**, one after another, when the initial `if` condition is not `True`.\n",
    "\n",
    "It comes **after `if`** and **before `else`** in a conditional block.\n",
    "\n",
    "**Syntax:**\n",
    "```python\n",
    "if condition1:\n",
    "    # Runs if condition1 is True\n",
    "elif condition2:\n",
    "    # Runs if condition1 is False AND condition2 is True\n",
    "elif condition3:\n",
    "    # Runs if condition1 and condition2 are False AND condition3 is True\n",
    "else:\n",
    "    # Runs if none of the above conditions are True\n",
    "```\n",
    "\n",
    "**Example:**\n",
    "\n",
    "```python\n",
    "marks = 75\n",
    "\n",
    "if marks >= 90:\n",
    "    print(\"Grade: A\")\n",
    "elif marks >= 80:\n",
    "    print(\"Grade: B\")\n",
    "elif marks >= 70:\n",
    "    print(\"Grade: C\")\n",
    "else:\n",
    "    print(\"Grade: D or below\")\n",
    "```\n",
    "\n",
    "Output:\n",
    "\n",
    "```\n",
    "Grade: C\n",
    "```\n",
    "\n",
    "What happened?\n",
    "\n",
    "* `marks >= 90` → False\n",
    "* `marks >= 80` → False\n",
    "* `marks >= 70` → True → prints `\"Grade: C\"`\n",
    "* Doesn’t check any further once one condition is True."
   ]
  },
  {
   "cell_type": "markdown",
   "id": "9aa21f43",
   "metadata": {},
   "source": [
    "### 13. What is the difference between for and while loops?"
   ]
  },
  {
   "cell_type": "markdown",
   "id": "93c31052",
   "metadata": {},
   "source": [
    "A **loop** is used to **repeat a block of code multiple times**, either for a fixed number of times or until a certain condition is met.\n",
    "\n",
    "**For Loop vs While Loop:**\n",
    "\n",
    "| Feature               | `for` loop                                 | `while` loop                                                  |\n",
    "| --------------------- | ------------------------------------------ | ------------------------------------------------------------- |\n",
    "| **Use case**          | When you **know how many times** to repeat | When you **don’t know** how many times — but have a condition |\n",
    "| **Works with**        | Iterables like lists, strings, ranges      | Boolean conditions (`True` / `False`)                         |\n",
    "| **Best for**          | Looping through items in a collection      | Repeating until a condition is False                          |\n",
    "| **Stops when**        | It reaches the end of the sequence         | The condition becomes `False`                                 |\n",
    "\n",
    "#### a. For Loop Example:\n",
    "\n",
    "```python\n",
    "for i in range(5):\n",
    "    print(\"Hello\", i)\n",
    "```\n",
    "Output:\n",
    "```\n",
    "Hello 0\n",
    "Hello 1\n",
    "Hello 2\n",
    "Hello 3\n",
    "Hello 4\n",
    "```\n",
    "* It runs **exactly 5 times**\n",
    "* Perfect when looping through a known set\n",
    "\n",
    "#### b. While Loop Example:\n",
    "\n",
    "```python\n",
    "i = 0\n",
    "while i < 5:\n",
    "    print(\"Hello\", i)\n",
    "    i += 1\n",
    "```\n",
    "Output:\n",
    "```\n",
    "Hello 0\n",
    "Hello 1\n",
    "Hello 2\n",
    "Hello 3\n",
    "Hello 4\n",
    "```\n",
    "* It runs **as long as** `i < 5` is True\n",
    "* Good when you **don’t know how many times** to loop in advance\n",
    "\n",
    "⚠️ Caution:\n",
    "\n",
    "* A `for` loop usually **won’t go infinite** unless manually forced.\n",
    "* A `while` loop **can become infinite** if the condition never becomes False.\n",
    "\n",
    "```python\n",
    "while True:\n",
    "    print(\"This will run forever!\")  # Ctrl+C to stop\n",
    "```"
   ]
  },
  {
   "cell_type": "markdown",
   "id": "c1a77289",
   "metadata": {},
   "source": [
    "### 14. Describe a scenario where a while loop is more suitable than a for loop."
   ]
  },
  {
   "cell_type": "markdown",
   "id": "4d949e30",
   "metadata": {},
   "source": [
    "#### **Scenario: Tracking User Activity Until They Log Out**\n",
    "\n",
    "Imagine you're building an app where you want to **track a user’s activity** until they log out. You don’t know how long the user will stay online or how many actions they’ll perform.\n",
    "\n",
    "In this case, you need to keep checking whether the user is still logged in, and the loop should continue until the user chooses to log out.\n",
    "\n",
    "**Why is `while` loop better?**\n",
    "\n",
    "You don’t know the number of iterations in advance. The loop should run **as long as the user is logged in** (i.e., based on a dynamic condition). A `while` loop fits perfectly because it will only stop when the condition (`user_logged_in == True`) becomes false.\n",
    "\n",
    "**Example:**\n",
    "\n",
    "```python\n",
    "user_logged_in = True\n",
    "\n",
    "while user_logged_in:\n",
    "    action = input(\"Enter action (or type 'logout' to log out): \")\n",
    "    if action == \"logout\":\n",
    "        user_logged_in = False\n",
    "        print(\"You have logged out.\")\n",
    "    else:\n",
    "        print(f\"Performing action: {action}\")\n",
    "```\n",
    "\n",
    "**Why not use a `for` loop?**\n",
    "\n",
    "A `for` loop is designed to iterate over a **fixed sequence** or a known range of values. In this case, we don’t know how many actions the user will perform. The loop needs to continue until the user decides to log out — so we must use a `while` loop to repeatedly check the condition (`user_logged_in`)."
   ]
  },
  {
   "cell_type": "markdown",
   "id": "4d6d5979",
   "metadata": {},
   "source": [
    "## II. Practical Questions"
   ]
  },
  {
   "cell_type": "code",
   "execution_count": 3,
   "id": "05ae7355",
   "metadata": {},
   "outputs": [
    {
     "name": "stdout",
     "output_type": "stream",
     "text": [
      "Hello, World!\n"
     ]
    }
   ],
   "source": [
    "# 1. Write a Python program to print \"Hello, World!\"\n",
    "\n",
    "print(\"Hello, World!\")"
   ]
  },
  {
   "cell_type": "code",
   "execution_count": 4,
   "id": "bd12b9ea",
   "metadata": {},
   "outputs": [
    {
     "name": "stdout",
     "output_type": "stream",
     "text": [
      "My name is Aneek and I am 21 years old.\n"
     ]
    }
   ],
   "source": [
    "### 2. Write a Python program that displays your name and age. \n",
    "\n",
    "name = input(\"Enter your name: \")\n",
    "age = int(input(\"Enter your age: \"))\n",
    "print(f\"My name is {name} and I am {age} years old.\")"
   ]
  },
  {
   "cell_type": "code",
   "execution_count": null,
   "id": "682434d7",
   "metadata": {},
   "outputs": [
    {
     "name": "stdout",
     "output_type": "stream",
     "text": [
      "\n",
      "Here is a list of the Python keywords.  Enter any keyword to get more help.\n",
      "\n",
      "False               class               from                or\n",
      "None                continue            global              pass\n",
      "True                def                 if                  raise\n",
      "and                 del                 import              return\n",
      "as                  elif                in                  try\n",
      "assert              else                is                  while\n",
      "async               except              lambda              with\n",
      "await               finally             nonlocal            yield\n",
      "break               for                 not                 \n",
      "\n"
     ]
    }
   ],
   "source": [
    "### 3. Write code to print all the pre-defined keywords in Python using the keyword library. \n",
    "\n",
    "help(\"keywords\")  # This will show you the keywords in Python"
   ]
  },
  {
   "cell_type": "code",
   "execution_count": 6,
   "id": "b860d6c2",
   "metadata": {},
   "outputs": [
    {
     "name": "stdout",
     "output_type": "stream",
     "text": [
      "return is a Python keyword.\n"
     ]
    }
   ],
   "source": [
    "### 4. Write a program that checks if a given word is a Python keyword. \n",
    "\n",
    "import keyword\n",
    "word = input(\"Enter a word: \")\n",
    "if keyword.iskeyword(word):\n",
    "    print(f\"{word} is a Python keyword.\")\n",
    "else:\n",
    "    print(f\"{word} is not a Python keyword.\")"
   ]
  },
  {
   "cell_type": "code",
   "execution_count": 9,
   "id": "430cd7d3",
   "metadata": {},
   "outputs": [
    {
     "name": "stdout",
     "output_type": "stream",
     "text": [
      "Original List: [1, 2, 3]\n",
      "List after modification: [10, 2, 3]\n",
      "Original Tuple: (1, 2, 3)\n",
      "TypeError: 'tuple' object does not support item assignment\n"
     ]
    }
   ],
   "source": [
    "### 5. Create a list and tuple in Python, and demonstrate how attempting to change an element works differently for each.\n",
    "\n",
    "# List\n",
    "my_list = [1, 2, 3]\n",
    "print(\"Original List:\", my_list)\n",
    "my_list[0] = 10  # Lists are mutable\n",
    "print(\"List after modification:\", my_list)\n",
    "\n",
    "# Tuple\n",
    "my_tuple = (1, 2, 3)\n",
    "print(\"Original Tuple:\", my_tuple)\n",
    "try:\n",
    "    my_tuple[0] = 10  # Tuples are immutable\n",
    "except TypeError as e:\n",
    "    print(\"TypeError:\", e)"
   ]
  },
  {
   "cell_type": "code",
   "execution_count": 13,
   "id": "4a84df74",
   "metadata": {},
   "outputs": [
    {
     "name": "stdout",
     "output_type": "stream",
     "text": [
      "Before function call:\n",
      "String: hello\n",
      "List: ['hello']\n",
      "\n",
      "Inside function before modification:\n",
      "String: hello\n",
      "List: ['hello']\n",
      "\n",
      "Inside function after modification:\n",
      "String: hello world\n",
      "List: ['hello', 'world']\n",
      "After function call:\n",
      "String: hello\n",
      "List: ['hello', 'world']\n"
     ]
    }
   ],
   "source": [
    "### 6. Write a function to demonstrate the behavior of mutable and immutable arguments.\n",
    "\n",
    "def modify_data(my_str, my_list):\n",
    "    print(\"\\nInside function before modification:\")\n",
    "    print(\"String:\", my_str)\n",
    "    print(\"List:\", my_list)\n",
    "\n",
    "    # Try modifying both\n",
    "    my_str += \" world\"          # Creates a new string (immutable)\n",
    "    my_list.append(\"world\")     # Modifies the original list (mutable)\n",
    "\n",
    "    print(\"\\nInside function after modification:\")\n",
    "    print(\"String:\", my_str)\n",
    "    print(\"List:\", my_list)\n",
    "\n",
    "# Original data\n",
    "original_str = \"hello\"\n",
    "original_list = [\"hello\"]\n",
    "\n",
    "print(\"Before function call:\")\n",
    "print(\"String:\", original_str)\n",
    "print(\"List:\", original_list)\n",
    "\n",
    "modify_data(original_str, original_list)\n",
    "\n",
    "print(\"After function call:\")\n",
    "print(\"String:\", original_str)      # unchanged\n",
    "print(\"List:\", original_list)       # changed"
   ]
  },
  {
   "cell_type": "code",
   "execution_count": 18,
   "id": "ff686536",
   "metadata": {},
   "outputs": [
    {
     "name": "stdout",
     "output_type": "stream",
     "text": [
      "Addition:\n",
      " 20.0 + 12.0 = 32.0\n",
      "\n",
      "Subtraction:\n",
      " 20.0 - 12.0 = 8.0\n",
      "\n",
      "Multiplication:\n",
      " 20.0 * 12.0 = 240.0\n",
      "\n",
      "Division:\n",
      " 20.0 / 12.0 = 1.6666666666666667\n",
      "\n",
      "Modulus:\n",
      " 20.0 % 12.0 = 8.0\n",
      "\n",
      "Exponentiation:\n",
      " 20.0 ** 12.0 = 4096000000000000.0\n",
      "\n",
      "Floor Division:\n",
      " 20.0 // 12.0 = 1.0\n",
      "\n"
     ]
    }
   ],
   "source": [
    "### 7. Write a program that performs basic arithmetic operations on two user-input numbers.\n",
    "\n",
    "def basic_arithmetic_operations(a, b):\n",
    "    print(f\"Addition:\\n {a} + {b} = {a + b}\\n\")\n",
    "    print(f\"Subtraction:\\n {a} - {b} = {a - b}\\n\")\n",
    "    print(f\"Multiplication:\\n {a} * {b} = {a * b}\\n\")\n",
    "    print(f\"Division:\\n {a} / {b} = {a / b}\\n\")\n",
    "    print(f\"Modulus:\\n {a} % {b} = {a % b}\\n\")\n",
    "    print(f\"Exponentiation:\\n {a} ** {b} = {a ** b}\\n\")\n",
    "    print(f\"Floor Division:\\n {a} // {b} = {a // b}\\n\")\n",
    "\n",
    "# Get user input\n",
    "num1 = float(input(\"Enter first number: \"))\n",
    "num2 = float(input(\"Enter second number: \"))\n",
    "\n",
    "basic_arithmetic_operations(num1, num2)"
   ]
  },
  {
   "cell_type": "code",
   "execution_count": 19,
   "id": "3a1102a9",
   "metadata": {},
   "outputs": [
    {
     "name": "stdout",
     "output_type": "stream",
     "text": [
      "Logical AND:\n",
      " False and True = False\n",
      "\n",
      "Logical OR:\n",
      " False or True = True\n",
      "\n",
      "Logical NOT:\n",
      " not False = True\n",
      "\n",
      "Logical NOT:\n",
      " not True = False\n",
      "\n"
     ]
    }
   ],
   "source": [
    "### 8. Write a program to demonstrate the use of logical operators.\n",
    "\n",
    "def logical_operators_demo(a, b):\n",
    "    print(f\"Logical AND:\\n {a} and {b} = {a and b}\\n\")\n",
    "    print(f\"Logical OR:\\n {a} or {b} = {a or b}\\n\")\n",
    "    print(f\"Logical NOT:\\n not {a} = {not a}\\n\")\n",
    "    print(f\"Logical NOT:\\n not {b} = {not b}\\n\")\n",
    "\n",
    "# Get user input\n",
    "a = bool(int(input(\"Enter first boolean value (0 or 1): \")))\n",
    "b = bool(int(input(\"Enter second boolean value (0 or 1): \")))\n",
    "\n",
    "logical_operators_demo(a, b)"
   ]
  },
  {
   "cell_type": "code",
   "execution_count": 22,
   "id": "67d1cb60",
   "metadata": {},
   "outputs": [
    {
     "name": "stdout",
     "output_type": "stream",
     "text": [
      "\n",
      "Original Input: 100\n",
      "Converted to Integer: 100\n",
      "Converted to Float: 100.0\n",
      "Converted to Boolean: None\n",
      "\n",
      "Original Input: 25.98\n",
      "Cannot convert to Integer.\n",
      "Converted to Float: 25.98\n",
      "Converted to Boolean: None\n",
      "\n",
      "Original Input: TRUE\n",
      "Cannot convert to Integer.\n",
      "Cannot convert to Float.\n",
      "Converted to Boolean: True\n"
     ]
    }
   ],
   "source": [
    "### 9. Write a Python program to convert user input from string to integer, float, and boolean types. \n",
    "\n",
    "def convert_input(user_input):\n",
    "\n",
    "    print(f\"\\nOriginal Input: {user_input}\")\n",
    "\n",
    "    try:\n",
    "        int_value = int(user_input)\n",
    "        print(f\"Converted to Integer: {int_value}\")\n",
    "    except ValueError:\n",
    "        print(\"Cannot convert to Integer.\")\n",
    "\n",
    "    try:\n",
    "        float_value = float(user_input)\n",
    "        print(f\"Converted to Float: {float_value}\")\n",
    "    except ValueError:\n",
    "        print(\"Cannot convert to Float.\")\n",
    "\n",
    "    if user_input.lower() in ['true', '1']:\n",
    "        bool_value = True\n",
    "    elif user_input.lower() in ['false', '0']:\n",
    "        bool_value = False\n",
    "    else:\n",
    "        bool_value = None\n",
    "    print(f\"Converted to Boolean: {bool_value}\")\n",
    "\n",
    "# Get user input\n",
    "user_input1 = input(\"Enter a value: \")\n",
    "user_input2 = input(\"Enter a value: \")\n",
    "user_input3 = input(\"Enter a value: \")\n",
    "convert_input(user_input1)\n",
    "convert_input(user_input2)\n",
    "convert_input(user_input3)"
   ]
  },
  {
   "cell_type": "code",
   "execution_count": 2,
   "id": "39837005",
   "metadata": {},
   "outputs": [
    {
     "name": "stdout",
     "output_type": "stream",
     "text": [
      "Original (strings): ['1', '2', '3', '4.5', '6.7']\n",
      "To float: [1.0, 2.0, 3.0, 4.5, 6.7]\n",
      "To int: [1, 2, 3, 4, 6]\n",
      "Back to string: ['1', '2', '3', '4', '6']\n"
     ]
    }
   ],
   "source": [
    "### 10. Write code to demonstrate type casting with list elements. \n",
    "\n",
    "# List of string numbers\n",
    "str_list = ['1', '2', '3', '4.5', '6.7']\n",
    "\n",
    "# Convert string elements to float using explicit type casting\n",
    "float_list = [float(x) for x in str_list]\n",
    "\n",
    "# Convert float elements to int (truncates decimal part)\n",
    "int_list = [int(x) for x in float_list]\n",
    "\n",
    "# Convert int elements to strings again\n",
    "back_to_str = [str(x) for x in int_list]\n",
    "\n",
    "# Display all steps\n",
    "print(\"Original (strings):\", str_list)\n",
    "print(\"To float:\", float_list)\n",
    "print(\"To int:\", int_list)\n",
    "print(\"Back to string:\", back_to_str)"
   ]
  },
  {
   "cell_type": "code",
   "execution_count": 3,
   "id": "b0a55194",
   "metadata": {},
   "outputs": [
    {
     "name": "stdout",
     "output_type": "stream",
     "text": [
      "10 is positive.\n",
      "-5 is negative.\n",
      "0 is zero.\n"
     ]
    }
   ],
   "source": [
    "### 11. Write a program that checks if a number is positive, negative, or zero.\n",
    "\n",
    "def check_number(num):\n",
    "    if num > 0:\n",
    "        print(f\"{num} is positive.\")\n",
    "    elif num < 0:\n",
    "        print(f\"{num} is negative.\")\n",
    "    else:\n",
    "        print(f\"{num} is zero.\")\n",
    "\n",
    "check_number(10)\n",
    "check_number(-5)\n",
    "check_number(0)"
   ]
  },
  {
   "cell_type": "code",
   "execution_count": 4,
   "id": "caf88982",
   "metadata": {},
   "outputs": [
    {
     "name": "stdout",
     "output_type": "stream",
     "text": [
      "1 2 3 4 5 6 7 8 9 10 "
     ]
    }
   ],
   "source": [
    "### 12. Write a for loop to print numbers from 1 to 10. \n",
    "\n",
    "for i in range(1, 11):\n",
    "    print(i, end=\" \")"
   ]
  },
  {
   "cell_type": "code",
   "execution_count": 5,
   "id": "57e903ba",
   "metadata": {},
   "outputs": [
    {
     "name": "stdout",
     "output_type": "stream",
     "text": [
      "Sum of even numbers between 1 and 50: 650\n"
     ]
    }
   ],
   "source": [
    "### 13. Write a Python program to find the sum of all even numbers between 1 and 50. \n",
    "\n",
    "def sum_of_even_numbers(start, end):\n",
    "    total = 0\n",
    "    for num in range(start, end + 1):\n",
    "        if num % 2 == 0:\n",
    "            total += num\n",
    "    return total\n",
    "\n",
    "print(\"Sum of even numbers between 1 and 50:\", sum_of_even_numbers(1, 50))"
   ]
  },
  {
   "cell_type": "code",
   "execution_count": 6,
   "id": "54437af1",
   "metadata": {},
   "outputs": [
    {
     "data": {
      "text/plain": [
       "'dlrow olleh'"
      ]
     },
     "execution_count": 6,
     "metadata": {},
     "output_type": "execute_result"
    }
   ],
   "source": [
    "### 14. Write a program to reverse a string using a while loop.\n",
    "\n",
    "def reverse_string(s):\n",
    "    reversed_str = \"\"\n",
    "    index = len(s) - 1\n",
    "    \n",
    "    while index >= 0:\n",
    "        reversed_str += s[index]\n",
    "        index -= 1\n",
    "    \n",
    "    return reversed_str\n",
    "\n",
    "reverse_string(\"hello world\")"
   ]
  },
  {
   "cell_type": "code",
   "execution_count": 7,
   "id": "ef5bc590",
   "metadata": {},
   "outputs": [
    {
     "name": "stdout",
     "output_type": "stream",
     "text": [
      "Factorial of 5: 120\n",
      "Factorial of 0: 1\n",
      "Factorial of 1: 1\n",
      "Factorial of 3: 6\n"
     ]
    }
   ],
   "source": [
    "### 15. Write a Python program to calculate the factorial of a number provided by the user using a while loop.\n",
    "\n",
    "def factorial(n):\n",
    "    result = 1\n",
    "    while n > 1:\n",
    "        result *= n\n",
    "        n -= 1\n",
    "    return result\n",
    "\n",
    "print(\"Factorial of 5:\", factorial(5))  # Output: 120\n",
    "print(\"Factorial of 0:\", factorial(0))  # Output: 1\n",
    "print(\"Factorial of 1:\", factorial(1))  # Output: 1\n",
    "print(\"Factorial of 3:\", factorial(3))  # Output: 6"
   ]
  }
 ],
 "metadata": {
  "kernelspec": {
   "display_name": "Python 3",
   "language": "python",
   "name": "python3"
  },
  "language_info": {
   "codemirror_mode": {
    "name": "ipython",
    "version": 3
   },
   "file_extension": ".py",
   "mimetype": "text/x-python",
   "name": "python",
   "nbconvert_exporter": "python",
   "pygments_lexer": "ipython3",
   "version": "3.12.9"
  }
 },
 "nbformat": 4,
 "nbformat_minor": 5
}
