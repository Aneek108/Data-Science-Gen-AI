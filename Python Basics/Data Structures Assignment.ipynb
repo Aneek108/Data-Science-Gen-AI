{
 "cells": [
  {
   "cell_type": "markdown",
   "id": "aa5a430e",
   "metadata": {},
   "source": [
    "# Assignment: Data Structures"
   ]
  },
  {
   "cell_type": "markdown",
   "id": "3424d08c",
   "metadata": {},
   "source": [
    "---\n",
    "## I. Theoretical Questions"
   ]
  },
  {
   "cell_type": "markdown",
   "id": "70d0cb15",
   "metadata": {},
   "source": [
    "---\n",
    "### 1. What are data structures, and why are they important?"
   ]
  },
  {
   "cell_type": "markdown",
   "id": "65d6566e",
   "metadata": {},
   "source": [
    "**Data structures** are **special ways of organizing and storing data** in a computer so that it can be accessed and used efficiently. Think of them like **containers** or **blueprints** that help manage data depending on the task you're trying to solve.\n",
    "\n",
    "Data structures are crucial in programming because they:\n",
    "\n",
    "- **Help manage large amounts of data efficiently**\n",
    "\n",
    "    - Example: A list can store thousands of user names; a dictionary can map IDs to profiles.\n",
    "\n",
    "- **Enable faster access and updates**\n",
    "\n",
    "    - Example: Using a dictionary lets you find a value instantly by key, like a contact by name.\n",
    "\n",
    "- **Provide the right tools for specific tasks**\n",
    "\n",
    "    * Want to work with ordered items? Use a list or tuple.\n",
    "    * Need quick lookups? Use a dictionary or set.\n",
    "    * Need a First-In-First-Out system? Use a queue.\n",
    "    * Want to reverse elements easily? Use a stack.\n",
    "\n",
    "- **Improve performance and optimize memory**\n",
    "\n",
    "    * Choosing the right data structure reduces runtime and saves memory.\n",
    "\n",
    "- **Make complex operations simpler**\n",
    "\n",
    "    * Sorting, searching, merging, mapping, filtering — all become easier with proper structures.\n",
    "\n",
    "**Common Data Structures in Python**\n",
    "\n",
    "| Type    | Example Syntax     | Description                               |\n",
    "| ------- | ------------------ | ----------------------------------------- |\n",
    "| `list`  | `[1, 2, 3]`        | Ordered, mutable collection               |\n",
    "| `tuple` | `(1, 2, 3)`        | Ordered, immutable collection             |\n",
    "| `set`   | `{1, 2, 3}`        | Unordered collection of unique items      |\n",
    "| `dict`  | `{'a': 1, 'b': 2}` | Key-value pairs (like a map or phonebook) |"
   ]
  },
  {
   "cell_type": "markdown",
   "id": "841c52cd",
   "metadata": {},
   "source": [
    "---\n",
    "### 2. Explain the difference between mutable and immutable data types with examples. "
   ]
  },
  {
   "cell_type": "markdown",
   "id": "2a6aa67e",
   "metadata": {},
   "source": [
    "| Type          | Can be Changed After Creation? | Example Types                          |\n",
    "| ------------- | ------------------------------ | -------------------------------------- |\n",
    "| **Mutable**   | ✅ Yes                         | `list`, `dict`, `set`                  |\n",
    "| **Immutable** | ❌ No                          | `int`, `float`, `str`, `tuple`, `bool` |\n",
    "\n",
    "- **Mutable Data Types**: These **can be modified in-place**, meaning you can change their content without changing their identity (memory address).\n",
    "\n",
    "    ```python\n",
    "    my_list = [1, 2, 3]\n",
    "    my_list.append(4)   # Modifies the list\n",
    "    print(my_list)      # Output: [1, 2, 3, 4]\n",
    "    ```\n",
    "    The original `my_list` is changed — it's the same object in memory.\n",
    "\n",
    "- **Immutable Data Types**: These **cannot be modified once created**. Any operation that seems to \"change\" the value actually creates a **new object** in memory.\n",
    "\n",
    "    ```python\n",
    "    my_str = \"hello\"\n",
    "    my_str += \" world\"    # Creates a new string\n",
    "    print(my_str)         # Output: \"hello world\"\n",
    "    ```\n",
    "    Even though it looks like we added `\" world\"` to `my_str`, it actually created a **new string object**."
   ]
  },
  {
   "cell_type": "markdown",
   "id": "5fee1cdd",
   "metadata": {},
   "source": [
    "---\n",
    "### 3. What are the main differences between lists and tuples in Python? "
   ]
  },
  {
   "cell_type": "markdown",
   "id": "3721cd78",
   "metadata": {},
   "source": [
    "| Feature                     | **List**                                | **Tuple**                             |\n",
    "| --------------------------- | --------------------------------------- | ------------------------------------- |\n",
    "| **Mutability**              | ✅ Mutable (can be changed)            | ❌ Immutable (cannot be changed)      |\n",
    "| **Syntax**                  | Square brackets: `[1, 2, 3]`            | Parentheses: `(1, 2, 3)`              |\n",
    "| **Performance**             | Slightly slower                         | Slightly faster (due to immutability) |\n",
    "| **Methods Available**       | Many methods like `.append()`, `.pop()` | Fewer methods                         |\n",
    "| **Use Case**                | When data can change (dynamic)          | When data should not change (fixed)   |\n",
    "| **Memory Usage**            | Higher                                  | Lower                                 |"
   ]
  },
  {
   "cell_type": "markdown",
   "id": "efc12997",
   "metadata": {},
   "source": [
    "---\n",
    "### 4. Describe how dictionaries store data. "
   ]
  },
  {
   "cell_type": "markdown",
   "id": "128efadd",
   "metadata": {},
   "source": [
    "A **dictionary** is an **unordered**, **mutable** collection of **key-value pairs**.\n",
    "Each value is accessed using its unique **key** (not by position like in lists).\n",
    "\n",
    "```python\n",
    "my_dict = {\n",
    "    \"name\": \"Alice\",\n",
    "    \"age\": 25,\n",
    "    \"city\": \"New York\"\n",
    "}\n",
    "```\n",
    "* `\"name\"`, `\"age\"` and `\"city\"` are **keys**\n",
    "* `\"Bob\"`, `30` and `\"New York\"` are the **values**\n",
    "* Internally, `hash(\"name\")` gives a memory address where the pair is stored\n",
    "\n",
    "Dictionaries in Python use a data structure called a **hash table**:\n",
    "\n",
    "#### **🔧 Internal Mechanism**:\n",
    "\n",
    "1. **Key is passed into a hash function** → generates a unique **hash code**\n",
    "2. This hash code determines where the key-value pair is **stored in memory**\n",
    "3. **Values are stored alongside their keys** at that position\n",
    "4. Python handles **collisions** (when two keys have the same hash) smartly using internal techniques like open addressing\n",
    "\n",
    "#### **Features of Dictionary Storage**:\n",
    "\n",
    "| Feature                           | Explanation                                         |\n",
    "| --------------------------------- | --------------------------------------------------- |\n",
    "| **Fast lookups**                  | Almost constant time (`O(1)`) for accessing a value |\n",
    "| **Unique keys**                   | Keys must be unique and hashable                    |\n",
    "| **Mutable values**                | You can change, add, or delete items freely         |\n",
    "| **Unordered (before Python 3.7)** | No guaranteed order                                 |\n",
    "| **Ordered (Python 3.7+)**         | Insertion order is preserved                        |"
   ]
  },
  {
   "cell_type": "markdown",
   "id": "c2d0d6b2",
   "metadata": {},
   "source": [
    "---\n",
    "### 5. Why might you use a set instead of a list in Python? "
   ]
  },
  {
   "cell_type": "markdown",
   "id": "31bddd86",
   "metadata": {},
   "source": [
    "- **To Store Unique Items**\n",
    "\n",
    "    Sets automatically **remove duplicates**.\n",
    "\n",
    "    ```python\n",
    "    my_list = [1, 2, 2, 3, 3, 3]\n",
    "    my_set = set(my_list)\n",
    "    print(my_set)  # Output: {1, 2, 3}\n",
    "    ```\n",
    "\n",
    "- **Faster Membership Testing**\n",
    "\n",
    "    Checking if a value exists is **much faster** in a set (`O(1)` average time) than in a list (`O(n)` time).\n",
    "\n",
    "    ```python\n",
    "    # Large list\n",
    "    nums = list(range(1000000))\n",
    "\n",
    "    # Checking in list\n",
    "    999999 in nums  # Slower\n",
    "\n",
    "    # Convert to set\n",
    "    num_set = set(nums)\n",
    "    999999 in num_set  # Much faster\n",
    "    ```\n",
    "\n",
    "- **Set Operations**\n",
    "\n",
    "    Sets support powerful operations like:\n",
    "\n",
    "    * `union()`\n",
    "    * `intersection()`\n",
    "    * `difference()`\n",
    "    * `symmetric_difference()`\n",
    "\n",
    "    ```python\n",
    "    a = {1, 2, 3}\n",
    "    b = {2, 3, 4}\n",
    "    print(a & b)  # Intersection: {2, 3}\n",
    "    ```\n",
    "\n",
    "- **You Don’t Care About Order or Indexing**\n",
    "\n",
    "    * Sets are **unordered**\n",
    "    * You **cannot** access elements using an index\n",
    "\n",
    "    ```python\n",
    "    my_set = {10, 20, 30}\n",
    "    # my_set[0] → ❌ Error!\n",
    "    ```"
   ]
  },
  {
   "cell_type": "markdown",
   "id": "98d328af",
   "metadata": {},
   "source": [
    "---\n",
    "### 6. What is a string in Python, and how is it different from a list? "
   ]
  },
  {
   "cell_type": "markdown",
   "id": "23977736",
   "metadata": {},
   "source": [
    "A **string** is a sequence of **characters**, enclosed in quotes.\n",
    "It is used to represent **textual data**.\n",
    "\n",
    "```python\n",
    "name = \"Alice\"\n",
    "greeting = 'Hello, world!'\n",
    "```\n",
    "\n",
    "Each character in a string can be accessed using **indexing**:\n",
    "\n",
    "```python\n",
    "print(name[0])  # Output: 'A'\n",
    "```\n",
    "\n",
    "#### Difference Between String and List\n",
    "\n",
    "| Feature          | **String**                  | **List**                                |\n",
    "| ---------------- | --------------------------- | --------------------------------------- |\n",
    "| **Data Type**    | `str`                       | `list`                                  |\n",
    "| **Content Type** | Only characters (text)      | Any data types (numbers, strings, etc.) |\n",
    "| **Mutable?**     | ❌ Immutable (cannot change) | ✅ Mutable (can change elements)      |\n",
    "| **Syntax**       | `'Hello'` or `\"Hello\"`      | `[1, 2, 'Hello', True]`                 |\n",
    "| **Common Use**   | Working with text           | Storing collections of items            |"
   ]
  },
  {
   "cell_type": "markdown",
   "id": "f72854e9",
   "metadata": {},
   "source": [
    "---\n",
    "### 7. How do tuples ensure data integrity in Python? "
   ]
  },
  {
   "cell_type": "markdown",
   "id": "929e3537",
   "metadata": {},
   "source": [
    "- **Immutability (Cannot Be Changed)**: Once a tuple is created, its contents **cannot be modified**:\n",
    "\n",
    "    * No adding\n",
    "    * No deleting\n",
    "    * No reordering\n",
    "    * No updating\n",
    "\n",
    "    This guarantees that the data stays exactly as it was defined — no accidental changes.\n",
    "\n",
    "- **Safe for Keys and Set Elements**: Because tuples are immutable, they are **hashable**, which means:\n",
    "\n",
    "    * They can be used as **dictionary keys**\n",
    "    * They can be stored in **sets**\n",
    "\n",
    "    A mutable object like a list cannot be used this way, because its value might change and break internal hashing.\n",
    "\n",
    "- **Reliable for Fixed Collections**: Tuples are ideal when you want to represent **fixed, grouped data** — like:\n",
    "\n",
    "    * GPS coordinates `(lat, long)`\n",
    "    * RGB colors `(255, 255, 0)`\n",
    "    * Date of birth `(year, month, day)`\n",
    "\n",
    "    Since these shouldn't change, using a tuple ensures the structure stays safe."
   ]
  },
  {
   "cell_type": "markdown",
   "id": "6d9b7de5",
   "metadata": {},
   "source": [
    "---\n",
    "### 8. What is a hash table, and how does it relate to dictionaries in Python? "
   ]
  },
  {
   "cell_type": "markdown",
   "id": "5836ad0b",
   "metadata": {},
   "source": [
    "A **hash table** is a data structure that stores **key-value pairs** and allows for **fast access** to values based on their keys.\n",
    "\n",
    "Think of it like:\n",
    "\n",
    "* A **locker room**, where each key has a **unique locker**\n",
    "* You use the key to go **directly to the right spot** instead of searching all lockers one by one\n",
    "\n",
    "#### How Does It Work?\n",
    "\n",
    "1. **Hashing**\n",
    "   The key is passed through a **hash function**, which converts it into a **unique integer (hash code)**.\n",
    "\n",
    "   ```python\n",
    "   hash(\"name\")  # → returns an integer\n",
    "   ```\n",
    "\n",
    "2. **Indexing**\n",
    "   The hash code determines where the key-value pair is **stored in memory** (a specific \"bucket\").\n",
    "\n",
    "3. **Collision Handling**\n",
    "   If two keys hash to the same bucket (collision), Python uses smart techniques like:\n",
    "\n",
    "   * **Open addressing**\n",
    "   * **Chaining** (linked lists)\n",
    "\n",
    "4. **Retrieval**\n",
    "   When you access a value using its key, Python re-hashes the key to **find the exact spot immediately** — super fast!\n",
    "\n",
    "#### How Does This Relate to Dictionaries in Python?\n",
    "\n",
    "A **dictionary** in Python is **built on top of a hash table**.\n",
    "\n",
    "```python\n",
    "my_dict = {\"name\": \"Alice\", \"age\": 22}\n",
    "```\n",
    "\n",
    "* `\"name\"` is **hashed** → stored at an internal location with value `\"Alice\"`\n",
    "* Accessing `my_dict[\"name\"]` is done in constant time: `O(1)`\n",
    "\n",
    "Benefits of Hash Tables in Dicts:\n",
    "\n",
    "| Feature                 | Why It’s Useful                      |\n",
    "| ----------------------- | ------------------------------------ |\n",
    "| **Fast Lookups**        | Almost instant value retrieval       |\n",
    "| **Efficient Insertion** | Adding key-value pairs is quick      |\n",
    "| **Unique Keys**         | Prevents duplicate key issues        |\n",
    "| **Dynamic Resizing**    | Python handles memory under the hood |\n",
    "\n",
    "Limitations:\n",
    "\n",
    "* Only **immutable and hashable** objects can be used as keys (e.g., `str`, `int`, `tuple`)\n",
    "* Keys like `list` or `dict` (which are mutable) will raise an error"
   ]
  },
  {
   "cell_type": "markdown",
   "id": "bd484a55",
   "metadata": {},
   "source": [
    "---\n",
    "### 9. Can lists contain different data types in Python? "
   ]
  },
  {
   "cell_type": "markdown",
   "id": "68da492a",
   "metadata": {},
   "source": [
    "Yes! **Lists in Python can contain elements of different data types** — and that’s one of the reasons why lists are so flexible and powerful.\n",
    "\n",
    "```python\n",
    "my_list = [42, \"hello\", 3.14, True, None, [1, 2], {\"key\": \"value\"}]\n",
    "```\n",
    "\n",
    "This list contains:\n",
    "\n",
    "* `int` → `42`\n",
    "* `str` → `\"hello\"`\n",
    "* `float` → `3.14`\n",
    "* `bool` → `True`\n",
    "* `NoneType` → `None`\n",
    "* `list` → `[1, 2]`\n",
    "* `dict` → `{\"key\": \"value\"}`\n",
    "\n",
    "#### Why Is This Possible?\n",
    "\n",
    "Python is a **dynamically typed language**, which means:\n",
    "\n",
    "* It doesn’t require you to declare variable types\n",
    "* Lists (and other containers) can hold **any kind of object**\n",
    "\n",
    "Internally, Python stores each item in a list as a reference (or pointer) to the actual object in memory, so the type doesn’t matter."
   ]
  },
  {
   "cell_type": "markdown",
   "id": "8b9de08f",
   "metadata": {},
   "source": [
    "---\n",
    "### 10. Explain why strings are immutable in Python. "
   ]
  },
  {
   "cell_type": "markdown",
   "id": "62cf9580",
   "metadata": {},
   "source": [
    "Strings being immutable is an intelligent design choice — and here's why it's actually a good thing.\n",
    "\n",
    "- **Strings Are Widely Used as Dictionary Keys**: Because strings are immutable, they’re **hashable**. This means their hash value remains **consistent**, making them safe to use as:\n",
    "\n",
    "    * Keys in **dictionaries**\n",
    "    * Elements in **sets**\n",
    "\n",
    "- **Performance and Memory Efficiency**: Immutable objects can be:\n",
    "\n",
    "    * **Interned** (Python reuses common strings like `\"yes\"`, `\"no\"`, etc. to save memory)\n",
    "    * **Shared across programs** safely\n",
    "\n",
    "    This speeds up performance in string-heavy applications.\n",
    "\n",
    "- **Thread-Safety**: Immutability means strings **can’t be changed by mistake** in multi-threaded programs — which avoids weird bugs.\n",
    "\n",
    "- **Predictability and Simplicity**: Immutable types are easier to:\n",
    "\n",
    "    * Debug\n",
    "    * Track in memory\n",
    "    * Trust not to change unexpectedly"
   ]
  },
  {
   "cell_type": "markdown",
   "id": "e21c0fa4",
   "metadata": {},
   "source": [
    "---\n",
    "### 11. What advantages do dictionaries offer over lists for certain tasks? "
   ]
  },
  {
   "cell_type": "markdown",
   "id": "f867b0ff",
   "metadata": {},
   "source": [
    "#### a. **Fast Lookups by Key (O(1) Time)**\n",
    "\n",
    "* Dictionaries allow **constant-time access** using a key.\n",
    "* Lists require **searching** through elements (O(n)) if you don’t know the index.\n",
    "\n",
    "    ```python\n",
    "    # Dictionary: Direct lookup\n",
    "    person = {\"name\": \"Alice\", \"age\": 22}\n",
    "    print(person[\"age\"])  # Output: 22\n",
    "\n",
    "    # List: You'd need to know or find the index\n",
    "    data = [\"Alice\", 22]\n",
    "    print(data[1])  # Output: 22\n",
    "    ```\n",
    "\n",
    "#### b. **More Descriptive Keys**\n",
    "\n",
    "* Dictionaries use **meaningful keys** instead of numeric indexes, making code more readable and self-documenting.\n",
    "\n",
    "    ```python\n",
    "    student = {\"roll\": 101, \"name\": \"Aman\", \"marks\": 95}\n",
    "    # vs.\n",
    "    student_list = [101, \"Aman\", 95]\n",
    "    ```\n",
    "\n",
    "#### c. **No Need to Remember Index Order**\n",
    "\n",
    "* With lists, you must **remember what each index means**.\n",
    "* Dictionaries eliminate this problem by using keys.\n",
    "\n",
    "\n",
    "#### d. **Easier to Represent Structured Data**\n",
    "\n",
    "* When dealing with records, objects, or configurations, dictionaries are a natural fit.\n",
    "\n",
    "    ```python\n",
    "    # Student info using a dict\n",
    "    student = {\"id\": 1, \"name\": \"Riya\", \"course\": \"Python\"}\n",
    "    ```\n",
    "\n",
    "#### e. **Dynamic Data Access**\n",
    "\n",
    "* You can easily add/remove/update entries by key:\n",
    "\n",
    "    ```python\n",
    "    profile = {\"name\": \"Sam\"}\n",
    "    profile[\"age\"] = 25  # Add new key-value pair\n",
    "    ```\n",
    "\n",
    "#### f. **Better for Real-World Objects**\n",
    "\n",
    "* Dictionaries model real-world entities (users, books, orders) better than lists."
   ]
  },
  {
   "cell_type": "markdown",
   "id": "eabc2f7c",
   "metadata": {},
   "source": [
    "---\n",
    "### 12. Describe a scenario where using a tuple would be preferable over a list. "
   ]
  },
  {
   "cell_type": "markdown",
   "id": "f74a5082",
   "metadata": {},
   "source": [
    "Tuples are mostly used to represent **RGB colors**.\n",
    "\n",
    "Tuple is perfect for RGB representation because:\n",
    "\n",
    "| Feature                    | Why It Matters for RGB                    |\n",
    "| -------------------------- | ----------------------------------------- |\n",
    "| 🎯 **Fixed length**        | RGB always has 3 values                   |\n",
    "| 🔒 **Immutable**           | A color shouldn't change accidentally     |\n",
    "| 🧠 **Structured grouping** | Groups red, green, blue as a single unit  |\n",
    "| 🧮 **Hashable**            | Can be used as dictionary keys or in sets |\n",
    "| 💨 **Efficient**           | Faster and uses less memory than a list   |\n",
    "\n",
    "#### Real-World Use Case: Drawing Libraries\n",
    "\n",
    "Using RGB Tuples in `PIL` (Python Imaging Library / Pillow)\n",
    "\n",
    "```python\n",
    "from PIL import Image, ImageDraw\n",
    "\n",
    "img = Image.new(\"RGB\", (100, 100), (255, 255, 255))  # white background\n",
    "draw = ImageDraw.Draw(img)\n",
    "draw.rectangle([10, 10, 90, 90], fill=(255, 0, 0))  # red rectangle\n",
    "img.show()\n",
    "```\n",
    "The color is passed as an **RGB tuple**.\n",
    "\n",
    "#### Visualizing RGB\n",
    "\n",
    "| Color Name | RGB Tuple         | Description              |\n",
    "| ---------- | ----------------- | ------------------------ |\n",
    "| Red        | `(255, 0, 0)`     | Full red, no green/blue  |\n",
    "| Green      | `(0, 255, 0)`     | Full green               |\n",
    "| Blue       | `(0, 0, 255)`     | Full blue                |\n",
    "| Yellow     | `(255, 255, 0)`   | Red + Green              |\n",
    "| Cyan       | `(0, 255, 255)`   | Green + Blue             |\n",
    "| Magenta    | `(255, 0, 255)`   | Red + Blue               |\n",
    "| Black      | `(0, 0, 0)`       | Absence of light         |\n",
    "| White      | `(255, 255, 255)` | All colors full strength |"
   ]
  },
  {
   "cell_type": "markdown",
   "id": "19b2c028",
   "metadata": {},
   "source": [
    "---\n",
    "### 13. How do sets handle duplicate values in Python? "
   ]
  },
  {
   "cell_type": "markdown",
   "id": "1265d758",
   "metadata": {},
   "source": [
    "When you create a set, Python automatically **removes any duplicate elements** for you.\n",
    "```python\n",
    "my_set = {1, 2, 2, 3, 4, 4, 4}\n",
    "print(my_set)  # Output: {1, 2, 3, 4}\n",
    "```\n",
    "**Output**:\n",
    "```python\n",
    "{1, 2, 3, 4}\n",
    "```\n",
    "\n",
    "Only **unique values** are kept in a set. Any duplicates are ignored silently.\n",
    "\n",
    "* Sets are based on **hash tables**, just like dictionaries.\n",
    "* Each element must be **hashable** and has a **unique hash value**.\n",
    "* If you try to insert a value that already exists (same hash), it’s not added again.\n",
    "\n",
    "Great for use-cases like:\n",
    "\n",
    "* Removing duplicates\n",
    "* Membership testing\n",
    "* Mathematical set operations (union, intersection, etc.)"
   ]
  },
  {
   "cell_type": "markdown",
   "id": "dd32c38f",
   "metadata": {},
   "source": [
    "---\n",
    "### 14. How does the \"in\" keyword work differently for lists and dictionaries? "
   ]
  },
  {
   "cell_type": "markdown",
   "id": "3d5c1b6d",
   "metadata": {},
   "source": [
    "#### a. `in` with Lists\n",
    "\n",
    "When you use `in` with a **list**, it checks if the **value is present as an element** in the list.\n",
    "\n",
    "```python\n",
    "fruits = [\"apple\", \"banana\", \"mango\"]\n",
    "print(\"banana\" in fruits)  # True\n",
    "print(\"grape\" in fruits)   # False\n",
    "```\n",
    "\n",
    "⚙️ Internally:\n",
    "\n",
    "* Performs a **linear search** (O(n) time)\n",
    "* Compares each element one by one until a match is found or list ends\n",
    "\n",
    "\n",
    "\n",
    "#### b. `in` with Dictionaries\n",
    "\n",
    "When you use `in` with a **dictionary**, it checks if the **key** exists (not the value).\n",
    "\n",
    "```python\n",
    "student = {\"name\": \"Aman\", \"age\": 20}\n",
    "print(\"name\" in student)   # True (key)\n",
    "print(\"Aman\" in student)   # False (value)\n",
    "```\n",
    "But if you want to Check Values in a Dictionary:\n",
    "\n",
    "```python\n",
    "print(\"Aman\" in student.values())  # True\n",
    "```\n",
    "\n",
    "⚙️ Internally:\n",
    "\n",
    "* Uses **hashing** for key lookups (O(1) time)\n",
    "* Very fast compared to list lookups\n",
    "\n",
    "\n",
    "\n",
    "#### Comparing Table\n",
    "\n",
    "| Operation              | `List`                              | `Dictionary`      |\n",
    "| ---------------------- | ----------------------------------- | ----------------- |\n",
    "| `in` checks for        | **Value**                           | **Key**           |\n",
    "| Lookup time complexity | O(n)                                | O(1) (on average) |\n",
    "| Example                | `\"apple\" in list`                   | `\"name\" in dict`  |\n",
    "| Value check (dict)     | Must use: `\"Aman\" in dict.values()` | Default           |\n",
    "\n"
   ]
  },
  {
   "cell_type": "markdown",
   "id": "7fd9550f",
   "metadata": {},
   "source": [
    "---\n",
    "### 15. Can you modify the elements of a tuple? Explain why or why not. "
   ]
  },
  {
   "cell_type": "markdown",
   "id": "cef11726",
   "metadata": {},
   "source": [
    "No, you **cannot modify the elements of a tuple** in Python. Because:\n",
    "\n",
    "🔒 Tuples Are Immutable\n",
    "\n",
    "* **Immutability** means once a tuple is created, **its contents cannot be changed**.\n",
    "* You **cannot add, remove, or change** any element in the tuple.\n",
    "\n",
    "**Example:**\n",
    "\n",
    "```python\n",
    "t = (1, 2, 3)\n",
    "t[0] = 10  # This will raise a TypeError\n",
    "```\n",
    "\n",
    "Output:\n",
    "\n",
    "`TypeError`: 'tuple' object does not support item assignment"
   ]
  },
  {
   "cell_type": "markdown",
   "id": "378cae17",
   "metadata": {},
   "source": [
    "---\n",
    "### 16. What is a nested dictionary, and give an example of its use case? "
   ]
  },
  {
   "cell_type": "markdown",
   "id": "a2ccdc6d",
   "metadata": {},
   "source": [
    "A **nested dictionary** is a dictionary where **some of the values are themselves dictionaries**. This lets you store complex, hierarchical data in a structured way.\n",
    "\n",
    "```python\n",
    "student = {\n",
    "    \"name\": \"Aman\",\n",
    "    \"age\": 20,\n",
    "    \"grades\": {\n",
    "        \"math\": 95,\n",
    "        \"science\": 89,\n",
    "        \"english\": 92\n",
    "    },\n",
    "    \"address\": {\n",
    "        \"city\": \"Delhi\",\n",
    "        \"zipcode\": \"110001\"\n",
    "    }\n",
    "}\n",
    "```\n",
    "\n",
    "Here, `\"grades\"` and `\"address\"` are dictionaries nested inside the main `student` dictionary.\n",
    "\n",
    "#### Why Use Nested Dictionaries?\n",
    "\n",
    "* To **organize related data** under a single key\n",
    "* Represent **complex real-world objects** or JSON-like data\n",
    "* Store hierarchical data, like config settings, user profiles, or records\n",
    "\n",
    "#### **Use Case**: Student Record System\n",
    "\n",
    "```python\n",
    "    print(student[\"grades\"][\"math\"])  # Output: 95\n",
    "\n",
    "    student[\"address\"][\"city\"] = \"Mumbai\"\n",
    "    print(student[\"address\"][\"city\"])  # Output: Mumbai\n",
    "```\n",
    "You can easily access or update specific parts of a student’s data.\n",
    "\n",
    "#### Other Examples of Nested Dictionaries:\n",
    "\n",
    "* **Company employees:** Departments as keys, each with employee info dictionaries\n",
    "* **E-commerce products:** Categories, each with product attributes\n",
    "* **Configuration files:** Sections with their respective settings"
   ]
  },
  {
   "cell_type": "markdown",
   "id": "3020848a",
   "metadata": {},
   "source": [
    "---\n",
    "### 17. Describe the time complexity of accessing elements in a dictionary. "
   ]
  },
  {
   "cell_type": "markdown",
   "id": "5f3484e1",
   "metadata": {},
   "source": [
    "a. Average Case: **O(1)** — Constant Time\n",
    "\n",
    "* Dictionaries in Python are implemented using **hash tables**.\n",
    "* When you access an element by key, Python:\n",
    "\n",
    "  1. Computes the **hash value** of the key.\n",
    "  2. Uses that hash to directly jump to the memory location where the value is stored.\n",
    "* Because of this direct indexing, the average time to access an element is **constant**, regardless of the dictionary size.\n",
    "\n",
    "\n",
    "b. Worst Case: **O(n)** — Linear Time\n",
    "\n",
    "* In rare cases, if many keys hash to the same value (hash collisions), Python will have to **search through a list of items** stored at that hash.\n",
    "* This is very uncommon because Python’s hash function and collision resolution are efficient.\n",
    "* So, in the worst case, lookup could degrade to **O(n)**, where *n* is the number of items."
   ]
  },
  {
   "cell_type": "markdown",
   "id": "647c0b41",
   "metadata": {},
   "source": [
    "---\n",
    "### 18. In what situations are lists preferred over dictionaries?"
   ]
  },
  {
   "cell_type": "markdown",
   "id": "b9d1fb59",
   "metadata": {},
   "source": [
    "Both **lists** and **dictionaries** are fundamental Python data structures, but they shine in different scenarios. Here’s when **lists are preferred over dictionaries**:\n",
    "\n",
    "#### a. **Ordered Data or Sequence**\n",
    "\n",
    "* When you need to **preserve the order** of elements (insertion order) and work with **indexed positions**.\n",
    "* Lists maintain order and allow access by integer index (`list[0]`, `list[1]`, ...).\n",
    "\n",
    "**Example:** Storing a sequence of user inputs, playlist songs, or daily temperatures.\n",
    "\n",
    "#### b. **Simple Collections Without Keys**\n",
    "\n",
    "* When your data is just a **collection of values** without the need for associated keys.\n",
    "* Lists are ideal for storing homogeneous or heterogeneous elements accessed sequentially.\n",
    "\n",
    "#### c. **When You Need to Perform Iteration by Index**\n",
    "\n",
    "* If you need to **access elements by position**, or slice parts of the data easily.\n",
    "* Lists support slicing (`list[2:5]`) which dictionaries don’t.\n",
    "\n",
    "#### d. **When You Expect Many Duplicates**\n",
    "\n",
    "* Lists allow duplicate elements freely.\n",
    "* Dictionaries require unique keys — so if duplicates matter, lists are better.\n",
    "\n",
    "#### e. **When You Want to Maintain Insertion Order and Fast Appends**\n",
    "\n",
    "* Lists are optimized for **appending items at the end** (`list.append()`) efficiently.\n",
    "* While dictionaries maintain insertion order (Python 3.7+), they don’t support positional insertions or slices.\n",
    "\n",
    "#### e. **Memory Efficiency for Simple Data**\n",
    "\n",
    "* Lists have less overhead than dictionaries.\n",
    "* If you just need to store many values without keys, lists use less memory.\n",
    "\n",
    "#### 📝 Quick Comparison Table\n",
    "\n",
    "| Scenario                     | Use List | Use Dictionary              |\n",
    "| ---------------------------- | -------- | --------------------------- |\n",
    "| Ordered sequence of elements | ✅        | ❌ (not indexed by position) |\n",
    "| Access by position (index)   | ✅        | ❌                        |\n",
    "| Need key-value pairs         | ❌        | ✅                        |\n",
    "| Duplicate elements allowed   | ✅        | Keys must be unique       |\n",
    "| Efficient appending          | ✅        | Possible but not typical  |\n",
    "| Memory overhead              | Lower    | Higher                      |"
   ]
  },
  {
   "cell_type": "markdown",
   "id": "7535eb1b",
   "metadata": {},
   "source": [
    "---\n",
    "### 19. Why are dictionaries considered unordered, and how does that affect data retrieval?"
   ]
  },
  {
   "cell_type": "markdown",
   "id": "8aa4bdb9",
   "metadata": {},
   "source": [
    "#### Historical Context:\n",
    "\n",
    "* **Before Python 3.7**, dictionaries were officially **unordered**.\n",
    "* This means:\n",
    "\n",
    "  * The order of keys when you iterate over a dictionary was **not guaranteed**.\n",
    "  * It could change unpredictably as you added or removed items.\n",
    "\n",
    "#### How Dictionaries Worked Internally:\n",
    "\n",
    "* Dictionaries are implemented using **hash tables**.\n",
    "* Keys are stored based on their **hash values**, which don’t correspond to insertion order.\n",
    "* The position of each key in memory depends on the hash, not on when it was inserted.\n",
    "\n",
    "#### 📅 Changes Since Python 3.7\n",
    "\n",
    "* Starting with **Python 3.7**, dictionaries **preserve insertion order** as an implementation detail.\n",
    "* Since Python 3.8, this is part of the **language specification**.\n",
    "* So now, dictionaries **remember the order** in which keys were added.\n",
    "\n",
    "#### What Does “Unordered” Mean for Data Retrieval?\n",
    "\n",
    "* **Key Lookup:** Retrieving a value by its key (`d[key]`) is **always fast and unaffected** by ordering.\n",
    "* **Iteration Order:**\n",
    "\n",
    "  * In older Python versions, the order when you loop over `d.keys()`, `d.values()`, or `d.items()` was unpredictable.\n",
    "  * Now, the order follows insertion order, so your iterations are consistent.\n",
    "\n",
    "| Aspect             | Before Python 3.7        | Python 3.7 and Later      |\n",
    "| ------------------ | ------------------------ | ------------------------- |\n",
    "| Ordering           | Unordered                | Ordered (insertion order) |\n",
    "| Key lookup speed   | O(1), fast               | O(1), fast                |\n",
    "| Iteration order    | Unpredictable            | Preserves insertion order |\n",
    "| Use cases affected | Iteration, serialization | Predictable iteration     |"
   ]
  },
  {
   "cell_type": "markdown",
   "id": "16abe182",
   "metadata": {},
   "source": [
    "---\n",
    "### 20. Explain the difference between a list and a dictionary in terms of data retrieval."
   ]
  },
  {
   "cell_type": "markdown",
   "id": "c5039490",
   "metadata": {},
   "source": [
    "#### a. **List**\n",
    "\n",
    "* **Access by index**: You retrieve elements using their **position** (an integer index).\n",
    "\n",
    "    ```python\n",
    "    my_list = ['apple', 'banana', 'cherry']\n",
    "    print(my_list[1])  # Output: banana\n",
    "    ```\n",
    "\n",
    "* **Search by value**: To check if a value exists or find its position, Python scans the list **sequentially** from start to end.\n",
    "\n",
    "    ```python\n",
    "    print(x in my_list)\n",
    "    ```\n",
    "\n",
    "* **Time complexity**:\n",
    "\n",
    "  * Access by index: **O(1)** \n",
    "  * Search by value: **O(n)**\n",
    "\n",
    "#### b. **Dictionary**\n",
    "\n",
    "* **Access by key**: You retrieve values using a **key** (usually a string, number, or tuple).\n",
    "\n",
    "    ```python\n",
    "    my_dict = {'a': 1, 'b': 2, 'c': 3}\n",
    "    print(my_dict['b'])  # Output: 2\n",
    "    ```\n",
    "\n",
    "* **Search by key**: Python uses a **hash table** for dictionaries, so key lookups are extremely fast.\n",
    "\n",
    "    ```python\n",
    "    print(x in my_dict.values())\n",
    "    ```\n",
    "\n",
    "* **Time complexity**:\n",
    "\n",
    "  * Access by key: **O(1)** on average\n",
    "  * Search by value: **O(n)**"
   ]
  },
  {
   "cell_type": "markdown",
   "id": "ca8a6752",
   "metadata": {},
   "source": [
    "---\n",
    "## II. Practical Questions"
   ]
  },
  {
   "cell_type": "code",
   "execution_count": 1,
   "id": "2c8b94cd",
   "metadata": {},
   "outputs": [
    {
     "name": "stdout",
     "output_type": "stream",
     "text": [
      "Aneek\n"
     ]
    }
   ],
   "source": [
    "# 1. Write a code to create a string with your name and print it. \n",
    "name = \"Aneek\"\n",
    "print(name)"
   ]
  },
  {
   "cell_type": "code",
   "execution_count": 2,
   "id": "1c2ac74e",
   "metadata": {},
   "outputs": [
    {
     "name": "stdout",
     "output_type": "stream",
     "text": [
      "11\n"
     ]
    }
   ],
   "source": [
    "# 2. Write a code to find the length of the string \"Hello World\". \n",
    "length = len(\"Hello World\")\n",
    "print(length)"
   ]
  },
  {
   "cell_type": "code",
   "execution_count": 3,
   "id": "5ded1c61",
   "metadata": {},
   "outputs": [
    {
     "name": "stdout",
     "output_type": "stream",
     "text": [
      "Pyt\n"
     ]
    }
   ],
   "source": [
    "# 3. Write a code to slice the first 3 characters from the string \"Python Programming\". \n",
    "sliced = \"Python Programming\"[:3]\n",
    "print(sliced)"
   ]
  },
  {
   "cell_type": "code",
   "execution_count": 4,
   "id": "734b967c",
   "metadata": {},
   "outputs": [
    {
     "name": "stdout",
     "output_type": "stream",
     "text": [
      "HELLO\n"
     ]
    }
   ],
   "source": [
    "# 4. Write a code to convert the string \"hello\" to uppercase. \n",
    "upper_str = \"hello\".upper()\n",
    "print(upper_str)"
   ]
  },
  {
   "cell_type": "code",
   "execution_count": 5,
   "id": "1d3beab0",
   "metadata": {},
   "outputs": [
    {
     "name": "stdout",
     "output_type": "stream",
     "text": [
      "I like orange\n"
     ]
    }
   ],
   "source": [
    "# 5. Write a code to replace the word \"apple\" with \"orange\" in the string \"I like apple\". \n",
    "replaced_str = \"I like apple\".replace(\"apple\", \"orange\")\n",
    "print(replaced_str)"
   ]
  },
  {
   "cell_type": "code",
   "execution_count": 6,
   "id": "c73b4405",
   "metadata": {},
   "outputs": [
    {
     "name": "stdout",
     "output_type": "stream",
     "text": [
      "[1, 2, 3, 4, 5]\n"
     ]
    }
   ],
   "source": [
    "# 6. Write a code to create a list with numbers 1 to 5 and print it. \n",
    "num_list = [1, 2, 3, 4, 5]\n",
    "print(num_list)"
   ]
  },
  {
   "cell_type": "code",
   "execution_count": 7,
   "id": "abea68fb",
   "metadata": {},
   "outputs": [
    {
     "name": "stdout",
     "output_type": "stream",
     "text": [
      "[1, 2, 3, 4, 10]\n"
     ]
    }
   ],
   "source": [
    "# 7. Write a code to append the number 10 to the list [1, 2, 3, 4]. \n",
    "list_to_append = [1, 2, 3, 4]\n",
    "list_to_append.append(10)\n",
    "print(list_to_append)"
   ]
  },
  {
   "cell_type": "code",
   "execution_count": 8,
   "id": "b1db9a7b",
   "metadata": {},
   "outputs": [
    {
     "name": "stdout",
     "output_type": "stream",
     "text": [
      "[1, 2, 4, 5]\n"
     ]
    }
   ],
   "source": [
    "# 8. Write a code to remove the number 3 from the list [1, 2, 3, 4, 5]. \n",
    "list_to_remove = [1, 2, 3, 4, 5]\n",
    "list_to_remove.remove(3)\n",
    "print(list_to_remove)"
   ]
  },
  {
   "cell_type": "code",
   "execution_count": 9,
   "id": "0f36622b",
   "metadata": {},
   "outputs": [
    {
     "name": "stdout",
     "output_type": "stream",
     "text": [
      "b\n"
     ]
    }
   ],
   "source": [
    "# 9. Write a code to access the second element in the list ['a', 'b', 'c', 'd']. \n",
    "letters = ['a', 'b', 'c', 'd']\n",
    "second_element = letters[1]\n",
    "print(second_element)"
   ]
  },
  {
   "cell_type": "code",
   "execution_count": 10,
   "id": "0dd7dfd9",
   "metadata": {},
   "outputs": [
    {
     "name": "stdout",
     "output_type": "stream",
     "text": [
      "[50, 40, 30, 20, 10]\n"
     ]
    }
   ],
   "source": [
    "# 10. Write a code to reverse the list [10, 20, 30, 40, 50].\n",
    "list_to_reverse = [10, 20, 30, 40, 50]\n",
    "list_to_reverse.reverse()\n",
    "print(list_to_reverse)"
   ]
  },
  {
   "cell_type": "code",
   "execution_count": 11,
   "id": "be769334",
   "metadata": {},
   "outputs": [
    {
     "name": "stdout",
     "output_type": "stream",
     "text": [
      "(100, 200, 300)\n"
     ]
    }
   ],
   "source": [
    "# 11. Write a code to create a tuple with the elements 100, 200, 300 and print it. \n",
    "tup = (100, 200, 300)\n",
    "print(tup)"
   ]
  },
  {
   "cell_type": "code",
   "execution_count": 34,
   "id": "e6c5ea0e",
   "metadata": {},
   "outputs": [
    {
     "name": "stdout",
     "output_type": "stream",
     "text": [
      "blue\n"
     ]
    }
   ],
   "source": [
    "# 12. Write a code to access the second-to-last element of the tuple ('red', 'green', 'blue', 'yellow'). \n",
    "color_tuple = ('red', 'green', 'blue', 'yellow')\n",
    "second_to_last = color_tuple[-2]\n",
    "print(second_to_last)"
   ]
  },
  {
   "cell_type": "code",
   "execution_count": 13,
   "id": "21d56582",
   "metadata": {},
   "outputs": [
    {
     "name": "stdout",
     "output_type": "stream",
     "text": [
      "5\n"
     ]
    }
   ],
   "source": [
    "# 13. Write a code to find the minimum number in the tuple (10, 20, 5, 15). \n",
    "numbers = (10, 20, 5, 15)\n",
    "minimum = min(numbers)\n",
    "print(minimum)"
   ]
  },
  {
   "cell_type": "code",
   "execution_count": 14,
   "id": "cd270b15",
   "metadata": {},
   "outputs": [
    {
     "name": "stdout",
     "output_type": "stream",
     "text": [
      "1\n"
     ]
    }
   ],
   "source": [
    "# 14. Write a code to find the index of the element \"cat\" in the tuple ('dog', 'cat', 'rabbit').\n",
    "animals = ('dog', 'cat', 'rabbit')\n",
    "index_cat = animals.index(\"cat\")\n",
    "print(index_cat)"
   ]
  },
  {
   "cell_type": "code",
   "execution_count": 15,
   "id": "8c7ccfe5",
   "metadata": {},
   "outputs": [
    {
     "name": "stdout",
     "output_type": "stream",
     "text": [
      "False\n"
     ]
    }
   ],
   "source": [
    "# 15. Write a code to create a tuple containing three different fruits and check if \"kiwi\" is in it.\n",
    "fruits = (\"apple\", \"banana\", \"mango\")\n",
    "print(\"kiwi\" in fruits)"
   ]
  },
  {
   "cell_type": "code",
   "execution_count": 16,
   "id": "203ee1db",
   "metadata": {},
   "outputs": [
    {
     "name": "stdout",
     "output_type": "stream",
     "text": [
      "{'a', 'c', 'b'}\n"
     ]
    }
   ],
   "source": [
    "# 16. Write a code to create a set with the elements 'a', 'b', 'c' and print it. \n",
    "my_set = {'a', 'b', 'c'}\n",
    "print(my_set)"
   ]
  },
  {
   "cell_type": "code",
   "execution_count": 17,
   "id": "09304bea",
   "metadata": {},
   "outputs": [
    {
     "name": "stdout",
     "output_type": "stream",
     "text": [
      "set()\n"
     ]
    }
   ],
   "source": [
    "# 17. Write a code to clear all elements from the set {1, 2, 3, 4, 5}. \n",
    "num_set = {1, 2, 3, 4, 5}\n",
    "num_set.clear()\n",
    "print(num_set)"
   ]
  },
  {
   "cell_type": "code",
   "execution_count": 18,
   "id": "9c0a12d3",
   "metadata": {},
   "outputs": [
    {
     "name": "stdout",
     "output_type": "stream",
     "text": [
      "{1, 2, 3}\n"
     ]
    }
   ],
   "source": [
    "# 18. Write a code to remove the element 4 from the set {1, 2, 3, 4}.\n",
    "another_set = {1, 2, 3, 4}\n",
    "another_set.remove(4)\n",
    "print(another_set)"
   ]
  },
  {
   "cell_type": "code",
   "execution_count": 19,
   "id": "8c2f8b03",
   "metadata": {},
   "outputs": [
    {
     "name": "stdout",
     "output_type": "stream",
     "text": [
      "{1, 2, 3, 4, 5}\n"
     ]
    }
   ],
   "source": [
    "# 19. Write a code to find the union of two sets {1, 2, 3} and {3, 4, 5}. \n",
    "set1 = {1, 2, 3}\n",
    "set2 = {3, 4, 5}\n",
    "union_set = set1.union(set2)\n",
    "print(union_set)"
   ]
  },
  {
   "cell_type": "code",
   "execution_count": 35,
   "id": "80634744",
   "metadata": {},
   "outputs": [
    {
     "name": "stdout",
     "output_type": "stream",
     "text": [
      "{2, 3}\n"
     ]
    }
   ],
   "source": [
    "# 20. Write a code to find the intersection of two sets {1, 2, 3} and {2, 3, 4}.\n",
    "set1 = {1, 2, 3}\n",
    "set2 = {2, 3, 4} \n",
    "intersection_set = set1.intersection(set2)\n",
    "print(intersection_set)"
   ]
  },
  {
   "cell_type": "code",
   "execution_count": 21,
   "id": "b442a611",
   "metadata": {},
   "outputs": [
    {
     "name": "stdout",
     "output_type": "stream",
     "text": [
      "{'name': 'Alice', 'age': 30, 'city': 'New York'}\n"
     ]
    }
   ],
   "source": [
    "# 21. Write a code to create a dictionary with the keys \"name\", \"age\", and \"city\", and print it. \n",
    "person = {\"name\": \"Alice\", \"age\": 30, \"city\": \"New York\"}\n",
    "print(person)"
   ]
  },
  {
   "cell_type": "code",
   "execution_count": 22,
   "id": "1634bf41",
   "metadata": {},
   "outputs": [
    {
     "name": "stdout",
     "output_type": "stream",
     "text": [
      "{'name': 'John', 'age': 25, 'country': 'USA'}\n"
     ]
    }
   ],
   "source": [
    "# 22. Write a code to add a new key-value pair \"country\": \"USA\" to the dictionary {'name': 'John', 'age': 25}. \n",
    "person2 = {'name': 'John', 'age': 25}\n",
    "person2[\"country\"] = \"USA\"\n",
    "print(person2)"
   ]
  },
  {
   "cell_type": "code",
   "execution_count": 23,
   "id": "c3015f1f",
   "metadata": {},
   "outputs": [
    {
     "name": "stdout",
     "output_type": "stream",
     "text": [
      "Alice\n"
     ]
    }
   ],
   "source": [
    "# 23. Write a code to access the value associated with the key \"name\" in the dictionary {'name': 'Alice', 'age': 30}. \n",
    "person3 = {'name': 'Alice', 'age': 30}\n",
    "print(person3[\"name\"])"
   ]
  },
  {
   "cell_type": "code",
   "execution_count": 24,
   "id": "6ac71ab2",
   "metadata": {},
   "outputs": [
    {
     "name": "stdout",
     "output_type": "stream",
     "text": [
      "{'name': 'Bob', 'city': 'New York'}\n"
     ]
    }
   ],
   "source": [
    "# 24. Write a code to remove the key \"age\" from the dictionary {'name': 'Bob', 'age': 22, 'city': 'New York'}.\n",
    "person4 = {'name': 'Bob', 'age': 22, 'city': 'New York'}\n",
    "person4.pop(\"age\")\n",
    "print(person4)"
   ]
  },
  {
   "cell_type": "code",
   "execution_count": 25,
   "id": "78216e36",
   "metadata": {},
   "outputs": [
    {
     "name": "stdout",
     "output_type": "stream",
     "text": [
      "True\n"
     ]
    }
   ],
   "source": [
    "# 25. Write a code to check if the key \"city\" exists in the dictionary {'name': 'Alice', 'city': 'Paris'}. \n",
    "person5 = {'name': 'Alice', 'city': 'Paris'}\n",
    "print(\"city\" in person5)"
   ]
  },
  {
   "cell_type": "code",
   "execution_count": 36,
   "id": "46d6c727",
   "metadata": {},
   "outputs": [
    {
     "name": "stdout",
     "output_type": "stream",
     "text": [
      "[1, 2, 3]\n",
      "(4, 5, 6)\n",
      "{'a': 7, 'b': 8}\n"
     ]
    }
   ],
   "source": [
    "# 26. Write a code to create a list, a tuple, and a dictionary, and print them all. \n",
    "my_list = [1, 2, 3]\n",
    "my_tuple = (4, 5, 6)\n",
    "my_dict = {\"a\": 7, \"b\": 8}\n",
    "print(my_list)\n",
    "print(my_tuple)\n",
    "print(my_dict)"
   ]
  },
  {
   "cell_type": "code",
   "execution_count": 39,
   "id": "f3de33d1",
   "metadata": {},
   "outputs": [
    {
     "name": "stdout",
     "output_type": "stream",
     "text": [
      "[8, 13, 25, 38, 51]\n"
     ]
    }
   ],
   "source": [
    "# 27. Write a code to create a list of 5 random numbers between 1 and 100, sort it in ascending order, and print the result. (replaced) \n",
    "import random\n",
    "random_numbers = [random.randint(1, 100) for _ in range(5)]\n",
    "random_numbers.sort()\n",
    "print(random_numbers)"
   ]
  },
  {
   "cell_type": "code",
   "execution_count": 28,
   "id": "3673e08f",
   "metadata": {},
   "outputs": [
    {
     "name": "stdout",
     "output_type": "stream",
     "text": [
      "date\n"
     ]
    }
   ],
   "source": [
    "# 28. Write a code to create a list with strings and print the element at the third index. \n",
    "string_list = [\"apple\", \"banana\", \"cherry\", \"date\", \"fig\"]\n",
    "print(string_list[3])"
   ]
  },
  {
   "cell_type": "code",
   "execution_count": 29,
   "id": "e18ff148",
   "metadata": {},
   "outputs": [
    {
     "name": "stdout",
     "output_type": "stream",
     "text": [
      "{'a': 1, 'b': 2, 'c': 3, 'd': 4}\n"
     ]
    }
   ],
   "source": [
    "# 29. Write a code to combine two dictionaries into one and print the result. \n",
    "dict1 = {\"a\": 1, \"b\": 2}\n",
    "dict2 = {\"c\": 3, \"d\": 4}\n",
    "combined_dict = {**dict1, **dict2}\n",
    "print(combined_dict)"
   ]
  },
  {
   "cell_type": "code",
   "execution_count": 30,
   "id": "95e831d7",
   "metadata": {},
   "outputs": [
    {
     "name": "stdout",
     "output_type": "stream",
     "text": [
      "{'apple', 'banana', 'cherry'}\n"
     ]
    }
   ],
   "source": [
    "# 30. Write a code to convert a list of strings into a set.\n",
    "list_of_strings = [\"apple\", \"banana\", \"apple\", \"cherry\"]\n",
    "set_of_strings = set(list_of_strings)\n",
    "print(set_of_strings)"
   ]
  }
 ],
 "metadata": {
  "kernelspec": {
   "display_name": "Python 3",
   "language": "python",
   "name": "python3"
  },
  "language_info": {
   "codemirror_mode": {
    "name": "ipython",
    "version": 3
   },
   "file_extension": ".py",
   "mimetype": "text/x-python",
   "name": "python",
   "nbconvert_exporter": "python",
   "pygments_lexer": "ipython3",
   "version": "3.12.9"
  }
 },
 "nbformat": 4,
 "nbformat_minor": 5
}
