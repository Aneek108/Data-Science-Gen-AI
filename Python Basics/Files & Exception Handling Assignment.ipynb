{
 "cells": [
  {
   "cell_type": "markdown",
   "id": "6f3f5c63",
   "metadata": {},
   "source": [
    "# Files & Exception Handling Assignment"
   ]
  },
  {
   "cell_type": "markdown",
   "id": "be5c29ef",
   "metadata": {},
   "source": [
    "---\n",
    "## I. Theoretical Questions "
   ]
  },
  {
   "cell_type": "markdown",
   "id": "85f00932",
   "metadata": {},
   "source": [
    "---\n",
    "### 1. What is the difference between interpreted and compiled languages? "
   ]
  },
  {
   "cell_type": "markdown",
   "id": "d5428507",
   "metadata": {},
   "source": [
    "The difference between interpreted and compiled languages lies in how code is translated and executed by the computer.\n",
    "\n",
    "| Feature                  | Compiled Languages                                             | Interpreted Languages                                |\n",
    "| ------------------------ | -------------------------------------------------------------- | ---------------------------------------------------- |\n",
    "| **Translation**          | Entire code is compiled into machine code **before execution** | Code is translated **line-by-line during execution** |\n",
    "| **Output**               | Generates an **executable file** (e.g., `.exe`)                | **No separate executable**, runs through interpreter |\n",
    "| **Speed**                | Generally **faster** due to prior compilation                  | Generally **slower** due to real-time interpretation |\n",
    "| **Error Detection**      | Errors are found **at compile-time**                           | Errors are found **at runtime**                      |\n",
    "| **Development Cycle**    | **Longer** (compile before running)                            | **Faster** (run directly)                            |\n",
    "| **Portability**          | Less portable (platform-specific binaries)                     | More portable (requires interpreter only)            |\n",
    "| **Flexibility/Dynamism** | Less flexible, mostly static typing                            | More flexible, supports dynamic typing               |\n",
    "| **Examples**             | C, C++, Go, Rust                                               | Python, JavaScript, Ruby, PHP                        |\n",
    "| **Tool Required**        | **Compiler** (e.g., GCC, Clang)                                | **Interpreter** (e.g., Python interpreter)           |"
   ]
  },
  {
   "cell_type": "markdown",
   "id": "e12ac610",
   "metadata": {},
   "source": [
    "---\n",
    "### 2. What is exception handling in Python? "
   ]
  },
  {
   "cell_type": "markdown",
   "id": "c3913a56",
   "metadata": {},
   "source": [
    "**Exception handling in Python** is a mechanism to gracefully handle **errors or unexpected events** during program execution without crashing the entire program.\n",
    "\n",
    "#### Why use exception handling?\n",
    "\n",
    "To prevent the program from terminating unexpectedly and to provide a way to **respond to runtime errors** (e.g., division by zero, file not found, invalid input, etc.)\n",
    "\n",
    "#### Basic Syntax\n",
    "\n",
    "```python\n",
    "try:\n",
    "    # Code that might raise an exception\n",
    "    risky_operation()\n",
    "except SomeException:\n",
    "    # Code that runs if an exception occurs\n",
    "    print(\"An error occurred.\")\n",
    "else:\n",
    "    # Runs if no exception occurs\n",
    "    print(\"No error occurred.\")\n",
    "finally:\n",
    "    # Always runs, no matter what\n",
    "    print(\"Cleaning up.\")\n",
    "```\n",
    "\n",
    "#### Example:\n",
    "\n",
    "```python\n",
    "try:\n",
    "    num = int(input(\"Enter a number: \"))\n",
    "    result = 10 / num\n",
    "    print(\"Result is\", result)\n",
    "except ZeroDivisionError:\n",
    "    print(\"You can't divide by zero!\")\n",
    "except ValueError:\n",
    "    print(\"That's not a valid number.\")\n",
    "finally:\n",
    "    print(\"Done with exception handling.\")\n",
    "```\n",
    "\n",
    "**Common Exception Types**:\n",
    "\n",
    "| Exception Type      | Triggered When...                                |\n",
    "| ------------------- | ------------------------------------------------ |\n",
    "| `ZeroDivisionError` | Division by zero                                 |\n",
    "| `ValueError`        | Invalid value (e.g., letters instead of numbers) |\n",
    "| `FileNotFoundError` | File does not exist                              |\n",
    "| `TypeError`         | Operation on incompatible types                  |\n",
    "| `IndexError`        | Accessing invalid index in a list                |\n",
    "| `KeyError`          | Accessing invalid key in a dictionary            |"
   ]
  },
  {
   "cell_type": "markdown",
   "id": "a8e42240",
   "metadata": {},
   "source": [
    "---\n",
    "### 3. What is the purpose of the finally block in exception handling?"
   ]
  },
  {
   "cell_type": "markdown",
   "id": "34ee244c",
   "metadata": {},
   "source": [
    "The **`finally` block** in Python's exception handling is used to define **clean-up actions** that must be executed **regardless of whether an exception occurred or not**.\n",
    "\n",
    "**Purpose of the `finally` block:**\n",
    "\n",
    "* To ensure that **important code always runs**, such as:\n",
    "\n",
    "  * Closing files or database connections\n",
    "  * Releasing resources (memory, locks, etc.)\n",
    "  * Logging or notifying errors\n",
    "* Acts like a **safety net** that executes no matter what\n",
    "\n",
    "#### Syntax:\n",
    "\n",
    "```python\n",
    "try:\n",
    "    # Code that may raise an exception\n",
    "    risky_code()\n",
    "except SomeException:\n",
    "    # Handle exception\n",
    "    print(\"Handled exception\")\n",
    "finally:\n",
    "    # Always executed\n",
    "    print(\"This will always run\")\n",
    "```\n",
    "\n",
    "#### Example:\n",
    "\n",
    "```python\n",
    "try:\n",
    "    file = open(\"data.txt\", \"r\")\n",
    "    data = file.read()\n",
    "except FileNotFoundError:\n",
    "    print(\"File not found!\")\n",
    "finally:\n",
    "    print(\"Closing file...\")\n",
    "    try:\n",
    "        file.close()\n",
    "    except:\n",
    "        pass\n",
    "```\n",
    "\n",
    "Even if the file isn’t found, the `finally` block will still run and try to close the file (if it exists).\n",
    "\n",
    "#### 🔍 Key Points:\n",
    "\n",
    "* The `finally` block **always executes** after the `try` and `except` blocks.\n",
    "* It is **optional**, but highly recommended for **cleanup tasks**."
   ]
  },
  {
   "cell_type": "markdown",
   "id": "24bbb54f",
   "metadata": {},
   "source": [
    "---\n",
    "### 4. What is logging in Python? "
   ]
  },
  {
   "cell_type": "markdown",
   "id": "6461194d",
   "metadata": {},
   "source": [
    "**Logging in Python** is a built-in way to **record messages** about your program's execution — especially useful for debugging, monitoring, and maintaining code.\n",
    "\n",
    "#### Why use logging?\n",
    "\n",
    "* To **track events** that happen while the software runs.\n",
    "* More flexible and informative than `print()`.\n",
    "* Can write logs to **files**, **console**, or even **remote servers**.\n",
    "* Helps in **debugging**, **error tracking**, and **auditing**.\n",
    "\n",
    "#### Basic Logging Example:\n",
    "\n",
    "```python\n",
    "import logging\n",
    "\n",
    "logging.basicConfig(level=logging.INFO)\n",
    "logging.info(\"This is an info message.\")\n",
    "```\n",
    "\n",
    "#### Common Logging Levels:\n",
    "\n",
    "| Level      | Method               | When to use                           |\n",
    "| ---------- | -------------------- | ------------------------------------- |\n",
    "| `DEBUG`    | `logging.debug()`    | Detailed information (for debugging)  |\n",
    "| `INFO`     | `logging.info()`     | General information (program flow)    |\n",
    "| `WARNING`  | `logging.warning()`  | Something unexpected but non-critical |\n",
    "| `ERROR`    | `logging.error()`    | Serious problem (program might fail)  |\n",
    "| `CRITICAL` | `logging.critical()` | Very serious error (system crash?)    |\n",
    "\n",
    "#### Example with all levels:\n",
    "\n",
    "```python\n",
    "import logging\n",
    "\n",
    "logging.basicConfig(level=logging.DEBUG)\n",
    "\n",
    "logging.debug(\"Debugging info\")\n",
    "logging.info(\"Information message\")\n",
    "logging.warning(\"Warning occurred\")\n",
    "logging.error(\"An error occurred\")\n",
    "logging.critical(\"Critical issue!\")\n",
    "```\n",
    "\n",
    "#### 📂 Logging to a file:\n",
    "\n",
    "```python\n",
    "logging.basicConfig(filename='app.log', level=logging.ERROR)\n",
    "logging.error(\"Something bad happened!\")\n",
    "```\n",
    "\n",
    "#### ⚙️ Advantages of `logging` over `print()`:\n",
    "\n",
    "* Adjustable **verbosity levels**\n",
    "* Can log to **files** or **external systems**\n",
    "* Time-stamped entries\n",
    "* Better for **production environments**"
   ]
  },
  {
   "cell_type": "markdown",
   "id": "41b4d72a",
   "metadata": {},
   "source": [
    "---\n",
    "### 5. What is the significance of the `__del__` method in Python? "
   ]
  },
  {
   "cell_type": "markdown",
   "id": "cab6cd72",
   "metadata": {},
   "source": [
    "The `__del__` method in Python is a **special method (dunder method)** known as a **destructor**. It is automatically called **when an object is about to be destroyed** (i.e., garbage collected).\n",
    "\n",
    "The Purpose of `__del__` is to define **clean-up behavior** for objects — like closing files, releasing network connections, or freeing other system resources when an object is no longer needed.\n",
    "\n",
    "#### Syntax:\n",
    "\n",
    "```python\n",
    "class MyClass:\n",
    "    def __del__(self):\n",
    "        print(\"Object is being destroyed\")\n",
    "```\n",
    "\n",
    "#### Example:\n",
    "\n",
    "```python\n",
    "class FileHandler:\n",
    "    def __init__(self, filename):\n",
    "        self.file = open(filename, 'w')\n",
    "        print(\"File opened.\")\n",
    "\n",
    "    def __del__(self):\n",
    "        self.file.close()\n",
    "        print(\"File closed.\")\n",
    "\n",
    "handler = FileHandler(\"test.txt\")\n",
    "del handler  # Manually triggering destructor\n",
    "```\n",
    "\n",
    "**Output:**\n",
    "\n",
    "```\n",
    "File opened.\n",
    "File closed.\n",
    "```\n",
    "\n",
    "#### Important Notes:\n",
    "\n",
    "* Python uses **automatic garbage collection**, so `__del__()` is **not guaranteed** to be called **immediately** when you delete an object — only when the object is actually destroyed.\n",
    "* If there's a **circular reference**, the `__del__` method might **not be called at all**.\n",
    "* It’s usually safer to use **context managers (`with` statement)** for resource management instead of relying on `__del__`.\n",
    "\n",
    "#### Use `__del__` when:\n",
    "\n",
    "* You must ensure **manual cleanup** when an object is deleted.\n",
    "* But prefer **`with` blocks** and `try/finally` when possible for predictability."
   ]
  },
  {
   "cell_type": "markdown",
   "id": "5099a70e",
   "metadata": {},
   "source": [
    "---\n",
    "### 6. What is the difference between import and from... import in Python? "
   ]
  },
  {
   "cell_type": "markdown",
   "id": "09cfb119",
   "metadata": {},
   "source": [
    "#### **1. `import module_name`**\n",
    "\n",
    "* **Imports the entire module**.\n",
    "* You **access functions/classes** with dot notation: `module_name.function()`.\n",
    "\n",
    "**Example**:\n",
    "\n",
    "```python\n",
    "import math\n",
    "print(math.sqrt(16))  # Access using math.\n",
    "```\n",
    "\n",
    "#### **2. `from module_name import item_name`**\n",
    "\n",
    "* Imports **only specific attributes** (functions, classes, variables).\n",
    "* You can **use them directly**, without the module prefix.\n",
    "\n",
    "**Example**:\n",
    "\n",
    "```python\n",
    "from math import sqrt\n",
    "print(sqrt(16))  # No need for math.\n",
    "```\n",
    "\n",
    "#### **Key Differences:**\n",
    "\n",
    "| Feature                    | `import module` | `from module import item`    |\n",
    "| -------------------------- | --------------- | ---------------------------- |\n",
    "| **Imports entire module?** | Yes             | No, only specific items      |\n",
    "| **Namespace pollution**    | Low             | Higher (can overwrite names) |\n",
    "| **Function call syntax**   | `math.sqrt()`   | `sqrt()`                     |\n",
    "| **Memory usage**           | Slightly more   | Slightly less                |\n",
    "| **Readability**            | More explicit   | More concise                 |\n",
    "\n",
    "#### Best Practices:\n",
    "\n",
    "* Use `import module` when **you want clarity** or **use many items** from the module.\n",
    "* Use `from ... import ...` when:\n",
    "\n",
    "  * You're importing **just a few functions**\n",
    "  * You want to **avoid writing module names repeatedly**"
   ]
  },
  {
   "cell_type": "markdown",
   "id": "9072d954",
   "metadata": {},
   "source": [
    "---\n",
    "### 7. How can you handle multiple exceptions in Python? "
   ]
  },
  {
   "cell_type": "markdown",
   "id": "f34cee0a",
   "metadata": {},
   "source": [
    "Handling **multiple exceptions** in Python allows your code to react appropriately to different types of errors without crashing. Python offers several clean and effective ways to do this.\n",
    "\n",
    "#### **1. Handle different exceptions with multiple `except` blocks**\n",
    "\n",
    "```python\n",
    "try:\n",
    "    x = int(input(\"Enter a number: \"))\n",
    "    y = 10 / x\n",
    "except ValueError:\n",
    "    print(\"That's not a valid integer.\")\n",
    "except ZeroDivisionError:\n",
    "    print(\"Cannot divide by zero.\")\n",
    "```\n",
    "\n",
    "🧠 Python will check the `except` blocks **from top to bottom** and handle the **first matching exception**.\n",
    "\n",
    "#### **2. Handle multiple exceptions in a single `except` block (tuple syntax)**\n",
    "\n",
    "```python\n",
    "try:\n",
    "    x = int(\"hello\")\n",
    "except (ValueError, TypeError) as e:\n",
    "    print(f\"Caught an exception: {e}\")\n",
    "```\n",
    "\n",
    "This catches **any** of the listed exceptions and assigns the caught exception to variable `e`.\n",
    "\n",
    "#### **3. Use a generic `except` for any unexpected error**\n",
    "\n",
    "```python\n",
    "try:\n",
    "    risky_code()\n",
    "except Exception as e:\n",
    "    print(f\"Something went wrong: {e}\")\n",
    "```\n",
    "\n",
    "⚠️ Use this cautiously — it may hide bugs. It’s better for logging or fallback strategies.\n",
    "\n",
    "#### **4. Combine specific and generic handling**\n",
    "\n",
    "```python\n",
    "try:\n",
    "    some_code()\n",
    "except ValueError:\n",
    "    print(\"Value error occurred.\")\n",
    "except ZeroDivisionError:\n",
    "    print(\"Divided by zero.\")\n",
    "except Exception as e:\n",
    "    print(f\"Unhandled exception: {e}\")\n",
    "```\n",
    "\n",
    "Best practice is to **put specific exceptions first**, then more general ones like `Exception`.\n",
    "\n",
    "#### **5. You can also use the `else` and `finally` clauses**\n",
    "\n",
    "```python\n",
    "try:\n",
    "    result = 10 / 2\n",
    "except ZeroDivisionError:\n",
    "    print(\"Cannot divide by zero.\")\n",
    "else:\n",
    "    print(f\"Result is {result}\")\n",
    "finally:\n",
    "    print(\"This runs no matter what.\")\n",
    "```"
   ]
  },
  {
   "cell_type": "markdown",
   "id": "127cb5d3",
   "metadata": {},
   "source": [
    "---\n",
    "### 8. What is the purpose of the with statement when handling files in Python? "
   ]
  },
  {
   "cell_type": "markdown",
   "id": "3a7d0939",
   "metadata": {},
   "source": [
    "#### **Purpose of `with` Statement for Files:**\n",
    "\n",
    "* Ensures the file is **closed automatically** after the block finishes.\n",
    "* Makes the code **cleaner and safer**.\n",
    "* Helps **prevent resource leaks** (open files consuming memory).\n",
    "\n",
    "#### **Syntax:**\n",
    "\n",
    "```python\n",
    "with open('file.txt', 'r') as file:\n",
    "    data = file.read()\n",
    "    print(data)\n",
    "# file is automatically closed here\n",
    "```\n",
    "\n",
    "You don’t need to write `file.close()` — it’s done **automatically**.\n",
    "\n",
    "#### Without `with`:\n",
    "\n",
    "```python\n",
    "file = open('file.txt', 'r')\n",
    "try:\n",
    "    data = file.read()\n",
    "finally:\n",
    "    file.close()\n",
    "```\n",
    "\n",
    "This is functionally equivalent but **longer and more error-prone**.\n",
    "\n",
    "#### 📌 Advantages of `with`:\n",
    "\n",
    "| Feature          | Benefit                             |\n",
    "| ---------------- | ----------------------------------- |\n",
    "| Auto-closing     | Prevents file handle leaks          |\n",
    "| Exception-safe   | File closes even if an error occurs |\n",
    "| Cleaner code     | No need for `try-finally`           |\n",
    "| Easy readability | Shows clear block of file usage     |\n",
    "\n",
    "#### You can also use `with` for:\n",
    "\n",
    "* Working with sockets\n",
    "* Database connections\n",
    "* Thread locks\n",
    "* Custom context managers using `__enter__()` and `__exit__()`"
   ]
  },
  {
   "cell_type": "markdown",
   "id": "9dd58606",
   "metadata": {},
   "source": [
    "---\n",
    "### 9. What is the difference between multithreading and multiprocessing? "
   ]
  },
  {
   "cell_type": "markdown",
   "id": "ec487f4a",
   "metadata": {},
   "source": [
    "**Multithreading** and **Multiprocessing** are both techniques used to **perform multiple tasks at the same time (concurrently or in parallel)**, but they work very differently under the hood — especially in Python.\n",
    "\n",
    "#### 🔍 **Key Difference Overview**\n",
    "\n",
    "| Feature           | Multithreading                                | Multiprocessing                                    |\n",
    "| ----------------- | --------------------------------------------- | -------------------------------------------------- |\n",
    "| **Definition**    | Runs multiple threads (lightweight processes) | Runs multiple independent processes                |\n",
    "| **Memory Space**  | Shared memory space                           | Separate memory space for each process             |\n",
    "| **Speed for I/O** | Fast (ideal for I/O-bound tasks)              | Slower (not ideal for simple I/O-bound tasks)      |\n",
    "| **Speed for CPU** | Slower due to Global Interpreter Lock (GIL)   | Faster for CPU-bound tasks (bypasses GIL)          |\n",
    "| **Concurrency**   | True concurrency for I/O                      | True **parallelism** for CPU tasks                 |\n",
    "| **Crash Safety**  | One thread crash can affect all               | One process crash doesn’t affect others            |\n",
    "| **Overhead**      | Lower overhead                                | Higher (due to separate memory, context switching) |\n",
    "| **Communication** | Easier via shared variables                   | Needs inter-process communication (e.g., Pipes)    |\n",
    "\n",
    "#### 🧵 **Multithreading**\n",
    "\n",
    "* Useful for **I/O-bound tasks** (e.g., file read/write, network requests).\n",
    "* In Python, the **Global Interpreter Lock (GIL)** allows only one thread to execute Python bytecode at a time — meaning not truly parallel for CPU tasks.\n",
    "\n",
    "```python\n",
    "import threading\n",
    "\n",
    "def greet():\n",
    "    print(\"Hello from a thread!\")\n",
    "\n",
    "thread = threading.Thread(target=greet)\n",
    "thread.start()\n",
    "```\n",
    "\n",
    "#### 🧠 **Multiprocessing**\n",
    "\n",
    "* Great for **CPU-bound tasks** (e.g., image processing, calculations).\n",
    "* Each process gets its **own Python interpreter**, allowing **true parallelism**.\n",
    "\n",
    "```python\n",
    "import multiprocessing\n",
    "\n",
    "def compute():\n",
    "    print(\"Hello from a process!\")\n",
    "\n",
    "process = multiprocessing.Process(target=compute)\n",
    "process.start()\n",
    "```\n",
    "\n",
    "#### When to Use What?\n",
    "\n",
    "| Task Type                          | Use This            |\n",
    "| ---------------------------------- | ------------------- |\n",
    "| File I/O, web requests, user input | **Multithreading**  |\n",
    "| Heavy calculations, ML training    | **Multiprocessing** |"
   ]
  },
  {
   "cell_type": "markdown",
   "id": "08139bc5",
   "metadata": {},
   "source": [
    "---\n",
    "### 10. What are the advantages of using logging in a program? "
   ]
  },
  {
   "cell_type": "markdown",
   "id": "cd22126b",
   "metadata": {},
   "source": [
    "**Advantages of Logging**:\n",
    "\n",
    "| Feature                      | Description                                                                                                                                           |\n",
    "| ---------------------------- | ----------------------------------------------------------------------------------------------------------------------------------------------------- |\n",
    "| **1. Easy Debugging**        | Helps you trace what's happening in your program, especially during errors or unexpected behavior.                                                    |\n",
    "| **2. Persistence**           | Logs can be saved to files for long-term storage and analysis, unlike print statements which disappear after execution.                               |\n",
    "| **3. Configurable Levels**   | Supports different **logging levels** like `DEBUG`, `INFO`, `WARNING`, `ERROR`, and `CRITICAL`. You can control what gets logged based on importance. |\n",
    "| **4. Better Error Tracking** | Makes it easier to detect, track, and fix errors, especially in production environments.                                                              |\n",
    "| **5. Non-Intrusive**         | Unlike print statements, logging doesn't clutter your code — and can be turned off or redirected without modifying code logic.                        |\n",
    "| **6. Multi-Destination**     | Can log to **console**, **files**, **email**, or even **remote servers**, all at the same time.                                                       |\n",
    "| **7. Timestamped Output**    | Logs are automatically timestamped, which is useful for time-based debugging and audits.                                                              |\n",
    "| **8. Production-Ready**      | Used widely in real-world applications — helps maintain professionalism and stability in logs.                                                        |\n",
    "\n",
    "**Example**:\n",
    "\n",
    "```python\n",
    "import logging\n",
    "\n",
    "# Basic logging configuration\n",
    "logging.basicConfig(level=logging.INFO, filename='app.log', filemode='w',\n",
    "                    format='%(asctime)s - %(levelname)s - %(message)s')\n",
    "\n",
    "logging.debug(\"This is a debug message\")   # Won’t show because level is INFO\n",
    "logging.info(\"Application started\")\n",
    "logging.warning(\"This is a warning\")\n",
    "logging.error(\"An error occurred\")\n",
    "```\n",
    "\n",
    "💡 This creates a `app.log` file with detailed info you can analyze later!"
   ]
  },
  {
   "cell_type": "markdown",
   "id": "30e17a3d",
   "metadata": {},
   "source": [
    "---\n",
    "### 11. What is memory management in Python? "
   ]
  },
  {
   "cell_type": "markdown",
   "id": "6ccaadbe",
   "metadata": {},
   "source": [
    "**Memory management** in Python is the process of **allocating, using, and releasing memory** efficiently during the execution of a program. Python handles memory automatically using a built-in system that combines **reference counting** and **garbage collection**.\n",
    "\n",
    "#### **Key Components of Python Memory Management:**\n",
    "\n",
    "| Component                  | Description                                                                                                                       |\n",
    "| -------------------------- | --------------------------------------------------------------------------------------------------------------------------------- |\n",
    "| **Reference Counting**     | Every object in Python has a reference count. When the count goes to zero (no references left), the object is destroyed.          |\n",
    "| **Garbage Collector (GC)** | Handles cyclic references (e.g., objects referring to each other). Python’s `gc` module detects and cleans up unused objects.     |\n",
    "| **Private Heap Space**     | Python maintains an internal heap for storing all objects and data structures. Only Python’s memory manager can access this heap. |\n",
    "| **Memory Pools**           | Python uses a system of memory pools (via `pymalloc`) to optimize memory allocation and reduce fragmentation.                     |\n",
    "| **Dynamic Typing**         | Memory is allocated dynamically based on the type and size of the variable.                                                       |\n",
    "\n",
    "#### **How Python Cleans Up Memory:**\n",
    "\n",
    "```python\n",
    "import gc\n",
    "\n",
    "gc.collect()  # Manually run garbage collection\n",
    "```\n",
    "\n",
    "#### **Example of Reference Counting:**\n",
    "\n",
    "```python\n",
    "a = []        # Empty list created\n",
    "b = a         # b refers to same list\n",
    "del a         # Reference count decreases, but not zero\n",
    "del b         # Reference count is zero, list is garbage collected\n",
    "```\n",
    "\n",
    "#### **Why It Matters:**\n",
    "\n",
    "* Prevents **memory leaks**\n",
    "* Ensures **efficient use** of system resources\n",
    "* Keeps **performance optimized** over long runtimes"
   ]
  },
  {
   "cell_type": "markdown",
   "id": "01bf209e",
   "metadata": {},
   "source": [
    "---\n",
    "### 12. What are the basic steps involved in exception handling in Python? "
   ]
  },
  {
   "cell_type": "markdown",
   "id": "06d1cd3d",
   "metadata": {},
   "source": [
    "Exception handling in Python allows you to deal with **errors gracefully** without crashing the program.\n",
    "\n",
    "#### **Basic Steps:**\n",
    "\n",
    "| Step | Action                                     | Description                                                                                                       |\n",
    "| ---- | ------------------------------------------ | ----------------------------------------------------------------------------------------------------------------- |\n",
    "| 1️⃣  | **Try Block (`try`)**                      | Code that **might cause an error** is placed inside the `try` block.                                              |\n",
    "| 2️⃣  | **Except Block (`except`)**                | If an error occurs in the `try`, the code inside `except` is executed.                                            |\n",
    "| 3️⃣  | **Else Block (`else`)** *(Optional)*       | Runs **only if no exception** occurs in the `try` block.                                                          |\n",
    "| 4️⃣  | **Finally Block (`finally`)** *(Optional)* | Executes **regardless of whether an exception occurred or not** — used for clean-up actions (like closing files). |\n",
    "\n",
    "#### **Example:**\n",
    "\n",
    "```python\n",
    "try:\n",
    "    num = int(input(\"Enter a number: \"))\n",
    "    result = 10 / num\n",
    "except ZeroDivisionError:\n",
    "    print(\"You can't divide by zero!\")\n",
    "except ValueError:\n",
    "    print(\"Invalid input! Please enter a number.\")\n",
    "else:\n",
    "    print(\"The result is:\", result)\n",
    "finally:\n",
    "    print(\"Execution completed.\")\n",
    "```\n",
    "\n",
    "#### Explanation:\n",
    "\n",
    "* `try`: Attempts to execute risky code.\n",
    "* `except`: Catches specific errors (`ZeroDivisionError`, `ValueError`, etc.).\n",
    "* `else`: Runs only if no exception is raised.\n",
    "* `finally`: Always runs — used for closing resources or cleanup tasks."
   ]
  },
  {
   "cell_type": "markdown",
   "id": "b6b08254",
   "metadata": {},
   "source": [
    "---\n",
    "### 13. Why is memory management important in Python? "
   ]
  },
  {
   "cell_type": "markdown",
   "id": "bc2e6bd3",
   "metadata": {},
   "source": [
    "Memory management is **crucial** in Python — or any programming language — because it ensures that:\n",
    "\n",
    "#### 🚀 **1. Efficient Resource Utilization**\n",
    "\n",
    "* Every variable or object consumes **memory (RAM)**.\n",
    "* Proper management **prevents memory waste** and keeps the program lightweight.\n",
    "\n",
    "#### 🧹 **2. Prevents Memory Leaks**\n",
    "\n",
    "* If unused memory isn't released, it builds up — called a **memory leak**.\n",
    "* Python’s automatic garbage collection helps **clean up unreferenced objects**, preventing such issues.\n",
    "\n",
    "#### 📈 **3. Improves Performance**\n",
    "\n",
    "* Programs that efficiently manage memory run **faster and smoother**.\n",
    "* Especially important in **data-heavy tasks** (e.g., ML, image processing, file handling).\n",
    "\n",
    "#### 🔄 **4. Supports Scalability**\n",
    "\n",
    "* Efficient memory usage allows programs to **handle more data and users** without crashing.\n",
    "* Essential for **web apps, servers, and long-running processes**.\n",
    "\n",
    "#### 🔐 **5. Ensures Program Stability**\n",
    "\n",
    "* Poor memory management can lead to **program crashes**, **sluggishness**, or **unpredictable behavior**.\n",
    "* Python’s built-in memory manager and garbage collector keep things under control automatically.\n",
    "\n",
    "#### Behind the Scenes in Python:\n",
    "\n",
    "* **Reference Counting** keeps track of object usage.\n",
    "* **Garbage Collector** removes unused or cyclic references.\n",
    "* **Memory Pools** via `pymalloc` help reuse memory blocks efficiently.\n",
    "\n",
    "#### Quick Illustration:\n",
    "\n",
    "```python\n",
    "a = [1, 2, 3]\n",
    "b = a   # Both refer to the same list\n",
    "del a  # List still exists, since b refers to it\n",
    "del b  # Now, memory is freed by garbage collector\n",
    "```"
   ]
  },
  {
   "cell_type": "markdown",
   "id": "86376468",
   "metadata": {},
   "source": [
    "---\n",
    "### 14. What is the role of try and except in exception handling? "
   ]
  },
  {
   "cell_type": "markdown",
   "id": "3a9a00fd",
   "metadata": {},
   "source": [
    "In Python, `try` and `except` blocks are used to **gracefully handle errors** or **exceptions** that may occur during the execution of your program — without crashing it.\n",
    "\n",
    "#### `try` Block – The Risk Zone\n",
    "\n",
    "* The `try` block contains the **code that may raise an exception**.\n",
    "* Python **monitors** the code in the `try` block.\n",
    "* If no error occurs: the program moves on.\n",
    "* If an error **does** occur: Python **immediately jumps** to the `except` block.\n",
    "\n",
    "```python\n",
    "try:\n",
    "    x = 10 / 0  # risky code\n",
    "```\n",
    "\n",
    "#### `except` Block – The Rescue Zone\n",
    "\n",
    "* The `except` block **catches the error** and **handles it** appropriately.\n",
    "* Prevents the program from crashing.\n",
    "* Can catch **specific** or **generic** exceptions.\n",
    "\n",
    "```python\n",
    "except ZeroDivisionError:\n",
    "    print(\"You cannot divide by zero!\")\n",
    "```\n",
    "\n",
    "#### Example:\n",
    "\n",
    "```python\n",
    "try:\n",
    "    num = int(input(\"Enter a number: \"))\n",
    "    result = 10 / num\n",
    "except ZeroDivisionError:\n",
    "    print(\"Error: Cannot divide by zero.\")\n",
    "except ValueError:\n",
    "    print(\"Error: Invalid input. Please enter a number.\")\n",
    "```\n",
    "\n",
    "#### Why Use It?\n",
    "\n",
    "* **Avoid crashes** from runtime errors.\n",
    "* **Inform users** about what went wrong.\n",
    "* Allow **safe recovery** from unexpected behavior."
   ]
  },
  {
   "cell_type": "markdown",
   "id": "6ea74ae8",
   "metadata": {},
   "source": [
    "---\n",
    "### 15. How does Python's garbage collection system work? "
   ]
  },
  {
   "cell_type": "markdown",
   "id": "749420e7",
   "metadata": {},
   "source": [
    "Python uses a **built-in garbage collection (GC)** system to manage memory automatically. It **reclaims memory** used by objects that are **no longer needed**, so you don’t have to do it manually.\n",
    "\n",
    "#### 🔄 **Key Components of Python’s GC System**\n",
    "\n",
    "##### 1. **Reference Counting**\n",
    "\n",
    "* Every object in Python has a **reference count** — a count of how many variables are pointing to it.\n",
    "* When the count drops to **zero**, Python automatically deletes the object.\n",
    "\n",
    "```python\n",
    "a = [1, 2, 3]\n",
    "b = a       # Ref count = 2\n",
    "del a       # Ref count = 1\n",
    "del b       # Ref count = 0 ⇒ garbage collected\n",
    "```\n",
    "\n",
    "##### 2. **Garbage Collector for Cycles**\n",
    "\n",
    "* Sometimes, objects reference each other in a **cycle**, keeping each other's reference counts > 0.\n",
    "* Example:\n",
    "\n",
    "  ```python\n",
    "  class Node:\n",
    "      def __init__(self):\n",
    "          self.ref = None\n",
    "\n",
    "  a = Node()\n",
    "  b = Node()\n",
    "  a.ref = b\n",
    "  b.ref = a\n",
    "  del a\n",
    "  del b\n",
    "  ```\n",
    "* Here, ref count doesn't reach zero — so Python’s **cyclic garbage collector** steps in.\n",
    "\n",
    "#### 🧹 **Generational Garbage Collection**\n",
    "\n",
    "Python’s `gc` module organizes objects into **three \"generations\"**:\n",
    "\n",
    "| Generation | Description                            |\n",
    "| ---------- | -------------------------------------- |\n",
    "| Gen 0      | Newly created objects                  |\n",
    "| Gen 1      | Objects that survived Gen 0 collection |\n",
    "| Gen 2      | Long-lived objects                     |\n",
    "\n",
    "* The idea: **Most objects die young**. So Gen 0 is collected often, Gen 2 less frequently.\n",
    "\n",
    "#### **You Can Interact With GC**\n",
    "\n",
    "```python\n",
    "import gc\n",
    "\n",
    "gc.collect()        # Manually trigger collection\n",
    "gc.get_count()      # Check number of objects in each generation\n",
    "```\n",
    "\n",
    "#### Benefits:\n",
    "\n",
    "* **Automatic** memory management\n",
    "* Prevents **memory leaks**\n",
    "* Supports **complex object lifecycles**"
   ]
  },
  {
   "cell_type": "markdown",
   "id": "92069278",
   "metadata": {},
   "source": [
    "---\n",
    "### 16. What is the purpose of the else block in exception handling? "
   ]
  },
  {
   "cell_type": "markdown",
   "id": "2a815463",
   "metadata": {},
   "source": [
    "In Python, the `else` block in exception handling is **optional** and is used to **run code only when no exceptions occur** in the `try` block.\n",
    "\n",
    "#### When is the `else` Block Executed?\n",
    "\n",
    "* Code inside `else` runs **only if the `try` block does **not** raise an exception**.\n",
    "* It is **skipped** if an exception occurs and control moves to the `except` block.\n",
    "\n",
    "#### Why Use `else`?\n",
    "\n",
    "* To separate the **error-handling code** (in `except`) from the **normal, successful code** (in `else`).\n",
    "* Improves **code clarity** and **readability**.\n",
    "\n",
    "#### Syntax:\n",
    "\n",
    "```python\n",
    "try:\n",
    "    # risky code\n",
    "except SomeException:\n",
    "    # error handling\n",
    "else:\n",
    "    # runs only if try block had NO errors\n",
    "```\n",
    "\n",
    "#### Example:\n",
    "\n",
    "```python\n",
    "try:\n",
    "    num = int(input(\"Enter a number: \"))\n",
    "    result = 10 / num\n",
    "except ZeroDivisionError:\n",
    "    print(\"Cannot divide by zero.\")\n",
    "except ValueError:\n",
    "    print(\"Please enter a valid integer.\")\n",
    "else:\n",
    "    print(\"Success! Result is:\", result)\n",
    "```\n",
    "\n",
    "**What happens here?**\n",
    "\n",
    "* If no exception → `else` block runs ✅\n",
    "* If exception → `except` block handles it ❌"
   ]
  },
  {
   "cell_type": "markdown",
   "id": "d176a2d1",
   "metadata": {},
   "source": [
    "---\n",
    "### 17. What are the common logging levels in Python? "
   ]
  },
  {
   "cell_type": "markdown",
   "id": "3b615a9e",
   "metadata": {},
   "source": [
    "Python's `logging` module provides a **hierarchical set of logging levels** to categorize the importance or severity of messages.\n",
    "\n",
    "#### Logging Levels (from lowest to highest severity):\n",
    "\n",
    "| Level      | Numeric Value | Purpose / Use Case                                                     |\n",
    "| ---------- | ------------- | ---------------------------------------------------------------------- |\n",
    "| `DEBUG`    | 10            | Detailed info, useful for debugging (development only).                |\n",
    "| `INFO`     | 20            | General information about program execution (e.g., startup, shutdown). |\n",
    "| `WARNING`  | 30            | Something unexpected happened, but the program is still running.       |\n",
    "| `ERROR`    | 40            | A more serious problem — something failed.                             |\n",
    "| `CRITICAL` | 50            | A severe error — the program may be unable to continue.                |\n",
    "\n",
    "#### Example Code:\n",
    "\n",
    "```python\n",
    "import logging\n",
    "\n",
    "logging.basicConfig(level=logging.DEBUG)\n",
    "\n",
    "logging.debug(\"This is a DEBUG message.\")\n",
    "logging.info(\"This is an INFO message.\")\n",
    "logging.warning(\"This is a WARNING message.\")\n",
    "logging.error(\"This is an ERROR message.\")\n",
    "logging.critical(\"This is a CRITICAL message.\")\n",
    "```\n",
    "\n",
    "**You Can Filter What Gets Logged**: Use `basicConfig(level=logging.WARNING)` to only show `WARNING` and higher messages."
   ]
  },
  {
   "cell_type": "markdown",
   "id": "0e8f4722",
   "metadata": {},
   "source": [
    "---\n",
    "### 18. What is the difference between os.fork() and multiprocessing in Python? "
   ]
  },
  {
   "cell_type": "markdown",
   "id": "42334d19",
   "metadata": {},
   "source": [
    "| Feature            | `os.fork()`                                               | `multiprocessing`                                              |\n",
    "| ------------------ | --------------------------------------------------------- | -------------------------------------------------------------- |\n",
    "| **Availability**   | Only on **Unix/Linux** (not available on Windows)         | **Cross-platform** (works on Unix, Linux, and Windows)         |\n",
    "| **Level**          | **Low-level** system call                                 | **High-level** Python module                                   |\n",
    "| **Creates**        | A **child process** by duplicating the current process    | A **new process** that runs a Python function                  |\n",
    "| **Ease of Use**    | Complex (requires manual management of pipes, PIDs, etc.) | Easier and safer (built-in API for process management)         |\n",
    "| **Shared Memory**  | Requires manual setup (e.g., pipes, sockets)              | Built-in support via `Value`, `Array`, and shared memory tools |\n",
    "| **Error Handling** | Manual                                                    | Built-in exception handling features                           |\n",
    "| **Pythonic?**      | No, it's more C-style Unix programming                    | Yes, it's designed for Python developers                       |\n",
    "\n",
    "#### Example of `os.fork()`:\n",
    "\n",
    "```python\n",
    "import os\n",
    "\n",
    "pid = os.fork()\n",
    "\n",
    "if pid == 0:\n",
    "    print(\"Child process\")\n",
    "else:\n",
    "    print(\"Parent process with PID:\", pid)\n",
    "```\n",
    "\n",
    "#### Example of `multiprocessing`:\n",
    "\n",
    "```python\n",
    "from multiprocessing import Process\n",
    "\n",
    "def task():\n",
    "    print(\"This is a child process.\")\n",
    "\n",
    "p = Process(target=task)\n",
    "p.start()\n",
    "p.join()\n",
    "```\n",
    "\n",
    "#### Summary\n",
    "\n",
    "* Use `os.fork()` if you’re doing low-level system programming on Unix.\n",
    "* Use `multiprocessing` for **cross-platform**, **Pythonic**, and **safe parallel programming**."
   ]
  },
  {
   "cell_type": "markdown",
   "id": "d63a2f09",
   "metadata": {},
   "source": [
    "---\n",
    "### 19. What is the importance of closing a file in Python? "
   ]
  },
  {
   "cell_type": "markdown",
   "id": "b330845b",
   "metadata": {},
   "source": [
    "When you open a file in Python (e.g., with `open()`), you're telling the operating system to allocate resources to handle that file. Closing the file properly is crucial for several reasons:\n",
    "\n",
    "#### **Why You Should Close a File:**\n",
    "\n",
    "| Reason                           | Explanation                                                                                                             |\n",
    "| -------------------------------- | ----------------------------------------------------------------------------------------------------------------------- |\n",
    "| **Frees Up System Resources** | Each open file consumes memory and file descriptors. If too many files remain open, it can lead to resource exhaustion. |\n",
    "| **Prevents Data Loss**       | If you're writing to a file, closing it ensures all data is actually written (flushed) from buffer to disk.             |\n",
    "| **File Locking/Access**       | Some systems lock files when open. Closing releases the lock, allowing other programs or users to access them.          |\n",
    "| **Avoids File Corruption**    | Not closing files (especially in write mode) risks corrupting data if the program crashes or is terminated.             |\n",
    "\n",
    "#### Example: Proper File Closing\n",
    "\n",
    "```python\n",
    "# Opening and manually closing\n",
    "file = open(\"example.txt\", \"w\")\n",
    "file.write(\"Hello, world!\")\n",
    "file.close()  # Important!\n",
    "```\n",
    "\n",
    "#### Better Practice: Using `with` statement\n",
    "\n",
    "```python\n",
    "with open(\"example.txt\", \"w\") as file:\n",
    "    file.write(\"Hello, world!\")\n",
    "# File is automatically closed here\n",
    "```\n",
    "\n",
    "The `with` statement is preferred because it **automatically closes** the file — even if an exception occurs."
   ]
  },
  {
   "cell_type": "markdown",
   "id": "a678c439",
   "metadata": {},
   "source": [
    "---\n",
    "### 20. What is the difference between file.read() and file.readline() in Python? "
   ]
  },
  {
   "cell_type": "markdown",
   "id": "13983ddc",
   "metadata": {},
   "source": [
    "| Feature          | `file.read()`                                                  | `file.readline()`                                   |\n",
    "| ---------------- | -------------------------------------------------------------- | --------------------------------------------------- |\n",
    "| **Purpose**      | Reads the **entire file** (or a specific number of characters) | Reads **one line at a time**                        |\n",
    "| **Return Type**  | Returns a **string** containing the file contents              | Returns a **string** (single line including `\\n`)   |\n",
    "| **Use Case**     | When you need the **whole file at once**                       | When reading a file **line-by-line**                |\n",
    "| **Memory Usage** | Can be **high** for large files                                | **Efficient** for large files (reads incrementally) |\n",
    "| **End of File**  | Returns empty string `''` when EOF is reached                  | Also returns `''` at EOF                            |\n",
    "\n",
    "#### Example of `read()`:\n",
    "\n",
    "```python\n",
    "with open(\"sample.txt\", \"r\") as file:\n",
    "    content = file.read()\n",
    "    print(content)  # Prints the entire file\n",
    "```\n",
    "\n",
    "#### Example of `readline()`:\n",
    "\n",
    "```python\n",
    "with open(\"sample.txt\", \"r\") as file:\n",
    "    line1 = file.readline()\n",
    "    line2 = file.readline()\n",
    "    print(line1)  # Prints the first line\n",
    "    print(line2)  # Prints the second line\n",
    "```\n",
    "\n",
    "#### Reading line-by-line using a loop\n",
    "\n",
    "```python\n",
    "with open(\"sample.txt\", \"r\") as file:\n",
    "    for line in file:\n",
    "        print(line.strip())\n",
    "```\n",
    "\n",
    "This is **memory efficient** and preferred for processing large files line by line."
   ]
  },
  {
   "cell_type": "markdown",
   "id": "d48e5f92",
   "metadata": {},
   "source": [
    "---\n",
    "### 21. What is the logging module in Python used for? "
   ]
  },
  {
   "cell_type": "markdown",
   "id": "adf4cef0",
   "metadata": {},
   "source": [
    "The `logging` module in Python is used to **track events** that happen when a program runs. These events can help developers understand the flow of execution and diagnose problems.\n",
    "\n",
    "#### **Purpose of `logging`**:\n",
    "\n",
    "| Feature               | Explanation                                                                    |\n",
    "| --------------------- | ------------------------------------------------------------------------------ |\n",
    "| 🐞 **Debugging**      | Helps trace issues by recording what your code is doing step-by-step.          |\n",
    "| 📋 **Audit Trail**    | Maintains a record of important events like function calls, user actions, etc. |\n",
    "| 🧪 **Monitoring**     | Logs can show performance data or system status during runtime.                |\n",
    "| ⚠️ **Error Tracking** | Captures exceptions, warnings, and errors to troubleshoot crashes or bugs.     |\n",
    "\n",
    "#### Why use `logging` instead of `print()`?\n",
    "\n",
    "| `print()`                          | `logging`                                       |\n",
    "| ---------------------------------- | ----------------------------------------------- |\n",
    "| Meant for simple output            | Meant for **production-grade** status reporting |\n",
    "| Doesn't record log levels          | Supports **levels** (e.g., INFO, ERROR)         |\n",
    "| Cannot be easily redirected/stored | Can log to files, streams, or even servers      |\n",
    "| No timestamp or metadata           | Includes timestamps, log level, and more        |\n",
    "\n",
    "#### 🛠️ Basic Example:\n",
    "\n",
    "```python\n",
    "import logging\n",
    "\n",
    "# Set the logging configuration\n",
    "logging.basicConfig(level=logging.INFO)\n",
    "\n",
    "logging.debug(\"This is a debug message\")\n",
    "logging.info(\"This is an info message\")\n",
    "logging.warning(\"This is a warning!\")\n",
    "logging.error(\"This is an error!\")\n",
    "logging.critical(\"This is critical!\")\n",
    "```\n",
    "\n",
    "**Output**:\n",
    "\n",
    "```\n",
    "INFO:root:This is an info message\n",
    "WARNING:root:This is a warning!\n",
    "ERROR:root:This is an error!\n",
    "CRITICAL:root:This is critical!\n",
    "```\n",
    "\n",
    "#### 📂 Logging to a File:\n",
    "\n",
    "```python\n",
    "logging.basicConfig(filename=\"app.log\", level=logging.DEBUG)\n",
    "```\n",
    "\n",
    "This will save all logs to `app.log` instead of printing to console."
   ]
  },
  {
   "cell_type": "markdown",
   "id": "2007c7dc",
   "metadata": {},
   "source": [
    "---\n",
    "### 22. What is the os module in Python used for in file handling? "
   ]
  },
  {
   "cell_type": "markdown",
   "id": "09a795e1",
   "metadata": {},
   "source": [
    "The `os` module in Python provides a way to **interact with the operating system** — including tasks related to file and directory handling. It's part of the standard library and is especially useful for **automating file management tasks** like creating, deleting, renaming, or navigating directories.\n",
    "\n",
    "#### Key Uses of `os` in File Handling:\n",
    "\n",
    "| Function               | Purpose                                               |\n",
    "| ---------------------- | ----------------------------------------------------- |\n",
    "| `os.getcwd()`          | Returns the **current working directory**             |\n",
    "| `os.chdir(path)`       | **Changes** the current working directory             |\n",
    "| `os.listdir(path)`     | Lists all **files and directories** in the given path |\n",
    "| `os.mkdir(path)`       | Creates a **new directory**                           |\n",
    "| `os.makedirs(path)`    | Recursively creates **nested directories**            |\n",
    "| `os.remove(file)`      | Deletes a **file**                                    |\n",
    "| `os.rmdir(dir)`        | Deletes a **directory** (must be empty)               |\n",
    "| `os.rename(src, dst)`  | **Renames or moves** a file or directory              |\n",
    "| `os.path.exists(path)` | Checks if a **file or directory exists**              |\n",
    "| `os.path.isfile(path)` | Checks if a path is a **file**                        |\n",
    "| `os.path.isdir(path)`  | Checks if a path is a **directory**                   |\n",
    "\n",
    "#### Example:\n",
    "\n",
    "```python\n",
    "import os\n",
    "\n",
    "# Get current directory\n",
    "print(\"Current directory:\", os.getcwd())\n",
    "\n",
    "# List files and folders\n",
    "print(\"Contents:\", os.listdir())\n",
    "\n",
    "# Make a new directory\n",
    "os.mkdir(\"new_folder\")\n",
    "\n",
    "# Rename it\n",
    "os.rename(\"new_folder\", \"renamed_folder\")\n",
    "\n",
    "# Remove the directory\n",
    "os.rmdir(\"renamed_folder\")\n",
    "```\n",
    "\n",
    "#### Why use `os`?\n",
    "\n",
    "* It works across different operating systems (Windows, macOS, Linux).\n",
    "* Helps in **automating** file-based operations (like backups, cleanup).\n",
    "* Used heavily in file parsing, directory traversal, and even deployment scripts."
   ]
  },
  {
   "cell_type": "markdown",
   "id": "d768d146",
   "metadata": {},
   "source": [
    "---\n",
    "### 23. What are the challenges associated with memory management in Python? "
   ]
  },
  {
   "cell_type": "markdown",
   "id": "414f0076",
   "metadata": {},
   "source": [
    "| **Challenge**                          | **Description**                                                                                                                                                                                              |\n",
    "| -------------------------------------- | ------------------------------------------------------------------------------------------------------------------------------------------------------------------------------------------------------------ |\n",
    "| **1. Reference Cycles**                | Python uses reference counting for memory management. If objects reference each other (circular reference), they may not be freed immediately. The garbage collector has to detect and clean these manually. |\n",
    "| **2. Memory Leaks**                    | Though rare in pure Python, memory leaks can occur when references to objects are accidentally retained (e.g., in global variables, long-lived data structures).                                             |\n",
    "| **3. Inefficient Use of Memory**       | Some built-in data types (like lists) can consume more memory than necessary. Also, overusing large objects or unnecessary copies can lead to excessive memory usage.                                        |\n",
    "| **4. Manual Resource Management**      | Resources like files and network connections require explicit closure. Forgetting to use `close()` or `with` statements can lead to memory/resource leaks.                                                   |\n",
    "| **5. High-Level Abstraction Overhead** | Python is dynamically typed and highly abstracted, which can lead to more memory usage compared to lower-level languages like C or C++.                                                                      |\n",
    "| **6. Global Interpreter Lock (GIL)**   | Though not directly a memory issue, GIL can limit concurrency and affect how memory is shared between threads in multi-threaded programs.                                                                    |\n",
    "| **7. Fragmentation**                   | Long-running Python processes may suffer from heap fragmentation, especially when many objects of different sizes are created and destroyed.                                                                 |\n",
    "| **8. Third-party Libraries**           | Extensions written in C/C++ (like NumPy or PyTorch) may allocate memory outside Python’s garbage collector. These may need manual intervention if not well-integrated.                                       |\n",
    "\n",
    "#### Tips to Mitigate These Issues:\n",
    "\n",
    "* Use **`gc` module** to manually interact with the garbage collector.\n",
    "* Monitor memory usage with tools like **`tracemalloc`**, **`objgraph`**, or **memory profilers**.\n",
    "* Use **generators** or **lazy loading** to process large data efficiently.\n",
    "* Prefer **`with open()`** for file operations to ensure automatic closing.\n",
    "* Use **slots** in custom classes to reduce per-object memory usage:\n",
    "\n",
    "  ```python\n",
    "  class MyClass:\n",
    "      __slots__ = ['x', 'y']\n",
    "  ```"
   ]
  },
  {
   "cell_type": "markdown",
   "id": "f5b5e424",
   "metadata": {},
   "source": [
    "---\n",
    "### 24. How do you raise an exception manually in Python? "
   ]
  },
  {
   "cell_type": "markdown",
   "id": "6ff98774",
   "metadata": {},
   "source": [
    "You can raise an exception manually in Python using the `raise` keyword.\n",
    "\n",
    "#### Syntax:\n",
    "\n",
    "```python\n",
    "raise ExceptionType(\"Error message\")\n",
    "```\n",
    "\n",
    "#### ✅ Example 1: Raising a built-in exception\n",
    "\n",
    "```python\n",
    "def divide(a, b):\n",
    "    if b == 0:\n",
    "        raise ZeroDivisionError(\"You can't divide by zero!\")\n",
    "    return a / b\n",
    "\n",
    "print(divide(10, 0))  # Will raise ZeroDivisionError\n",
    "```\n",
    "\n",
    "#### ✅ Example 2: Raising a custom exception\n",
    "\n",
    "```python\n",
    "class AgeTooSmallError(Exception):\n",
    "    pass\n",
    "\n",
    "def check_age(age):\n",
    "    if age < 18:\n",
    "        raise AgeTooSmallError(\"Age is below the required minimum of 18.\")\n",
    "    print(\"Age is valid.\")\n",
    "\n",
    "check_age(16)  # Will raise AgeTooSmallError\n",
    "```\n",
    "\n",
    "#### You can also raise an exception without an error message:\n",
    "\n",
    "```python\n",
    "raise ValueError\n",
    "```\n",
    "\n",
    "Or re-raise the last caught exception:\n",
    "\n",
    "```python\n",
    "try:\n",
    "    1 / 0\n",
    "except ZeroDivisionError:\n",
    "    print(\"Re-raising the exception...\")\n",
    "    raise\n",
    "```"
   ]
  },
  {
   "cell_type": "markdown",
   "id": "0d6ada40",
   "metadata": {},
   "source": [
    "---\n",
    "### 25. Why is it important to use multithreading in certain applications?"
   ]
  },
  {
   "cell_type": "markdown",
   "id": "238b6c4a",
   "metadata": {},
   "source": [
    "| **Reason**                                  | **Explanation**                                                                                                                                                                  |\n",
    "| ------------------------------------------- | -------------------------------------------------------------------------------------------------------------------------------------------------------------------------------- |\n",
    "| **1. Improves Responsiveness**              | In GUI or server applications, multithreading allows the program to remain responsive while performing background tasks. Example: A GUI doesn't freeze while downloading a file. |\n",
    "| **2. Handles I/O-bound Tasks Efficiently**  | While waiting for I/O operations (like file access, API requests, or database queries), threads can continue doing other tasks instead of blocking the whole program.            |\n",
    "| **3. Enables Concurrency**                  | You can perform multiple tasks \"at the same time\" (concurrently), like downloading multiple files simultaneously.                                                                |\n",
    "| **4. Better Resource Utilization**          | It allows programs to make better use of system resources (like when one thread waits, another can execute).                                                                     |\n",
    "| **5. Simplifies Real-time Applications**    | Useful in applications like real-time data monitoring, chat applications, or live gaming systems, where multiple things happen simultaneously.                                   |\n",
    "| **6. Ideal for Lightweight Parallel Tasks** | Threads are generally lighter than processes, making them more efficient for short, repetitive tasks that don’t require isolated memory spaces.                                  |\n",
    "\n",
    "#### ⚠️ Limitation to Keep in Mind:\n",
    "\n",
    "* Python’s **Global Interpreter Lock (GIL)** allows only one thread to execute Python bytecode at a time. So, multithreading is ideal for **I/O-bound** tasks, **not CPU-bound** ones. For CPU-bound tasks, **multiprocessing** is better.\n",
    "\n",
    "#### Example Use Case:\n",
    "\n",
    "```python\n",
    "import threading\n",
    "import time\n",
    "\n",
    "def download_file(file_num):\n",
    "    print(f\"Start downloading file {file_num}\")\n",
    "    time.sleep(2)\n",
    "    print(f\"Finished downloading file {file_num}\")\n",
    "\n",
    "# Launch multiple downloads simultaneously\n",
    "for i in range(3):\n",
    "    t = threading.Thread(target=download_file, args=(i,))\n",
    "    t.start()\n",
    "```\n",
    "\n",
    "Each file starts downloading almost simultaneously, improving total throughput."
   ]
  },
  {
   "cell_type": "markdown",
   "id": "ffd6e82d",
   "metadata": {},
   "source": [
    "---\n",
    "## II. Practical Questions"
   ]
  },
  {
   "cell_type": "code",
   "execution_count": 1,
   "id": "eb23a988",
   "metadata": {},
   "outputs": [],
   "source": [
    "# 1. How can you open a file for writing in Python and write a string to it? \n",
    "with open(\"example.txt\", \"w\") as file:\n",
    "    file.write(\"Hello!\\nThis is a string written to the file.\")"
   ]
  },
  {
   "cell_type": "code",
   "execution_count": 2,
   "id": "f5e45d85",
   "metadata": {},
   "outputs": [
    {
     "name": "stdout",
     "output_type": "stream",
     "text": [
      "Hello!\n",
      "This is a string written to the file.\n"
     ]
    }
   ],
   "source": [
    "# 2. Write a Python program to read the contents of a file and print each line. \n",
    "with open(\"example.txt\", \"r\") as file:\n",
    "    for line in file:\n",
    "        print(line.strip())"
   ]
  },
  {
   "cell_type": "code",
   "execution_count": 3,
   "id": "7c485a69",
   "metadata": {},
   "outputs": [
    {
     "name": "stdout",
     "output_type": "stream",
     "text": [
      "The file does not exist.\n"
     ]
    }
   ],
   "source": [
    "# 3. How would you handle a case where the file doesn't exist while trying to open it for reading? \n",
    "try:\n",
    "    with open(\"nonexistent.txt\", \"r\") as file:\n",
    "        content = file.read()\n",
    "except FileNotFoundError:\n",
    "    print(\"The file does not exist.\")"
   ]
  },
  {
   "cell_type": "code",
   "execution_count": 4,
   "id": "dc443d54",
   "metadata": {},
   "outputs": [],
   "source": [
    "# 4. Write a Python script that reads from one file and writes its content to another file. \n",
    "with open(\"source.txt\", \"r\") as src, open(\"destination.txt\", \"w\") as dest:\n",
    "    for line in src:\n",
    "        dest.write(line)"
   ]
  },
  {
   "cell_type": "code",
   "execution_count": 5,
   "id": "5bf72eee",
   "metadata": {},
   "outputs": [
    {
     "name": "stdout",
     "output_type": "stream",
     "text": [
      "You cannot divide by zero.\n"
     ]
    }
   ],
   "source": [
    "# 5. How would you catch and handle division by zero error in Python? \n",
    "try:\n",
    "    result = 10 / 0\n",
    "except ZeroDivisionError:\n",
    "    print(\"You cannot divide by zero.\")"
   ]
  },
  {
   "cell_type": "code",
   "execution_count": 6,
   "id": "ef37bd12",
   "metadata": {},
   "outputs": [],
   "source": [
    "# 6. Write a Python program that logs an error message to a log file when a division by zero exception occurs. \n",
    "import logging\n",
    "\n",
    "logging.basicConfig(filename=\"error.log\", level=logging.ERROR)\n",
    "\n",
    "try:\n",
    "    result = 10 / 0\n",
    "except ZeroDivisionError as e:\n",
    "    logging.error(\"Division by zero error: %s\", e)"
   ]
  },
  {
   "cell_type": "code",
   "execution_count": 7,
   "id": "84784fca",
   "metadata": {},
   "outputs": [],
   "source": [
    "# 7. How do you log information at different levels (INFO, ERROR, WARNING) in Python using the logging module? \n",
    "import logging\n",
    "\n",
    "logging.basicConfig(level=logging.DEBUG)\n",
    "\n",
    "logging.info(\"This is an info message.\")\n",
    "logging.warning(\"This is a warning message.\")\n",
    "logging.error(\"This is an error message.\")"
   ]
  },
  {
   "cell_type": "code",
   "execution_count": 8,
   "id": "86e5f22a",
   "metadata": {},
   "outputs": [
    {
     "name": "stdout",
     "output_type": "stream",
     "text": [
      "File not found.\n"
     ]
    }
   ],
   "source": [
    "# 8. Write a program to handle a file opening error using exception handling. \n",
    "try:\n",
    "    with open(\"somefile.txt\", \"r\") as file:\n",
    "        content = file.read()\n",
    "except FileNotFoundError:\n",
    "    print(\"File not found.\")"
   ]
  },
  {
   "cell_type": "code",
   "execution_count": 9,
   "id": "494da4f6",
   "metadata": {},
   "outputs": [
    {
     "name": "stdout",
     "output_type": "stream",
     "text": [
      "['Hello!\\n', 'This is a string written to the file.']\n"
     ]
    }
   ],
   "source": [
    "# 9. How can you read a file line by line and store its content in a list in Python? \n",
    "lines = []\n",
    "with open(\"example.txt\", \"r\") as file:\n",
    "    lines = file.readlines()\n",
    "print(lines)"
   ]
  },
  {
   "cell_type": "code",
   "execution_count": 10,
   "id": "53ad1d76",
   "metadata": {},
   "outputs": [],
   "source": [
    "# 10. How can you append data to an existing file in Python?\n",
    "with open(\"example.txt\", \"a\") as file:\n",
    "    file.write(\"\\nThis is an appended line.\")"
   ]
  },
  {
   "cell_type": "code",
   "execution_count": 11,
   "id": "b9d3010f",
   "metadata": {},
   "outputs": [
    {
     "name": "stdout",
     "output_type": "stream",
     "text": [
      "Key 'age' not found in dictionary.\n"
     ]
    }
   ],
   "source": [
    "# 11. Write a Python program that uses a try-except block to handle an error when attempting to access a dictionary key that doesn't exist. \n",
    "my_dict = {\"name\": \"Alice\"}\n",
    "try:\n",
    "    print(my_dict[\"age\"])\n",
    "except KeyError:\n",
    "    print(\"Key 'age' not found in dictionary.\")"
   ]
  },
  {
   "cell_type": "code",
   "execution_count": 12,
   "id": "f04d6d23",
   "metadata": {},
   "outputs": [
    {
     "name": "stdout",
     "output_type": "stream",
     "text": [
      "ValueError: Invalid conversion.\n"
     ]
    }
   ],
   "source": [
    "# 12. Write a program that demonstrates using multiple except blocks to handle different types of exceptions. \n",
    "try:\n",
    "    num = int(\"abc\")  # Causes ValueError\n",
    "    result = 10 / 0    # Causes ZeroDivisionError\n",
    "except ValueError:\n",
    "    print(\"ValueError: Invalid conversion.\")\n",
    "except ZeroDivisionError:\n",
    "    print(\"ZeroDivisionError: Cannot divide by zero.\")"
   ]
  },
  {
   "cell_type": "code",
   "execution_count": 13,
   "id": "28dfe8e8",
   "metadata": {},
   "outputs": [
    {
     "name": "stdout",
     "output_type": "stream",
     "text": [
      "Hello!\n",
      "This is a string written to the file.\n",
      "This is an appended line.\n"
     ]
    }
   ],
   "source": [
    "# 13. How would you check if a file exists before attempting to read it in Python? \n",
    "import os\n",
    "\n",
    "if os.path.exists(\"example.txt\"):\n",
    "    with open(\"example.txt\", \"r\") as file:\n",
    "        print(file.read())\n",
    "else:\n",
    "    print(\"File does not exist.\")"
   ]
  },
  {
   "cell_type": "code",
   "execution_count": 14,
   "id": "e10a4d67",
   "metadata": {},
   "outputs": [],
   "source": [
    "# 14. Write a program that uses the logging module to log both informational and error messages. \n",
    "import logging\n",
    "\n",
    "logging.basicConfig(filename=\"app.log\", level=logging.INFO)\n",
    "\n",
    "try:\n",
    "    logging.info(\"Attempting to divide...\")\n",
    "    result = 10 / 0\n",
    "except ZeroDivisionError:\n",
    "    logging.error(\"Division by zero error occurred.\")"
   ]
  },
  {
   "cell_type": "code",
   "execution_count": 15,
   "id": "449ab5f1",
   "metadata": {},
   "outputs": [
    {
     "name": "stdout",
     "output_type": "stream",
     "text": [
      "Hello!\n",
      "This is a string written to the file.\n",
      "This is an appended line.\n"
     ]
    }
   ],
   "source": [
    "# 15. Write a Python program that prints the content of a file and handles the case when the file is empty. \n",
    "try:\n",
    "    with open(\"example.txt\", \"r\") as file:\n",
    "        content = file.read()\n",
    "        if content:\n",
    "            print(content)\n",
    "        else:\n",
    "            print(\"The file is empty.\")\n",
    "except FileNotFoundError:\n",
    "    print(\"File not found.\")"
   ]
  },
  {
   "cell_type": "code",
   "execution_count": null,
   "id": "aa089a88",
   "metadata": {},
   "outputs": [],
   "source": [
    "# 16. Demonstrate how to use memory profiling to check the memory usage of a small program. "
   ]
  },
  {
   "attachments": {
    "image.png": {
     "image/png": "[encoded data removed]"
    }
   },
   "cell_type": "markdown",
   "id": "17bff53f",
   "metadata": {},
   "source": [
    "![image.png](attachment:image.png)"
   ]
  },
  {
   "cell_type": "code",
   "execution_count": 17,
   "id": "cb9c044d",
   "metadata": {},
   "outputs": [],
   "source": [
    "# 17. Write a Python program to create and write a list of numbers to a file, one number per line. \n",
    "numbers = [1, 2, 3, 4, 5]\n",
    "\n",
    "with open(\"numbers.txt\", \"w\") as file:\n",
    "    for number in numbers:\n",
    "        file.write(f\"{number}\\n\")"
   ]
  },
  {
   "cell_type": "code",
   "execution_count": 26,
   "id": "0c020347",
   "metadata": {},
   "outputs": [],
   "source": [
    "# 18. How would you implement a basic logging setup that logs to a file with rotation after 1MB? \n",
    "import logging\n",
    "from logging.handlers import RotatingFileHandler\n",
    "\n",
    "# Create a logger\n",
    "logger = logging.getLogger(\"my_logger\")\n",
    "logger.setLevel(logging.DEBUG)  # Set the logging level\n",
    "\n",
    "# Create a RotatingFileHandler\n",
    "handler = RotatingFileHandler(\n",
    "    \"app.log\",            # Log file name\n",
    "    maxBytes=1_000_000,   # 1MB = 1,000,000 bytes\n",
    "    backupCount=3         # Keep up to 3 backup log files\n",
    ")\n",
    "\n",
    "# Create a logging format\n",
    "formatter = logging.Formatter('%(asctime)s - %(levelname)s - %(message)s')\n",
    "handler.setFormatter(formatter)\n",
    "\n",
    "# Add the handler to the logger\n",
    "logger.addHandler(handler)\n",
    "\n",
    "# Example usage\n",
    "for i in range(10000):\n",
    "    logger.info(f\"This is log message number {i}\")"
   ]
  },
  {
   "cell_type": "code",
   "execution_count": 19,
   "id": "f8320c6f",
   "metadata": {},
   "outputs": [
    {
     "name": "stdout",
     "output_type": "stream",
     "text": [
      "IndexError: List index out of range.\n"
     ]
    }
   ],
   "source": [
    "# 19. Write a program that handles both IndexError and KeyError using a try-except block. \n",
    "my_list = [1, 2, 3]\n",
    "my_dict = {\"a\": 10}\n",
    "\n",
    "try:\n",
    "    print(my_list[5])\n",
    "    print(my_dict[\"b\"])\n",
    "except IndexError:\n",
    "    print(\"IndexError: List index out of range.\")\n",
    "except KeyError:\n",
    "    print(\"KeyError: Dictionary key not found.\")"
   ]
  },
  {
   "cell_type": "code",
   "execution_count": 20,
   "id": "de26353d",
   "metadata": {},
   "outputs": [
    {
     "name": "stdout",
     "output_type": "stream",
     "text": [
      "Hello!\n",
      "This is a string written to the file.\n",
      "This is an appended line.\n"
     ]
    }
   ],
   "source": [
    "# 20. How would you open a file and read its contents using a context manager in Python?\n",
    "with open(\"example.txt\", \"r\") as file:\n",
    "    content = file.read()\n",
    "    print(content)"
   ]
  },
  {
   "cell_type": "code",
   "execution_count": 25,
   "id": "ac593e9c",
   "metadata": {},
   "outputs": [
    {
     "name": "stdout",
     "output_type": "stream",
     "text": [
      "The word 'This' occurred 2 times.\n"
     ]
    }
   ],
   "source": [
    "# 21. Write a Python program that reads a file and prints the number of occurrences of a specific word.\n",
    "def count_word(filename, word):\n",
    "    try:\n",
    "        with open(filename, 'r') as file:\n",
    "            content = file.read()\n",
    "            count = content.lower().count(word.lower())\n",
    "            print(f\"The word '{word}' occurred {count} times.\")\n",
    "    except FileNotFoundError:\n",
    "        print(\"File not found.\")\n",
    "\n",
    "count_word(\"example.txt\", \"This\")"
   ]
  },
  {
   "cell_type": "code",
   "execution_count": 22,
   "id": "8d0052ea",
   "metadata": {},
   "outputs": [
    {
     "name": "stdout",
     "output_type": "stream",
     "text": [
      "Hello!\n",
      "This is a string written to the file.\n",
      "This is an appended line.\n"
     ]
    }
   ],
   "source": [
    "# 22. How can you check if a file is empty before attempting to read its contents? \n",
    "import os\n",
    "\n",
    "filename = \"example.txt\"\n",
    "\n",
    "if os.path.exists(filename):\n",
    "    if os.path.getsize(filename) == 0:\n",
    "        print(\"The file is empty.\")\n",
    "    else:\n",
    "        with open(filename, 'r') as file:\n",
    "            print(file.read())\n",
    "else:\n",
    "    print(\"File does not exist.\")"
   ]
  },
  {
   "cell_type": "code",
   "execution_count": 27,
   "id": "c0a8f623",
   "metadata": {},
   "outputs": [],
   "source": [
    "# 23. Write a Python program that writes to a log file when an error occurs during file handling.\n",
    "import logging\n",
    "\n",
    "logging.basicConfig(filename='file_errors.log', level=logging.ERROR)\n",
    "\n",
    "try:\n",
    "    with open(\"nonexistent.txt\", 'r') as file:\n",
    "        data = file.read()\n",
    "except Exception as e:\n",
    "    logging.error(f\"Error occurred: {e}\")"
   ]
  }
 ],
 "metadata": {
  "kernelspec": {
   "display_name": "Python 3",
   "language": "python",
   "name": "python3"
  },
  "language_info": {
   "codemirror_mode": {
    "name": "ipython",
    "version": 3
   },
   "file_extension": ".py",
   "mimetype": "text/x-python",
   "name": "python",
   "nbconvert_exporter": "python",
   "pygments_lexer": "ipython3",
   "version": "3.12.9"
  }
 },
 "nbformat": 4,
 "nbformat_minor": 5
}
