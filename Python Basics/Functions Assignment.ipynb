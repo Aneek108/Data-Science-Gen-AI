{
 "cells": [
  {
   "cell_type": "markdown",
   "id": "b5d0a6cf",
   "metadata": {},
   "source": [
    "# Assignment: Functions"
   ]
  },
  {
   "cell_type": "markdown",
   "id": "abd6c747",
   "metadata": {},
   "source": [
    "---\n",
    "## I. Theoretical Questions"
   ]
  },
  {
   "cell_type": "markdown",
   "id": "0f4cae08",
   "metadata": {},
   "source": [
    "---\n",
    "### 1. What is the difference between a function and a method in Python? "
   ]
  },
  {
   "cell_type": "markdown",
   "id": "ed5120d9",
   "metadata": {},
   "source": [
    "In **Python**, both **functions** and **methods** are used to encapsulate reusable pieces of code, but there's a key **difference** in how they're **defined** and **used**:\n",
    "\n",
    "#### **Function**:\n",
    "\n",
    "A **function** is a block of code that is **defined independently** and can be called using its name.\n",
    "\n",
    "```python\n",
    "def greet(name):\n",
    "    return f\"Hello, {name}!\"\n",
    "\n",
    "print(greet(\"Alice\"))  # Output: Hello, Alice!\n",
    "```\n",
    "\n",
    "* Defined using `def` keyword.\n",
    "* Can be called **without** being attached to an object.\n",
    "* Can live **outside of a class**.\n",
    "\n",
    "#### **Method**:\n",
    "\n",
    "A **method** is a function that is **associated with an object** (usually a class instance).\n",
    "\n",
    "```python\n",
    "class Person:\n",
    "    def greet(self, name):\n",
    "        return f\"Hello, {name}!\"\n",
    "\n",
    "p = Person()\n",
    "print(p.greet(\"Bob\"))  # Output: Hello, Bob!\n",
    "```\n",
    "\n",
    "* Defined **inside a class**.\n",
    "* Like functions, methods are also defined using `def` keyword.\n",
    "* Called on **instances** of a class using the dot (`.`) syntax.\n",
    "* The first argument is usually `self`, which refers to the instance.\n",
    "\n",
    "#### Summary Table:\n",
    "\n",
    "| Feature       | Function               | Method                      |\n",
    "| ------------- | ---------------------- | --------------------------- |\n",
    "| Location      | Defined independently  | Defined inside a class      |\n",
    "| Call Style    | `function_name()`      | `object.method_name()`      |\n",
    "| First Arg     | No special requirement | First arg is usually `self` |\n",
    "| Object Bound? | No                     | Yes (bound to object/class) |"
   ]
  },
  {
   "cell_type": "markdown",
   "id": "5bc52c2f",
   "metadata": {},
   "source": [
    "---\n",
    "### 2. Explain the concept of function arguments and parameters in Python. "
   ]
  },
  {
   "cell_type": "markdown",
   "id": "0c531a1d",
   "metadata": {},
   "source": [
    "#### a. **Parameter**:\n",
    "\n",
    "- A variable **in the function definition**. Think of it as a placeholder. They are what you write when **defining** a function.\n",
    "\n",
    "#### b. **Argument**:\n",
    "\n",
    "- The **actual value** you pass to the function when you call it. They are what you pass when **calling** a function.\n",
    "\n",
    "```python\n",
    "def greet(name):      # 'name' is a parameter\n",
    "    print(\"Hello\", name)\n",
    "\n",
    "greet(\"Alice\")        # \"Alice\" is an argument\n",
    "```"
   ]
  },
  {
   "cell_type": "markdown",
   "id": "9401c95f",
   "metadata": {},
   "source": [
    "---\n",
    "### 3. What are the different ways to define and call a function in Python?"
   ]
  },
  {
   "cell_type": "markdown",
   "id": "405eb262",
   "metadata": {},
   "source": [
    "#### **Defining a Function**\n",
    "\n",
    "- Standard Function Definition:\n",
    "\n",
    "    ```python\n",
    "    def greet():\n",
    "        print(\"Hello!\")\n",
    "    ```\n",
    "\n",
    "- Function with Parameters:\n",
    "\n",
    "    ```python\n",
    "    def greet(name):\n",
    "        print(f\"Hello, {name}!\")\n",
    "    ```\n",
    "\n",
    "- Function with Default Parameters:\n",
    "\n",
    "    ```python\n",
    "    def greet(name=\"Guest\"):\n",
    "        print(f\"Hello, {name}!\")\n",
    "    ```\n",
    "\n",
    "- Function with Return Value:\n",
    "\n",
    "    ```python\n",
    "    def add(a, b):\n",
    "        return a + b\n",
    "    ```\n",
    "\n",
    "- Using `*args` (Variable Positional Arguments):\n",
    "\n",
    "    ```python\n",
    "    def total(*numbers):\n",
    "        return sum(numbers)\n",
    "    ```\n",
    "\n",
    "- Using `**kwargs` (Variable Keyword Arguments):\n",
    "\n",
    "    ```python\n",
    "    def print_info(**details):\n",
    "        for key, value in details.items():\n",
    "            print(f\"{key}: {value}\")\n",
    "    ```\n",
    "\n",
    "- Lambda (Anonymous Function):\n",
    "\n",
    "    ```python\n",
    "    square = lambda x: x * x\n",
    "    print(square(5))  # Output: 25\n",
    "    ```\n",
    "\n",
    "\n",
    "\n",
    "#### **Calling a Function**\n",
    "\n",
    "- Simple Call:\n",
    "\n",
    "    ```python\n",
    "    greet()  # Hello!\n",
    "    ```\n",
    "\n",
    "- With Arguments:\n",
    "\n",
    "    ```python\n",
    "    greet(\"Alice\")  # Hello, Alice!\n",
    "    ```\n",
    "\n",
    "- Using Positional Arguments:\n",
    "\n",
    "    ```python\n",
    "    add(2, 3)  # 5\n",
    "    ```\n",
    "\n",
    "- Using Keyword Arguments:\n",
    "    \n",
    "    ```python\n",
    "    add(b=3, a=2)  # 5\n",
    "    ```\n",
    "\n",
    "- Calling with `*args`:\n",
    "\n",
    "    ```python\n",
    "    numbers = (1, 2, 3)\n",
    "    total(*numbers)  # 6\n",
    "    ```\n",
    "\n",
    "- Calling with `**kwargs`:\n",
    "\n",
    "    ```python\n",
    "    info = {\"name\": \"Alice\", \"age\": 25}\n",
    "    print_info(**info)\n",
    "    ```\n",
    "\n",
    "#### Summary\n",
    "\n",
    "| Feature           | Syntax                    |\n",
    "| ----------------- | ------------------------- |\n",
    "| Standard function | `def name(): ...`         |\n",
    "| With parameters   | `def name(x): ...`        |\n",
    "| Default values    | `def name(x=5): ...`      |\n",
    "| Variable args     | `def name(*args): ...`    |\n",
    "| Variable kwargs   | `def name(**kwargs): ...` |\n",
    "| Lambda function   | `lambda x: x + 1`         |\n",
    "| Function call     | `name()` or `name(args)`  |"
   ]
  },
  {
   "cell_type": "markdown",
   "id": "4156301f",
   "metadata": {},
   "source": [
    "---\n",
    "### 4. What is the purpose of the 'return' statement in a Python function?"
   ]
  },
  {
   "cell_type": "markdown",
   "id": "d01784af",
   "metadata": {},
   "source": [
    "#### **Key Purposes of `return`**:\n",
    "\n",
    "- **Send back a result/value:**\n",
    "\n",
    "    ```python\n",
    "    def square(x):\n",
    "        return x * x\n",
    "    \n",
    "    result = square(5)\n",
    "    print(result)  # Output: 25\n",
    "    ```\n",
    "\n",
    "- **End function execution:**\n",
    "    Once `return` is executed, the function ends — no further code inside the function is run.\n",
    "\n",
    "    ```python\n",
    "    def check_number(x):\n",
    "     if x > 0:\n",
    "         return \"Positive\"\n",
    "     return \"Zero or Negative\"\n",
    "    ```\n",
    "\n",
    "- **Return multiple values (as a tuple):**\n",
    "\n",
    "    ```python\n",
    "    def stats(a, b):\n",
    "        return a + b, a * b\n",
    "    \n",
    "    sum_, product = stats(2, 3)\n",
    "    print(sum_, product)  # Output: 5 6\n",
    "    ```\n",
    "\n",
    "- **Return nothing (or `None`):**\n",
    "    If no `return` is used, or it's just `return`, Python returns `None` by default.\n",
    "\n",
    "    ```python\n",
    "    def do_nothing():\n",
    "        pass\n",
    "\n",
    "    print(do_nothing())  # Output: None\n",
    "    ```\n",
    "\n",
    "#### ✅ Use it when:\n",
    "\n",
    "* You need to **store** the result of a function.\n",
    "* You're chaining function calls.\n",
    "* You're returning computed values."
   ]
  },
  {
   "cell_type": "markdown",
   "id": "db064265",
   "metadata": {},
   "source": [
    "---\n",
    "### 5. What are iterators in Python and how do they differ from iterables? "
   ]
  },
  {
   "cell_type": "markdown",
   "id": "3d105c9b",
   "metadata": {},
   "source": [
    "- #### **Iterable**:\n",
    "\n",
    "    An **iterable** is any Python object that **can be looped over** (i.e., used in a `for` loop).\n",
    "\n",
    "    **Examples:** `list`, `tuple`, `string`, `set`, `dict`\n",
    "\n",
    "    It **doesn’t produce values on its own**, but it can **return an iterator**.\n",
    "\n",
    "    ```python\n",
    "    my_list = [1, 2, 3]  # This is an iterable\n",
    "    for item in my_list:\n",
    "        print(item)\n",
    "    ```\n",
    "\n",
    "    You can convert it to an iterator using `iter()`:\n",
    "\n",
    "    ```python\n",
    "    iterator = iter(my_list)\n",
    "    ```\n",
    "\n",
    "\n",
    "- #### **Iterator**:\n",
    "\n",
    "    An **iterator** is an object that **remembers its state** during iteration and **produces one value at a time** using the `__next__()` method.\n",
    "\n",
    "    * It **must implement** two methods:\n",
    "\n",
    "      * `__iter__()` → returns the iterator object itself\n",
    "      * `__next__()` → returns the next value and raises `StopIteration` when done\n",
    "\n",
    "    ```python\n",
    "    my_list = [1, 2, 3]\n",
    "    it = iter(my_list)\n",
    "\n",
    "    print(next(it))  # 1\n",
    "    print(next(it))  # 2\n",
    "    print(next(it))  # 3\n",
    "    # next(it) now would raise StopIteration\n",
    "    ```\n",
    "\n",
    "#### Key Differences\n",
    "\n",
    "| Feature           | Iterable                             | Iterator                                |\n",
    "| ----------------- | ------------------------------------ | --------------------------------------- |\n",
    "| What is it?       | Object you can loop over             | Object that produces one item at a time |\n",
    "| Examples          | `list`, `tuple`, `dict`, `set`, etc. | Result of `iter()` or custom iterator   |\n",
    "| Has `__iter__()`? | ✅ Yes                                | ✅ Yes                                   |\n",
    "| Has `__next__()`? | ❌ No                                 | ✅ Yes                                   |\n",
    "| Needs `iter()`?   | ✅ Yes, to get an iterator            | ❌ No (already an iterator)              |\n",
    "\n",
    "#### ✅ You can build your own iterator\n",
    "\n",
    "```python\n",
    "class CountDown:\n",
    "    def __init__(self, start):\n",
    "        self.num = start\n",
    "    \n",
    "    def __iter__(self):\n",
    "        return self\n",
    "    \n",
    "    def __next__(self):\n",
    "        if self.num <= 0:\n",
    "            raise StopIteration\n",
    "        current = self.num\n",
    "        self.num -= 1\n",
    "        return current\n",
    "\n",
    "for i in CountDown(3):\n",
    "    print(i, end=\" \")\n",
    "```\n",
    "\n",
    "**Output**:\n",
    "`3 2 1`\n"
   ]
  },
  {
   "cell_type": "markdown",
   "id": "db3466cb",
   "metadata": {},
   "source": [
    "---\n",
    "### 6. Explain the concept of generators in Python and how they are defined. "
   ]
  },
  {
   "cell_type": "markdown",
   "id": "af8b096b",
   "metadata": {},
   "source": [
    "A **generator** is a special type of **iterator** that **generates values on the fly**, rather than storing them in memory.\n",
    "\n",
    "It allows you to **iterate through a sequence of values** just like a list or tuple, **but without creating the whole sequence in memory at once**.\n",
    "\n",
    "#### 🔧 **How to Define a Generator?**\n",
    "\n",
    "✅ Using a Function with `yield`. Generators are **defined like normal functions**, but instead of `return`, they use the **`yield`** keyword.\n",
    "\n",
    "```python\n",
    "def my_generator():\n",
    "    yield 1\n",
    "    yield 2\n",
    "    yield 3\n",
    "\n",
    "gen = my_generator()\n",
    "print(next(gen))  # 1\n",
    "print(next(gen))  # 2\n",
    "print(next(gen))  # 3\n",
    "```\n",
    "\n",
    "Each time `yield` is called, it **pauses** the function and **remembers its state** for the next call.\n",
    "\n",
    "#### ⚡ **Why Use Generators?**\n",
    "\n",
    "- ✅ **Memory Efficient** – Doesn’t store all values in memory\n",
    "- ✅ **Lazy Evaluation** – Values are produced only when needed\n",
    "- ✅ **Good for Infinite Sequences** – Like streaming data or reading large files\n",
    "\n",
    "#### Generator vs Regular Function:\n",
    "\n",
    "| Feature          | Regular Function | Generator Function    |\n",
    "| ---------------- | ---------------- | --------------------- |\n",
    "| Uses `return`    | ✅              | ❌ (uses `yield`)     |\n",
    "| Returns a value  | ✅ (once)       | ✅ (multiple times)   |\n",
    "| Remembers state  | ❌              | ✅                    |\n",
    "| Example use case | Math operations  | Large data processing |\n",
    "\n",
    "#### Generator Expression (like list comprehension)\n",
    "\n",
    "You can also create generators using **generator expressions**:\n",
    "\n",
    "```python\n",
    "gen = (x*x for x in range(5))\n",
    "print(next(gen))  # 0\n",
    "print(next(gen))  # 1\n",
    "```\n",
    "\n",
    "It looks like a list comprehension but with `()` instead of `[]`.\n",
    "\n",
    "#### Example: Fibonacci Generator -\n",
    "\n",
    "```python\n",
    "def fibonacci(n):\n",
    "    a, b = 0, 1\n",
    "    for _ in range(n):\n",
    "        yield a\n",
    "        a, b = b, a + b\n",
    "\n",
    "for num in fibonacci(5):\n",
    "    print(num)\n",
    "# Output: 0 1 1 2 3\n",
    "```"
   ]
  },
  {
   "cell_type": "markdown",
   "id": "e21f7a8d",
   "metadata": {},
   "source": [
    "---\n",
    "### 7. What are the advantages of using generators over regular functions? "
   ]
  },
  {
   "cell_type": "markdown",
   "id": "5e5b5746",
   "metadata": {},
   "source": [
    "1. **Memory Efficiency**\n",
    "\n",
    "    Generators **don’t store the entire sequence in memory**. They yield one item at a time, which is especially useful when working with **large datasets** or **infinite sequences**.\n",
    "\n",
    "    > 💡 Regular functions that return lists load the entire list into memory at once — generators do not.\n",
    "\n",
    "    ```python\n",
    "    # Example: using a generator to avoid memory overload\n",
    "    def count_up_to(n):\n",
    "        i = 1\n",
    "        while i <= n:\n",
    "            yield i\n",
    "            i += 1\n",
    "    ```\n",
    "\n",
    "2. **Lazy Evaluation**\n",
    "\n",
    "    Generators produce items **only when needed**, meaning they’re **computed on the fly**.\n",
    "\n",
    "    > This reduces computation time and is great for performance, especially in loops or pipelines.\n",
    "\n",
    "    ```python\n",
    "    gen = (x * x for x in range(1000000))\n",
    "    print(next(gen))  # Only calculates when needed\n",
    "    ```\n",
    "\n",
    "3. **Improved Performance**\n",
    "\n",
    "    Since values are generated one at a time, there's **less overhead** than building and returning a full list.\n",
    "\n",
    "    > This is very helpful in data streaming, large file reading, or network packet handling.\n",
    "\n",
    "4. **State Preservation**\n",
    "\n",
    "    Generators **pause and resume** their execution and **retain their state** between yields.\n",
    "\n",
    "    > This makes it easy to implement **iterative algorithms** like Fibonacci, tree traversals, etc.\n",
    "\n",
    "5. **Cleaner and More Readable Code**\n",
    "\n",
    "    Using `yield` can lead to **simpler code** for complex iteration logic.\n",
    "\n",
    "    ```python\n",
    "    def read_large_file(filename):\n",
    "        with open(filename) as f:\n",
    "            for line in f:\n",
    "                yield line\n",
    "    ```\n",
    "\n",
    "6. **Pipeline Capability**\n",
    "\n",
    "    Generators can be **chained together** to form powerful data pipelines.\n",
    "\n",
    "    ```python\n",
    "    def generate_numbers():\n",
    "        for i in range(10):\n",
    "            yield i\n",
    "\n",
    "    def square_numbers(numbers):\n",
    "        for n in numbers:\n",
    "            yield n * n\n",
    "\n",
    "    squares = square_numbers(generate_numbers())\n",
    "    ```"
   ]
  },
  {
   "cell_type": "markdown",
   "id": "f109513c",
   "metadata": {},
   "source": [
    "---\n",
    "### 8. What is a lambda function in Python and when is it typically used? "
   ]
  },
  {
   "cell_type": "markdown",
   "id": "bbdbc029",
   "metadata": {},
   "source": [
    "A **lambda function** in Python is a small, anonymous function defined using the `lambda` keyword. It is often used for short, simple functions that are not reused elsewhere in the code.\n",
    "\n",
    "#### **Syntax:**\n",
    "\n",
    "```python\n",
    "lambda arguments: expression\n",
    "```\n",
    "\n",
    "* It can take any number of arguments but can only have **one expression**.\n",
    "* The expression is evaluated and returned automatically (no need for a `return` statement).\n",
    "\n",
    "#### **Example:**\n",
    "\n",
    "```python\n",
    "# A regular function\n",
    "def square(x):\n",
    "    return x * x\n",
    "\n",
    "# Equivalent lambda function\n",
    "square_lambda = lambda x: x * x\n",
    "\n",
    "print(square_lambda(5))  # Output: 25\n",
    "```\n",
    "\n",
    "_\n",
    "\n",
    "#### **Typical Use Cases:**\n",
    "\n",
    "Lambda functions are commonly used **when you need a function temporarily**, especially in:\n",
    "\n",
    "- ✅ `map()`, `filter()`, and `reduce()`\n",
    "\n",
    "    ```python\n",
    "    nums = [1, 2, 3, 4]\n",
    "\n",
    "    # Using map to square numbers\n",
    "    squares = list(map(lambda x: x * x, nums))\n",
    "    print(squares)  # [1, 4, 9, 16]\n",
    "\n",
    "    # Using filter to get even numbers\n",
    "    evens = list(filter(lambda x: x % 2 == 0, nums))\n",
    "    print(evens)  # [2, 4]\n",
    "    ```\n",
    "\n",
    "- ✅ Sorting with custom keys\n",
    "\n",
    "    ```python\n",
    "    words = ['apple', 'banana', 'cherry']\n",
    "    words.sort(key=lambda word: len(word))\n",
    "    print(words)  # ['apple', 'banana', 'cherry']\n",
    "    ```\n",
    "\n",
    "- ✅ GUI frameworks / Callbacks / Event handlers\n",
    "\n",
    "    Lambda is handy where you want to define a quick function to pass to a button click or callback.\n",
    "\n",
    "#### **Why Use Lambda?**\n",
    "\n",
    "* **Concise**: Saves space for small functions.\n",
    "* **Inline**: Can be defined right where it's needed.\n",
    "* **Anonymous**: No need to name the function.\n",
    "\n",
    "#### **When *Not* to Use Lambda?**\n",
    "\n",
    "* When the function is **complex** (use `def` instead for readability).\n",
    "* When reusability or debugging is needed."
   ]
  },
  {
   "cell_type": "markdown",
   "id": "8dba4276",
   "metadata": {},
   "source": [
    "---\n",
    "### 9. Explain the purpose and usage of the map() function in Python. "
   ]
  },
  {
   "cell_type": "markdown",
   "id": "6f37526d",
   "metadata": {},
   "source": [
    "The `map()` function in Python is used to **apply a function to every item in an iterable** (like a list, tuple, etc.) and return a new iterator with the results.\n",
    "\n",
    "#### **Syntax:**\n",
    "\n",
    "```python\n",
    "map(function, iterable)\n",
    "```\n",
    "\n",
    "* `function`: A function (can be built-in, user-defined, or a lambda) that you want to apply to each element.\n",
    "* `iterable`: A sequence like list, tuple, or string.\n",
    "\n",
    "> The result of `map()` is an **iterator**, so you need to convert it to a list, tuple, etc., to see the output.\n",
    "\n",
    "#### 📝 **Example 1: Using a regular function:**\n",
    "\n",
    "```python\n",
    "def square(x):\n",
    "    return x * x\n",
    "\n",
    "nums = [1, 2, 3, 4]\n",
    "result = map(square, nums)\n",
    "\n",
    "print(list(result))  # Output: [1, 4, 9, 16]\n",
    "```\n",
    "\n",
    "#### 📝 **Example 2: Using a lambda function:**\n",
    "\n",
    "```python\n",
    "nums = [1, 2, 3, 4]\n",
    "result = map(lambda x: x * 2, nums)\n",
    "\n",
    "print(list(result))  # Output: [2, 4, 6, 8]\n",
    "```\n",
    "\n",
    "#### 📝 **Example 3: Multiple iterables:**\n",
    "\n",
    "You can pass more than one iterable if the function takes multiple arguments:\n",
    "\n",
    "```python\n",
    "a = [1, 2, 3]\n",
    "b = [4, 5, 6]\n",
    "\n",
    "result = map(lambda x, y: x + y, a, b)\n",
    "print(list(result))  # Output: [5, 7, 9]\n",
    "```\n",
    "\n",
    "#### ✅ **Use Cases:**\n",
    "\n",
    "* Data transformation (e.g., converting units, formatting strings)\n",
    "* Applying a mathematical operation to a list\n",
    "* Cleaning or modifying data in a pipeline\n",
    "* Working with functional programming tools like `filter()` and `reduce()`"
   ]
  },
  {
   "cell_type": "markdown",
   "id": "87f7df91",
   "metadata": {},
   "source": [
    "---\n",
    "### 10. What is the difference between map(), reduce(), and filter() functions in Python? "
   ]
  },
  {
   "cell_type": "markdown",
   "id": "5ff2a209",
   "metadata": {},
   "source": [
    "1. **`map()`**\n",
    "\n",
    "    * **Purpose:** Applies a function to **every element** in an iterable and returns a new iterator with the results.\n",
    "    * **Input:** A function and one or more iterables.\n",
    "    * **Output:** An iterator of transformed elements.\n",
    "\n",
    "    **Example:**\n",
    "\n",
    "    ```python\n",
    "    nums = [1, 2, 3, 4]\n",
    "    result = map(lambda x: x * 2, nums)\n",
    "    print(list(result))  # Output: [2, 4, 6, 8]\n",
    "    ```\n",
    "2. **`filter()`**\n",
    "\n",
    "    * **Purpose:** Filters elements from an iterable for which a function returns **True**.\n",
    "    * **Input:** A function that returns `True` or `False`, and an iterable.\n",
    "    * **Output:** An iterator with only elements that satisfy the condition.\n",
    "\n",
    "    **Example:**\n",
    "\n",
    "    ```python\n",
    "    nums = [1, 2, 3, 4]\n",
    "    result = filter(lambda x: x % 2 == 0, nums)\n",
    "    print(list(result))  # Output: [2, 4]\n",
    "    ```\n",
    "\n",
    "3. **`reduce()`** (from `functools` module)\n",
    "\n",
    "    * **Purpose:** Applies a function cumulatively to the elements of an iterable, reducing it to a **single value**.\n",
    "    * **Input:** A function that takes two arguments and an iterable.\n",
    "    * **Output:** A single value (like sum, product, etc.).\n",
    "\n",
    "    **Example:**\n",
    "\n",
    "    ```python\n",
    "    from functools import reduce\n",
    "\n",
    "    nums = [1, 2, 3, 4]\n",
    "    result = reduce(lambda x, y: x + y, nums)\n",
    "    print(result)  # Output: 10\n",
    "    ```\n",
    "\n",
    "#### **Summary Table**\n",
    "\n",
    "| Function   | Purpose                              | Returns                       | Example Use Case            |\n",
    "| ---------- | ------------------------------------ | ----------------------------- | --------------------------- |\n",
    "| `map()`    | Transform all elements               | Iterator of transformed items | Multiply all numbers by 2   |\n",
    "| `filter()` | Select elements based on condition   | Iterator of filtered items    | Keep only even numbers      |\n",
    "| `reduce()` | Combine elements into a single value | Single cumulative value       | Sum or multiply all numbers |"
   ]
  },
  {
   "cell_type": "markdown",
   "id": "b28ea42d",
   "metadata": {},
   "source": [
    "---\n",
    "### 11. Using pen & Paper write the internal mechanism for sum operation using reduce function on this given list: [47,11,42,13];"
   ]
  },
  {
   "attachments": {
    "Function_Assignment_Question_11.jpg": {
     "image/jpeg": "[encoded data removed]"
    }
   },
   "cell_type": "markdown",
   "id": "2cbedfce",
   "metadata": {},
   "source": [
    "![Function_Assignment_Question_11.jpg](attachment:Function_Assignment_Question_11.jpg)"
   ]
  },
  {
   "cell_type": "markdown",
   "id": "62de3ca0",
   "metadata": {},
   "source": [
    "---\n",
    "## II. Practical Questions"
   ]
  },
  {
   "cell_type": "code",
   "execution_count": 1,
   "id": "576c8650",
   "metadata": {},
   "outputs": [
    {
     "name": "stdout",
     "output_type": "stream",
     "text": [
      "The sum of even numbers in [1, 2, 3, 4, 5, 6] is: 12\n"
     ]
    }
   ],
   "source": [
    "# 1. Write a Python function that takes a list of numbers as input and returns the sum of all even numbers in the list. \n",
    "\n",
    "def sum_of_even_numbers(numbers):\n",
    "    return sum(num for num in numbers if num % 2 == 0)\n",
    "\n",
    "numbers = [1, 2, 3, 4, 5, 6]\n",
    "result = sum_of_even_numbers(numbers)\n",
    "print(f\"The sum of even numbers in {numbers} is: {result}\")"
   ]
  },
  {
   "cell_type": "code",
   "execution_count": 2,
   "id": "be130246",
   "metadata": {},
   "outputs": [
    {
     "name": "stdout",
     "output_type": "stream",
     "text": [
      "The reverse of 'Hello, World!' is: '!dlroW ,olleH'\n"
     ]
    }
   ],
   "source": [
    "# 2. Create a Python function that accepts a string and returns the reverse of that string. \n",
    "\n",
    "reverse_string = lambda s: s[::-1]\n",
    "\n",
    "input_string = \"Hello, World!\"\n",
    "result = reverse_string(input_string)\n",
    "print(f\"The reverse of '{input_string}' is: '{result}'\")"
   ]
  },
  {
   "cell_type": "code",
   "execution_count": 3,
   "id": "2ce2dd6a",
   "metadata": {},
   "outputs": [
    {
     "name": "stdout",
     "output_type": "stream",
     "text": [
      "The squares of [1, 2, 3, 4, 5] are: [1, 4, 9, 16, 25]\n"
     ]
    }
   ],
   "source": [
    "# 3. Implement a Python function that takes a list of integers and returns a new list containing the squares of each number. \n",
    "\n",
    "def square_numbers(numbers):\n",
    "    return [num ** 2 for num in numbers]\n",
    "\n",
    "numbers = [1, 2, 3, 4, 5]\n",
    "result = square_numbers(numbers)\n",
    "print(f\"The squares of {numbers} are: {result}\")"
   ]
  },
  {
   "cell_type": "code",
   "execution_count": 4,
   "id": "bc86f237",
   "metadata": {},
   "outputs": [
    {
     "name": "stdout",
     "output_type": "stream",
     "text": [
      "Prime numbers from 1 to 200 are:\n",
      "[2, 3, 5, 7, 11, 13, 17, 19, 23, 29, 31, 37, 41, 43, 47, 53, 59, 61, 67, 71, 73, 79, 83, 89, 97, 101, 103, 107, 109, 113, 127, 131, 137, 139, 149, 151, 157, 163, 167, 173, 179, 181, 191, 193, 197, 199]\n"
     ]
    }
   ],
   "source": [
    "# 4. Write a Python function that checks if a given number is prime or not from 1 to 200. \n",
    "\n",
    "def is_prime(num):\n",
    "    if num < 2:\n",
    "        return False\n",
    "    for i in range(2, int(num ** 0.5) + 1):\n",
    "        if num % i == 0:\n",
    "            return False\n",
    "    return True\n",
    "\n",
    "primes = [num for num in range(1, 201) if is_prime(num)]\n",
    "print(f\"Prime numbers from 1 to 200 are:\\n{primes}\")"
   ]
  },
  {
   "cell_type": "code",
   "execution_count": 14,
   "id": "4cf77ec9",
   "metadata": {},
   "outputs": [
    {
     "name": "stdout",
     "output_type": "stream",
     "text": [
      "The first 10 terms of the Fibonacci sequence are:\n",
      "[0, 1, 1, 2, 3, 5, 8, 13, 21, 34]\n"
     ]
    }
   ],
   "source": [
    "# 5. Create an iterator class in Python that generates the Fibonacci sequence up to a specified number of terms. \n",
    "\n",
    "def fibonacci(n):\n",
    "    a, b = 0, 1\n",
    "    for _ in range(n):\n",
    "        yield a\n",
    "        a, b = b, a + b\n",
    "\n",
    "terms = 10\n",
    "fibonacci_sequence = list(fibonacci(terms))\n",
    "print(f\"The first {terms} terms of the Fibonacci sequence are:\\n{fibonacci_sequence}\")"
   ]
  },
  {
   "cell_type": "code",
   "execution_count": 6,
   "id": "6a5deb7b",
   "metadata": {},
   "outputs": [
    {
     "name": "stdout",
     "output_type": "stream",
     "text": [
      "The powers of 2 up to 2^5 are: [1, 2, 4, 8, 16, 32]\n"
     ]
    }
   ],
   "source": [
    "# 6. Write a generator function in Python that yields the power powers of 2 up to a given exponent.\n",
    "\n",
    "def power_of_two(exponent):\n",
    "    for i in range(exponent + 1):\n",
    "        yield 2 ** i\n",
    "\n",
    "exponent = 5\n",
    "powers_of_two = list(power_of_two(exponent))\n",
    "print(f\"The powers of 2 up to 2^{exponent} are: {powers_of_two}\")"
   ]
  },
  {
   "cell_type": "code",
   "execution_count": 7,
   "id": "67e24b62",
   "metadata": {},
   "outputs": [
    {
     "name": "stdout",
     "output_type": "stream",
     "text": [
      "I am a Student\n",
      "Data Science Enthusiast\n",
      "Currently seeking jobs at Data Science roles\n"
     ]
    }
   ],
   "source": [
    "# 7. Implement a generator function that reads a file line by line and yields each line as a string. \n",
    "\n",
    "def read_file_line_by_line(file_path):\n",
    "    with open(file_path, 'r') as file:\n",
    "        for line in file:\n",
    "            yield line.strip()\n",
    "\n",
    "file_path = 'example.txt'  # Replace with your file path\n",
    "for line in read_file_line_by_line(file_path):\n",
    "    print(line)"
   ]
  },
  {
   "cell_type": "code",
   "execution_count": 8,
   "id": "80c32794",
   "metadata": {},
   "outputs": [
    {
     "name": "stdout",
     "output_type": "stream",
     "text": [
      "Sorted tuples based on the second element: [(2, 1), (3, 2), (1, 3)]\n"
     ]
    }
   ],
   "source": [
    "# 8. Use a lambda function in Python to sort a list of tuples based on the second element of each tuple. \n",
    "\n",
    "def sort_tuples(tuples_list):\n",
    "    return sorted(tuples_list, key=lambda x: x[1])\n",
    "\n",
    "tuples_list = [(1, 3), (2, 1), (3, 2)]\n",
    "sorted_tuples = sort_tuples(tuples_list)\n",
    "print(f\"Sorted tuples based on the second element: {sorted_tuples}\")"
   ]
  },
  {
   "cell_type": "code",
   "execution_count": 16,
   "id": "f9fcf9c1",
   "metadata": {},
   "outputs": [
    {
     "name": "stdout",
     "output_type": "stream",
     "text": [
      "Celsius temperatures: [0, 20, 37, 100]\n",
      "Fahrenheit temperatures: [32.0, 68.0, 98.6, 212.0]\n"
     ]
    }
   ],
   "source": [
    "# 9. Write a Python program that uses map() to convert a list of temperatures from Celsius to Fahrenheit. \n",
    "\n",
    "def celsius_to_fahrenheit(celsius):\n",
    "    return (celsius * 9/5) + 32\n",
    "\n",
    "celsius_temperatures = [0, 20, 37, 100]\n",
    "fahrenheit_temperatures = list(map(celsius_to_fahrenheit, celsius_temperatures))\n",
    "print(f\"Celsius temperatures: {celsius_temperatures}\")\n",
    "print(f\"Fahrenheit temperatures: {fahrenheit_temperatures}\")"
   ]
  },
  {
   "cell_type": "code",
   "execution_count": 10,
   "id": "3c747151",
   "metadata": {},
   "outputs": [
    {
     "name": "stdout",
     "output_type": "stream",
     "text": [
      "String after removing vowels from 'Hello, World!' is: 'Hll, Wrld!'\n"
     ]
    }
   ],
   "source": [
    "# 10. Create a Python program that uses filter() to remove all the vowels from a given string.\n",
    "\n",
    "def remove_vowels(string):\n",
    "    vowels = 'aeiouAEIOU'\n",
    "    return ''.join(filter(lambda x: x not in vowels, string))\n",
    "\n",
    "input_string = \"Hello, World!\"\n",
    "result = remove_vowels(input_string)\n",
    "print(f\"String after removing vowels from '{input_string}' is: '{result}'\")"
   ]
  },
  {
   "cell_type": "code",
   "execution_count": 11,
   "id": "43585377",
   "metadata": {},
   "outputs": [
    {
     "name": "stdout",
     "output_type": "stream",
     "text": [
      "[(34587, 163.8), (98762, 284.0), (77226, 108.85), (88112, 84.97)]\n"
     ]
    }
   ],
   "source": [
    "# 11. Imagine an accounting routine used in a book shop. It works on a list with sublists, \n",
    "# which look like this: \n",
    "# \n",
    "# Order Number  Book Title and Author               Quantity    Price per Item\n",
    "# 34587         Learning Python, Mark Lutz              4           40.95\n",
    "# 98762         Programming Python, Mark Lutz           5           56.80\n",
    "# 77226         Head First Python, Paul Barry           3           32.95\n",
    "# 88112         Einführung in Python3, Bernd Klein      3           24.99\n",
    "# \n",
    "# Write a Python program, which returns a list with 2-tuples. \n",
    "# Each tuple consists of the order number and the product of the price per item and the quantity. \n",
    "# The product should be increased by 10, if the value of the order is smaller than 100.00 €. \n",
    "# \n",
    "# Write a Python program using lambda and map.\n",
    "\n",
    "orders = [\n",
    "    [34587, \"Learning Python, Mark Lutz\", 4, 40.95],\n",
    "    [98762, \"Programming Python, Mark Lutz\", 5, 56.80],\n",
    "    [77226, \"Head First Python, Paul Barry\", 3, 32.95],\n",
    "    [88112, \"Einführung in Python3, Bernd Klein\", 3, 24.99]\n",
    "]\n",
    "\n",
    "# Result in 2 decimal precision\n",
    "result = list(map(\n",
    "    lambda order: (\n",
    "        order[0],\n",
    "        round(order[2] * order[3] + (10 if order[2] * order[3] < 100 else 0), 2)\n",
    "    ),\n",
    "    orders\n",
    "))\n",
    "\n",
    "print(result)"
   ]
  }
 ],
 "metadata": {
  "kernelspec": {
   "display_name": "Python 3",
   "language": "python",
   "name": "python3"
  },
  "language_info": {
   "codemirror_mode": {
    "name": "ipython",
    "version": 3
   },
   "file_extension": ".py",
   "mimetype": "text/x-python",
   "name": "python",
   "nbconvert_exporter": "python",
   "pygments_lexer": "ipython3",
   "version": "3.12.9"
  }
 },
 "nbformat": 4,
 "nbformat_minor": 5
}
