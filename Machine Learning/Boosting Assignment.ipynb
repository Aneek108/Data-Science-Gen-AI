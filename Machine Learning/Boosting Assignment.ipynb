{
 "cells": [
  {
   "cell_type": "markdown",
   "id": "f2173892",
   "metadata": {},
   "source": [
    "# Boosting Assignment"
   ]
  },
  {
   "cell_type": "markdown",
   "id": "b50b2c99",
   "metadata": {},
   "source": [
    "---\n",
    "## 1. What is Boosting in Machine Learning? Explain how it improves weak learners."
   ]
  },
  {
   "cell_type": "markdown",
   "id": "7d30a8e9",
   "metadata": {},
   "source": [
    "**Boosting** is an **ensemble learning technique** that combines multiple **weak learners** (models that perform just slightly better than random guessing) to build a **strong learner** with high accuracy.\n",
    "\n",
    "### **How it works (intuitive idea)**:\n",
    "\n",
    "Instead of training all models independently (like in Bagging), Boosting trains models **sequentially**, where each new model tries to correct the mistakes made by the previous ones. The final prediction is made by **weighted voting (classification)** or **weighted averaging (regression)** of all the weak learners.\n",
    "\n",
    "### **How Boosting Improves Weak Learners?**\n",
    "\n",
    "1. **Sequential Training**:\n",
    "   Each new weak learner focuses more on the **hard-to-classify** examples (the ones where previous learners failed).\n",
    "\n",
    "2. **Reweighting Data Points**:\n",
    "\n",
    "   * Initially, all samples have equal weights.\n",
    "   * After each round, misclassified samples are given **higher weights**, making the next learner pay more attention to them.\n",
    "\n",
    "3. **Model Combination**:\n",
    "\n",
    "   * Each weak learner gets a weight based on its accuracy.\n",
    "   * The final prediction is the **weighted sum of all learners**, which balances errors and improves performance.\n",
    "\n",
    "### **Example (AdaBoost idea in simple terms)**\n",
    "\n",
    "* Start with a weak model (e.g., a shallow decision tree).\n",
    "* Check which points are misclassified.\n",
    "* Increase their weights so the next tree focuses more on them.\n",
    "* Repeat for several rounds.\n",
    "* Combine all trees’ predictions using weighted voting.\n",
    "\n",
    "This way, a set of weak models (like small trees) comes together to make a **very strong predictive model**."
   ]
  },
  {
   "cell_type": "markdown",
   "id": "0246e006",
   "metadata": {},
   "source": [
    "---\n",
    "## 2. What is the difference between AdaBoost and Gradient Boosting in terms of how models are trained?"
   ]
  },
  {
   "cell_type": "markdown",
   "id": "1da5c667",
   "metadata": {},
   "source": [
    "### **1. AdaBoost (Adaptive Boosting)**\n",
    "\n",
    "* **Idea**: Adjusts the **weights of training samples**.\n",
    "* **Training Process**:\n",
    "\n",
    "  1. Train a weak learner (e.g., decision stump).\n",
    "  2. Assign higher weights to **misclassified samples** so that the next learner focuses on them.\n",
    "  3. Combine learners with **weights based on their accuracy**.\n",
    "* **Error Handling**: Focuses directly on **hard-to-classify samples** by reweighting them.\n",
    "\n",
    "### **2. Gradient Boosting**\n",
    "\n",
    "* **Idea**: Learns by **minimizing the loss function** using gradient descent.\n",
    "* **Training Process**:\n",
    "\n",
    "  1. Start with an initial prediction (like the mean for regression).\n",
    "  2. Calculate the **residuals (errors)** = actual − predicted.\n",
    "  3. Train the next weak learner to predict these residuals (the gradient of the loss).\n",
    "  4. Add this learner’s predictions to the model in a step-wise manner.\n",
    "* **Error Handling**: Focuses on **correcting prediction errors** by following the **gradient of the loss function**, not just reweighting samples.\n",
    "\n",
    "### **Key Difference**\n",
    "\n",
    "* **AdaBoost**: Sequentially reweights **samples** → harder examples get more attention.\n",
    "* **Gradient Boosting**: Sequentially fits learners to the **residual errors** (loss gradients) → directly reduces the overall error function."
   ]
  },
  {
   "cell_type": "markdown",
   "id": "131cc201",
   "metadata": {},
   "source": [
    "---\n",
    "## 3. How does regularization help in XGBoost?"
   ]
  },
  {
   "cell_type": "markdown",
   "id": "9e4ba01a",
   "metadata": {},
   "source": [
    "XGBoost (**Extreme Gradient Boosting**) is an advanced implementation of Gradient Boosting.\n",
    "One of the main reasons for its success is the use of **regularization**, which helps prevent **overfitting** and improves **generalization**.\n",
    "\n",
    "### **Types of Regularization in XGBoost:**\n",
    "\n",
    "1. **L1 Regularization (Lasso penalty)** – applied to leaf weights\n",
    "\n",
    "   * Encourages sparsity (many leaf weights shrink to zero).\n",
    "   * Helps in feature selection (irrelevant features get zero contribution).\n",
    "\n",
    "2. **L2 Regularization (Ridge penalty)** – applied to leaf weights\n",
    "\n",
    "   * Smooths leaf weights (avoids extremely large values).\n",
    "   * Makes the model more stable and less sensitive to noise.\n",
    "\n",
    "3. **Tree Constraints (structural regularization)**\n",
    "\n",
    "   * `max_depth`: Limits tree depth to avoid overly complex trees.\n",
    "   * `min_child_weight`: Ensures splits occur only if enough data supports them.\n",
    "   * `gamma`: Minimum loss reduction required to make a further split.\n",
    "\n",
    "### **How Regularization Helps?**\n",
    "\n",
    "* **Controls Model Complexity**: Prevents trees from growing too deep or assigning very large weights to leaves.\n",
    "* **Reduces Overfitting**: Keeps the model from memorizing training data.\n",
    "* **Improves Generalization**: Leads to better performance on unseen/test data.\n",
    "* **Encourages Sparsity**: By using L1 penalty, irrelevant features get pruned out."
   ]
  },
  {
   "cell_type": "markdown",
   "id": "6f1d1e82",
   "metadata": {},
   "source": [
    "---\n",
    "## 4. Why is CatBoost considered efficient for handling categorical data?"
   ]
  },
  {
   "cell_type": "markdown",
   "id": "ed871563",
   "metadata": {},
   "source": [
    "### **Problem with Categorical Features**\n",
    "\n",
    "Most ML algorithms (like XGBoost, LightGBM) require categorical features to be **preprocessed** (e.g., One-Hot Encoding or Label Encoding).\n",
    "\n",
    "* One-Hot Encoding → increases dimensionality a lot.\n",
    "* Label Encoding → imposes an **artificial order** that may not make sense.\n",
    "\n",
    "### **How CatBoost Solves This**\n",
    "\n",
    "CatBoost introduces a **special encoding technique** for categorical features called **“Ordered Target Statistics” (a.k.a. Ordered Encoding)**.\n",
    "\n",
    "* Instead of directly replacing categories with average target values (which can cause target leakage), CatBoost uses **permutations of the dataset** to encode categories **based only on past information**, avoiding leakage.\n",
    "* Example: If predicting whether a customer buys (1) or not (0), the category “City = Delhi” will be encoded using the **average label of Delhi from previous samples only**, not the whole dataset.\n",
    "\n",
    "### **Other Efficiency Features**\n",
    "\n",
    "* **Handles high-cardinality categorical features well** (e.g., thousands of categories).\n",
    "* **Less preprocessing needed** → You can feed raw categorical data directly.\n",
    "* **Symmetric Tree Structure** → Faster training and better memory efficiency.\n",
    "* **Reduces Overfitting** → Thanks to ordered encoding + random permutations.\n",
    "\n",
    "### **Benefits**\n",
    "\n",
    "* Saves time by eliminating the need for heavy preprocessing.\n",
    "* More accurate representation of categorical variables.\n",
    "* Efficient for large datasets with many categorical features."
   ]
  },
  {
   "cell_type": "markdown",
   "id": "5d0eda7e",
   "metadata": {},
   "source": [
    "---\n",
    "## 5. What are some real-world applications where boosting techniques are preferred over bagging methods?"
   ]
  },
  {
   "cell_type": "markdown",
   "id": "fbc5ca43",
   "metadata": {},
   "source": [
    "Boosting methods (like AdaBoost, Gradient Boosting, XGBoost, CatBoost, LightGBM) are often chosen when the task needs **high accuracy, interpretability of feature importance, and the ability to handle complex relationships**.\n",
    "\n",
    "### **1. Finance & Banking**\n",
    "\n",
    "* **Credit Scoring**: Predicting whether a loan applicant will default.\n",
    "* **Fraud Detection**: Identifying unusual transaction patterns.\n",
    "* 🔑 Why Boosting? → Captures subtle patterns in imbalanced datasets better than bagging.\n",
    "\n",
    "### **2. Healthcare**\n",
    "\n",
    "* **Disease Prediction**: Predicting diabetes, cancer risk, heart disease.\n",
    "* **Medical Image Classification**: Detecting anomalies in scans.\n",
    "* 🔑 Why Boosting? → Handles noisy and imbalanced medical datasets with higher precision.\n",
    "\n",
    "### **3. Marketing & E-commerce**\n",
    "\n",
    "* **Customer Churn Prediction**: Finding customers likely to stop using a service.\n",
    "* **Product Recommendation Systems**: Predicting what a customer is likely to buy.\n",
    "* 🔑 Why Boosting? → Learns complex customer behavior patterns better than bagging.\n",
    "\n",
    "### **4. Cybersecurity**\n",
    "\n",
    "* **Spam Email Detection**\n",
    "* **Intrusion Detection Systems (IDS)**\n",
    "* 🔑 Why Boosting? → Handles rare but critical attack patterns more effectively.\n",
    "\n",
    "### **5. Competitions & Industry Benchmarks**\n",
    "\n",
    "* **Kaggle Competitions**: Boosting (especially XGBoost, LightGBM, CatBoost) is often the **go-to choice** because it consistently achieves top leaderboard scores.\n",
    "* 🔑 Why Boosting? → High accuracy and flexibility with feature types.\n",
    "\n",
    "### **Key Difference in Choice**\n",
    "\n",
    "* **Bagging (e.g., Random Forest)**: Better when interpretability and stability are needed, works well with noisy features.\n",
    "* **Boosting (e.g., XGBoost, CatBoost)**: Preferred when **highest accuracy** is the priority, especially with **imbalanced or complex datasets**."
   ]
  },
  {
   "cell_type": "markdown",
   "id": "56c23f95",
   "metadata": {},
   "source": [
    "---\n",
    "## 6. Write a Python program to:\n",
    "> * #### Train an AdaBoost Classifier on the Breast Cancer dataset\n",
    "> * #### Print the model accuracy"
   ]
  },
  {
   "cell_type": "code",
   "execution_count": 1,
   "id": "81d33c57",
   "metadata": {},
   "outputs": [
    {
     "name": "stdout",
     "output_type": "stream",
     "text": [
      "AdaBoost Classifier Accuracy: 0.9649122807017544\n"
     ]
    }
   ],
   "source": [
    "# Import necessary libraries\n",
    "from sklearn.datasets import load_breast_cancer\n",
    "from sklearn.model_selection import train_test_split\n",
    "from sklearn.ensemble import AdaBoostClassifier\n",
    "from sklearn.metrics import accuracy_score\n",
    "\n",
    "# Load the dataset\n",
    "data = load_breast_cancer()\n",
    "X, y = data.data, data.target\n",
    "\n",
    "# Split into train and test sets\n",
    "X_train, X_test, y_train, y_test = train_test_split(X, y, test_size=0.2, random_state=42)\n",
    "\n",
    "# Initialize AdaBoost classifier\n",
    "model = AdaBoostClassifier(n_estimators=50, random_state=42)\n",
    "\n",
    "# Train the model\n",
    "model.fit(X_train, y_train)\n",
    "\n",
    "# Make predictions\n",
    "y_pred = model.predict(X_test)\n",
    "\n",
    "# Evaluate accuracy\n",
    "accuracy = accuracy_score(y_test, y_pred)\n",
    "print(\"AdaBoost Classifier Accuracy:\", accuracy)"
   ]
  },
  {
   "cell_type": "markdown",
   "id": "60f74416",
   "metadata": {},
   "source": [
    "---\n",
    "## 7. Write a Python program to:\n",
    "> * #### Train a Gradient Boosting Regressor on the California Housing dataset\n",
    "> * #### Evaluate performance using R-squared score"
   ]
  },
  {
   "cell_type": "code",
   "execution_count": 2,
   "id": "2d373e66",
   "metadata": {},
   "outputs": [
    {
     "name": "stdout",
     "output_type": "stream",
     "text": [
      "Gradient Boosting Regressor R-squared score: 0.8004451261281281\n"
     ]
    }
   ],
   "source": [
    "# Import necessary libraries\n",
    "from sklearn.datasets import fetch_california_housing\n",
    "from sklearn.ensemble import GradientBoostingRegressor\n",
    "from sklearn.metrics import r2_score\n",
    "\n",
    "# Load California Housing dataset\n",
    "data = fetch_california_housing()\n",
    "X, y = data.data, data.target\n",
    "\n",
    "# Split into train and test sets\n",
    "X_train, X_test, y_train, y_test = train_test_split(X, y, test_size=0.2, random_state=42)\n",
    "\n",
    "# Initialize Gradient Boosting Regressor\n",
    "model = GradientBoostingRegressor(n_estimators=200, learning_rate=0.1, max_depth=3, random_state=42)\n",
    "\n",
    "# Train the model\n",
    "model.fit(X_train, y_train)\n",
    "\n",
    "# Make predictions\n",
    "y_pred = model.predict(X_test)\n",
    "\n",
    "# Evaluate performance using R-squared score\n",
    "r2 = r2_score(y_test, y_pred)\n",
    "print(\"Gradient Boosting Regressor R-squared score:\", r2)"
   ]
  },
  {
   "cell_type": "markdown",
   "id": "ddd6aefd",
   "metadata": {},
   "source": [
    "---\n",
    "## 8. Write a Python program to:\n",
    "> * #### Train an XGBoost Classifier on the Breast Cancer dataset\n",
    "> * #### Tune the learning rate using GridSearchCV\n",
    "> * #### Print the best parameters and accuracy"
   ]
  },
  {
   "cell_type": "code",
   "execution_count": 3,
   "id": "f146c81b",
   "metadata": {},
   "outputs": [
    {
     "name": "stdout",
     "output_type": "stream",
     "text": [
      "Best Parameters: {'learning_rate': 0.2}\n",
      "XGBoost Classifier Accuracy: 0.956140350877193\n"
     ]
    },
    {
     "name": "stderr",
     "output_type": "stream",
     "text": [
      "c:\\Users\\saswa\\AppData\\Local\\Programs\\Python\\Python312\\Lib\\site-packages\\xgboost\\training.py:183: UserWarning: [19:48:42] WARNING: C:\\actions-runner\\_work\\xgboost\\xgboost\\src\\learner.cc:738: \n",
      "Parameters: { \"use_label_encoder\" } are not used.\n",
      "\n",
      "  bst.update(dtrain, iteration=i, fobj=obj)\n"
     ]
    }
   ],
   "source": [
    "from sklearn.model_selection import GridSearchCV\n",
    "from xgboost import XGBClassifier\n",
    "\n",
    "# Load the dataset\n",
    "data = load_breast_cancer()\n",
    "X, y = data.data, data.target\n",
    "\n",
    "# Split into train and test sets\n",
    "X_train, X_test, y_train, y_test = train_test_split(X, y, test_size=0.2, random_state=42)\n",
    "\n",
    "# Define XGBoost classifier\n",
    "xgb_model = XGBClassifier(use_label_encoder=False, eval_metric='logloss', random_state=42)\n",
    "\n",
    "# Define parameter grid for learning rate tuning\n",
    "param_grid = {\n",
    "    'learning_rate': [0.01, 0.05, 0.1, 0.2, 0.3]\n",
    "}\n",
    "\n",
    "# Perform GridSearchCV\n",
    "grid_search = GridSearchCV(\n",
    "    estimator=xgb_model,\n",
    "    param_grid=param_grid,\n",
    "    cv=5,\n",
    "    scoring='accuracy',\n",
    "    n_jobs=-1\n",
    ")\n",
    "\n",
    "# Fit the model\n",
    "grid_search.fit(X_train, y_train)\n",
    "\n",
    "# Get the best parameters and model\n",
    "best_params = grid_search.best_params_\n",
    "best_model = grid_search.best_estimator_\n",
    "\n",
    "# Make predictions\n",
    "y_pred = best_model.predict(X_test)\n",
    "\n",
    "# Evaluate accuracy\n",
    "accuracy = accuracy_score(y_test, y_pred)\n",
    "\n",
    "print(\"Best Parameters:\", best_params)\n",
    "print(\"XGBoost Classifier Accuracy:\", accuracy)"
   ]
  },
  {
   "cell_type": "markdown",
   "id": "8ae7fb14",
   "metadata": {},
   "source": [
    "---\n",
    "## 9. Write a Python program to:\n",
    "> * #### Train a CatBoost Classifier\n",
    "> * #### Plot the confusion matrix using seaborn"
   ]
  },
  {
   "cell_type": "code",
   "execution_count": 4,
   "id": "bc184fef",
   "metadata": {},
   "outputs": [
    {
     "name": "stdout",
     "output_type": "stream",
     "text": [
      "CatBoost Classifier Accuracy: 0.9649122807017544\n"
     ]
    },
    {
     "data": {
      "image/png": "[encoded data removed]",
      "text/plain": [
       "<Figure size 600x400 with 2 Axes>"
      ]
     },
     "metadata": {},
     "output_type": "display_data"
    }
   ],
   "source": [
    "from sklearn.metrics import confusion_matrix\n",
    "from catboost import CatBoostClassifier\n",
    "import seaborn as sns\n",
    "import matplotlib.pyplot as plt\n",
    "\n",
    "# Load dataset\n",
    "data = load_breast_cancer()\n",
    "X, y = data.data, data.target\n",
    "\n",
    "# Split into train and test sets\n",
    "X_train, X_test, y_train, y_test = train_test_split(X, y, test_size=0.2, random_state=42)\n",
    "\n",
    "# Initialize CatBoost Classifier (silent mode)\n",
    "model = CatBoostClassifier(iterations=200, learning_rate=0.1, depth=6, verbose=0, random_state=42)\n",
    "\n",
    "# Train the model\n",
    "model.fit(X_train, y_train)\n",
    "\n",
    "# Predictions\n",
    "y_pred = model.predict(X_test)\n",
    "\n",
    "# Accuracy\n",
    "accuracy = accuracy_score(y_test, y_pred)\n",
    "print(\"CatBoost Classifier Accuracy:\", accuracy)\n",
    "\n",
    "# Confusion Matrix\n",
    "cm = confusion_matrix(y_test, y_pred)\n",
    "\n",
    "# Plot using seaborn\n",
    "plt.figure(figsize=(6,4))\n",
    "sns.heatmap(\n",
    "    cm, \n",
    "    annot=True, \n",
    "    fmt=\"d\", \n",
    "    cmap=\"Blues\",\n",
    "    xticklabels=data.target_names,\n",
    "    yticklabels=data.target_names\n",
    ")\n",
    "plt.xlabel(\"Predicted\")\n",
    "plt.ylabel(\"Actual\")\n",
    "plt.title(\"Confusion Matrix - CatBoost Classifier\")\n",
    "plt.show()"
   ]
  },
  {
   "cell_type": "markdown",
   "id": "23f5d0ab",
   "metadata": {},
   "source": [
    "---\n",
    "## 10. You're working for a FinTech company trying to predict loan default using customer demographics and transaction behavior.The dataset is imbalanced, contains missing values, and has both numeric and categorical features.Describe your step-by-step data science pipeline using boosting techniques:\n",
    "> * #### Data preprocessing & handling missing/categorical values\n",
    "> * #### Choice between AdaBoost, XGBoost, or CatBoost\n",
    "> * #### Hyperparameter tuning strategy\n",
    "> * #### Evaluation metrics you'd choose and why\n",
    "> * #### How the business would benefit from your model"
   ]
  },
  {
   "cell_type": "markdown",
   "id": "7b56d6b8",
   "metadata": {},
   "source": [
    "### **1. Data Preprocessing**\n",
    "\n",
    "* **Handle Missing Values**:\n",
    "\n",
    "  * Numeric features → impute with median (robust to outliers).\n",
    "  * Categorical features → impute with most frequent category or “Unknown”.\n",
    "* **Handle Categorical Features**:\n",
    "\n",
    "  * If using **CatBoost** → feed raw categorical features directly.\n",
    "  * If using XGBoost/AdaBoost → use **One-Hot Encoding** (low-cardinality) or **Target Encoding** (high-cardinality).\n",
    "* **Feature Scaling**: Not strictly needed for tree-based boosting models.\n",
    "* **Imbalance Handling**:\n",
    "\n",
    "  * Use **SMOTE / Random Oversampling** or\n",
    "  * Use **class weights** (available in XGBoost and CatBoost).\n",
    "\n",
    "### **2. Model Choice**\n",
    "\n",
    "* **AdaBoost**: Works well with simple datasets, but less efficient with high-cardinality categorical features.\n",
    "* **XGBoost**: Strong, flexible, handles imbalanced datasets well with `scale_pos_weight`.\n",
    "* **CatBoost**: Best suited here → because the dataset has **many categorical features and missing values**, CatBoost can **natively handle them without heavy preprocessing**.\n",
    "\n",
    "👉 **Choice**: **CatBoost Classifier** for simplicity + efficiency.\n",
    "\n",
    "### **3. Hyperparameter Tuning**\n",
    "\n",
    "* Use **GridSearchCV** or **RandomizedSearchCV** (or even **Bayesian Optimization** if dataset is large).\n",
    "* Key hyperparameters:\n",
    "\n",
    "  * `iterations` (number of trees)\n",
    "  * `learning_rate`\n",
    "  * `depth` (tree depth)\n",
    "  * `l2_leaf_reg` (regularization)\n",
    "  * `class_weights` (to handle imbalance)\n",
    "\n",
    "👉 Start with random search for a broad range, then fine-tune with grid search.\n",
    "\n",
    "### **4. Evaluation Metrics**\n",
    "\n",
    "Since the dataset is **imbalanced (loan default cases are rare)**:\n",
    "\n",
    "* **Primary Metric**:\n",
    "\n",
    "  * **AUC-ROC** → measures ability to separate defaulters vs non-defaulters.\n",
    "* **Secondary Metrics**:\n",
    "\n",
    "  * **Precision, Recall, F1-score** (especially recall is crucial → catching defaulters).\n",
    "  * **Confusion Matrix** to analyze false positives/false negatives.\n",
    "\n",
    "### **5. Business Impact**\n",
    "\n",
    "* **Reduced Risk**: Helps the company identify high-risk borrowers and adjust credit decisions.\n",
    "* **Better Profitability**: Approve more loans safely while minimizing defaults.\n",
    "* **Customer Insights**: Understand key features influencing defaults (age, income, spending patterns).\n",
    "* **Regulatory Compliance**: Transparent risk assessment improves trust and meets financial regulations."
   ]
  }
 ],
 "metadata": {
  "kernelspec": {
   "display_name": "Python 3",
   "language": "python",
   "name": "python3"
  },
  "language_info": {
   "codemirror_mode": {
    "name": "ipython",
    "version": 3
   },
   "file_extension": ".py",
   "mimetype": "text/x-python",
   "name": "python",
   "nbconvert_exporter": "python",
   "pygments_lexer": "ipython3",
   "version": "3.12.10"
  }
 },
 "nbformat": 4,
 "nbformat_minor": 5
}
